{
 "cells": [
  {
   "cell_type": "markdown",
   "id": "8cba3496-ff84-48a8-96ed-a60cdb407911",
   "metadata": {},
   "source": [
    "# Kaggle\n",
    "\n",
    "> Kaggle\n",
    "\n",
    "- skip_showdoc: true\n",
    "- skip_exec: true"
   ]
  },
  {
   "cell_type": "code",
   "execution_count": null,
   "id": "1b95a870-2c85-4106-94fd-4e6e2bfbace7",
   "metadata": {},
   "outputs": [
    {
     "name": "stdout",
     "output_type": "stream",
     "text": [
      "kaggle                    1.6.14\n",
      "Note: you may need to restart the kernel to use updated packages.\n"
     ]
    }
   ],
   "source": [
    "pip list | grep kaggle"
   ]
  },
  {
   "cell_type": "markdown",
   "id": "fefb3da2-ef5f-4774-8ec9-1c6b689e60fa",
   "metadata": {},
   "source": [
    "    mkdir -p ~/.kaggle"
   ]
  },
  {
   "cell_type": "markdown",
   "id": "f93e1c2d-9747-4f48-86ae-1a7693330f65",
   "metadata": {},
   "source": [
    "    chmod 600 ~/.kaggle/kaggle.json\n"
   ]
  },
  {
   "cell_type": "code",
   "execution_count": null,
   "id": "ed0f53ab-a92f-4db3-9c08-f6ea5446944d",
   "metadata": {},
   "outputs": [],
   "source": [
    "import kaggle"
   ]
  },
  {
   "cell_type": "markdown",
   "id": "e5d5864b-3f48-4989-8200-438e557b49a1",
   "metadata": {},
   "source": [
    "## List Datasets"
   ]
  },
  {
   "cell_type": "code",
   "execution_count": null,
   "id": "eb3d6e20-cb93-4c11-88d8-28ef7be73c50",
   "metadata": {},
   "outputs": [
    {
     "name": "stdout",
     "output_type": "stream",
     "text": [
      "teocalvo/teomewhy-loyalty-system\n",
      "shreyanshverma27/online-sales-dataset-popular-marketplace-data\n",
      "damirdizdarevic/uefa-euro-2024-players\n",
      "anuchhetry/product-sales\n",
      "rabieelkharoua/air-quality-and-health-impact-dataset\n",
      "mayankanand2701/tesla-stock-price-dataset\n",
      "rabieelkharoua/students-performance-dataset\n",
      "informrohit1/smartphones-dataset\n",
      "muhammadroshaanriaz/e-commerce-trends-a-guide-to-leveraging-dataset\n",
      "rashadrmammadov/heart-disease-prediction\n",
      "rabieelkharoua/cancer-prediction-dataset\n",
      "darrylljk/worlds-best-universities-qs-rankings-2025\n",
      "rabieelkharoua/predict-liver-disease-1700-records-dataset\n",
      "programmerrdai/ai-computation-and-hardware-trends\n",
      "monisamir/global-salary-analysis\n",
      "rabieelkharoua/diabetes-health-dataset-analysis\n",
      "mexwell/pizza-sales\n",
      "rashadrmammadov/lung-cancer-prediction\n",
      "mjdskaggle/2024-population-projections-by-country\n",
      "shreyaskeote23/india-population-data\n"
     ]
    }
   ],
   "source": [
    "import kaggle\n",
    "\n",
    "# List datasets\n",
    "datasets = kaggle.api.dataset_list()\n",
    "for dataset in datasets:\n",
    "    print(dataset.ref)\n"
   ]
  },
  {
   "cell_type": "markdown",
   "id": "662103ac-c56f-4062-8069-244387975de3",
   "metadata": {},
   "source": [
    "## Search for a Dataset"
   ]
  },
  {
   "cell_type": "code",
   "execution_count": null,
   "id": "c9adee25-fc9f-481b-9f50-2291bc30202e",
   "metadata": {},
   "outputs": [
    {
     "name": "stdout",
     "output_type": "stream",
     "text": [
      "heptapod/titanic\n",
      "brendan45774/test-file\n",
      "azeembootwala/titanic\n",
      "yasserh/titanic-dataset\n",
      "rahulsah06/titanic\n",
      "shubhamgupta012/titanic-dataset\n",
      "fossouodonald/titaniccsv\n",
      "prkukunoor/TitanicDataset\n",
      "hesh97/titanicdataset-traincsv\n",
      "ibrahimelsayed182/titanic-dataset\n",
      "pavlofesenko/titanic-extended\n",
      "jamesleslie/titanic-cleaned-data\n",
      "broaniki/titanic\n",
      "zain280/titanic-data-set\n",
      "sakshisatre/titanic-dataset\n",
      "kittisaks/testtitanic\n",
      "abhinavralhan/titanic\n",
      "vinicius150987/titanic3\n",
      "mahmoudshogaa/titanic-dataset\n",
      "ashishkumarjayswal/titanic-datasets\n"
     ]
    }
   ],
   "source": [
    "# Search for a specific dataset\n",
    "datasets = kaggle.api.dataset_list(search='titanic')\n",
    "for dataset in datasets:\n",
    "    print(dataset.ref)\n"
   ]
  },
  {
   "cell_type": "markdown",
   "id": "52b5e65a-ddf4-4f28-8847-3c9b95ee9b7d",
   "metadata": {},
   "source": [
    "## Download a Dataset"
   ]
  },
  {
   "cell_type": "code",
   "execution_count": null,
   "id": "46993f5d-ee2e-47fc-9020-db82ac69bfd2",
   "metadata": {},
   "outputs": [
    {
     "name": "stdout",
     "output_type": "stream",
     "text": [
      "Dataset URL: https://www.kaggle.com/datasets/heptapod/titanic\n"
     ]
    }
   ],
   "source": [
    "# Download the Titanic dataset\n",
    "kaggle.api.dataset_download_files('heptapod/titanic', path='Data/Dataset/titanic', unzip=True)\n"
   ]
  },
  {
   "cell_type": "markdown",
   "id": "e30f38b8-56a1-461d-8f05-640525268fc7",
   "metadata": {},
   "source": [
    "## List competitions"
   ]
  },
  {
   "cell_type": "code",
   "execution_count": null,
   "id": "b258376d-eb22-48f9-8d4f-329ec522e516",
   "metadata": {},
   "outputs": [
    {
     "name": "stdout",
     "output_type": "stream",
     "text": [
      "https://www.kaggle.com/competitions/arc-prize-2024\n",
      "https://www.kaggle.com/competitions/ai-mathematical-olympiad-prize\n",
      "https://www.kaggle.com/competitions/lmsys-chatbot-arena\n",
      "https://www.kaggle.com/competitions/learning-agency-lab-automated-essay-scoring-2\n",
      "https://www.kaggle.com/competitions/leash-BELKA\n",
      "https://www.kaggle.com/competitions/leap-atmospheric-physics-ai-climsim\n",
      "https://www.kaggle.com/competitions/rsna-2024-lumbar-spine-degenerative-classification\n",
      "https://www.kaggle.com/competitions/llm-20-questions\n",
      "https://www.kaggle.com/competitions/uspto-explainable-ai\n",
      "https://www.kaggle.com/competitions/playground-series-s4e6\n",
      "https://www.kaggle.com/competitions/titanic\n",
      "https://www.kaggle.com/competitions/house-prices-advanced-regression-techniques\n",
      "https://www.kaggle.com/competitions/spaceship-titanic\n",
      "https://www.kaggle.com/competitions/digit-recognizer\n",
      "https://www.kaggle.com/competitions/nlp-getting-started\n",
      "https://www.kaggle.com/competitions/store-sales-time-series-forecasting\n",
      "https://www.kaggle.com/competitions/connectx\n",
      "https://www.kaggle.com/competitions/gan-getting-started\n",
      "https://www.kaggle.com/competitions/tpu-getting-started\n",
      "https://www.kaggle.com/competitions/contradictory-my-dear-watson\n"
     ]
    }
   ],
   "source": [
    "competitions = kaggle.api.competitions_list()\n",
    "for competition in competitions:\n",
    "    print(competition.ref)"
   ]
  },
  {
   "cell_type": "markdown",
   "id": "78e459ec-779f-4592-9254-63e0d8d1b79e",
   "metadata": {},
   "source": [
    "## Download competition data"
   ]
  },
  {
   "cell_type": "code",
   "execution_count": null,
   "id": "3c897b8b-1ef2-4e6a-bfba-372cec524f57",
   "metadata": {},
   "outputs": [],
   "source": [
    "kaggle.api.competition_download_files('titanic', path='Data/Competition/titanic')"
   ]
  },
  {
   "cell_type": "markdown",
   "id": "33ff9a91-db2e-4a4b-8ade-1e68a84f3767",
   "metadata": {},
   "source": [
    "TODO:\n",
    "\n",
    "- Titanic\n",
    "- Digit recognizer\n",
    "- Store Sales\n",
    "- Competition"
   ]
  },
  {
   "cell_type": "code",
   "execution_count": null,
   "id": "3ff2d3b5-95a3-4a2d-bc22-d862d165b808",
   "metadata": {},
   "outputs": [],
   "source": [
    "from nbdevAuto import functions "
   ]
  },
  {
   "cell_type": "code",
   "execution_count": null,
   "id": "999c9616-47f4-438a-b2e2-5b2d44d50267",
   "metadata": {},
   "outputs": [
    {
     "data": {
      "text/plain": [
       "\u001b[0;31mSignature:\u001b[0m\n",
       "\u001b[0mfunctions\u001b[0m\u001b[0;34m.\u001b[0m\u001b[0mkaggle_competition_download\u001b[0m\u001b[0;34m(\u001b[0m\u001b[0;34m\u001b[0m\n",
       "\u001b[0;34m\u001b[0m    \u001b[0mname\u001b[0m\u001b[0;34m:\u001b[0m \u001b[0mstr\u001b[0m\u001b[0;34m,\u001b[0m\u001b[0;34m\u001b[0m\n",
       "\u001b[0;34m\u001b[0m    \u001b[0mfolderpath\u001b[0m\u001b[0;34m:\u001b[0m \u001b[0mstr\u001b[0m \u001b[0;34m=\u001b[0m \u001b[0;34m'./Data'\u001b[0m\u001b[0;34m,\u001b[0m\u001b[0;34m\u001b[0m\n",
       "\u001b[0;34m\u001b[0m\u001b[0;34m)\u001b[0m\u001b[0;34m\u001b[0m\u001b[0;34m\u001b[0m\u001b[0m\n",
       "\u001b[0;31mSource:\u001b[0m   \n",
       "\u001b[0;32mdef\u001b[0m \u001b[0mkaggle_competition_download\u001b[0m\u001b[0;34m(\u001b[0m\u001b[0mname\u001b[0m\u001b[0;34m:\u001b[0m\u001b[0mstr\u001b[0m\u001b[0;34m,\u001b[0m \u001b[0mfolderpath\u001b[0m\u001b[0;34m:\u001b[0m\u001b[0mstr\u001b[0m \u001b[0;34m=\u001b[0m \u001b[0;34m'./Data'\u001b[0m\u001b[0;34m)\u001b[0m\u001b[0;34m:\u001b[0m\u001b[0;34m\u001b[0m\n",
       "\u001b[0;34m\u001b[0m    \u001b[0;34m'download competition files from kaggle'\u001b[0m\u001b[0;34m\u001b[0m\n",
       "\u001b[0;34m\u001b[0m    \u001b[0;32mimport\u001b[0m \u001b[0mos\u001b[0m\u001b[0;34m\u001b[0m\n",
       "\u001b[0;34m\u001b[0m    \u001b[0;32mimport\u001b[0m \u001b[0mshutil\u001b[0m\u001b[0;34m\u001b[0m\n",
       "\u001b[0;34m\u001b[0m    \u001b[0;32mfrom\u001b[0m \u001b[0mpathlib\u001b[0m \u001b[0;32mimport\u001b[0m \u001b[0mPath\u001b[0m\u001b[0;34m\u001b[0m\n",
       "\u001b[0;34m\u001b[0m\u001b[0;34m\u001b[0m\n",
       "\u001b[0;34m\u001b[0m    \u001b[0;34m\u001b[0m\n",
       "\u001b[0;34m\u001b[0m    \u001b[0miskaggle\u001b[0m \u001b[0;34m=\u001b[0m \u001b[0mos\u001b[0m\u001b[0;34m.\u001b[0m\u001b[0menviron\u001b[0m\u001b[0;34m.\u001b[0m\u001b[0mget\u001b[0m\u001b[0;34m(\u001b[0m\u001b[0;34m'KAGGLE_KERNEL_RUN_TYPE'\u001b[0m\u001b[0;34m,\u001b[0m \u001b[0;34m''\u001b[0m\u001b[0;34m)\u001b[0m\u001b[0;34m\u001b[0m\n",
       "\u001b[0;34m\u001b[0m    \u001b[0;32mif\u001b[0m \u001b[0miskaggle\u001b[0m\u001b[0;34m:\u001b[0m \u001b[0mpath\u001b[0m \u001b[0;34m=\u001b[0m \u001b[0mPath\u001b[0m\u001b[0;34m(\u001b[0m\u001b[0;34mf'\u001b[0m\u001b[0;34m../input/\u001b[0m\u001b[0;34m{\u001b[0m\u001b[0mname\u001b[0m\u001b[0;34m}\u001b[0m\u001b[0;34m'\u001b[0m\u001b[0;34m)\u001b[0m\u001b[0;34m\u001b[0m\n",
       "\u001b[0;34m\u001b[0m    \u001b[0;32melse\u001b[0m\u001b[0;34m:\u001b[0m\u001b[0;34m\u001b[0m\n",
       "\u001b[0;34m\u001b[0m        \u001b[0mpath\u001b[0m \u001b[0;34m=\u001b[0m \u001b[0mPath\u001b[0m\u001b[0;34m(\u001b[0m\u001b[0;34mf'\u001b[0m\u001b[0;34m{\u001b[0m\u001b[0mfolderpath\u001b[0m\u001b[0;34m}\u001b[0m\u001b[0;34m/\u001b[0m\u001b[0;34m{\u001b[0m\u001b[0mname\u001b[0m\u001b[0;34m}\u001b[0m\u001b[0;34m'\u001b[0m\u001b[0;34m)\u001b[0m\u001b[0;34m\u001b[0m\n",
       "\u001b[0;34m\u001b[0m        \u001b[0;32mif\u001b[0m \u001b[0mpath\u001b[0m\u001b[0;34m.\u001b[0m\u001b[0mexists\u001b[0m\u001b[0;34m(\u001b[0m\u001b[0;34m)\u001b[0m\u001b[0;34m:\u001b[0m\u001b[0mprint\u001b[0m\u001b[0;34m(\u001b[0m\u001b[0;34m\"file exists\"\u001b[0m\u001b[0;34m)\u001b[0m\u001b[0;34m\u001b[0m\n",
       "\u001b[0;34m\u001b[0m        \u001b[0;32melse\u001b[0m\u001b[0;34m:\u001b[0m\u001b[0;34m\u001b[0m\n",
       "\u001b[0;34m\u001b[0m            \u001b[0;32mimport\u001b[0m \u001b[0mzipfile\u001b[0m\u001b[0;34m,\u001b[0m\u001b[0mkaggle\u001b[0m\u001b[0;34m\u001b[0m\n",
       "\u001b[0;34m\u001b[0m            \u001b[0mkaggle\u001b[0m\u001b[0;34m.\u001b[0m\u001b[0mapi\u001b[0m\u001b[0;34m.\u001b[0m\u001b[0mcompetition_download_cli\u001b[0m\u001b[0;34m(\u001b[0m\u001b[0mcompetition\u001b[0m \u001b[0;34m=\u001b[0m \u001b[0mname\u001b[0m\u001b[0;34m,\u001b[0m \u001b[0mpath\u001b[0m \u001b[0;34m=\u001b[0m \u001b[0mpath\u001b[0m\u001b[0;34m)\u001b[0m\u001b[0;34m\u001b[0m\n",
       "\u001b[0;34m\u001b[0m            \u001b[0mzipfile\u001b[0m\u001b[0;34m.\u001b[0m\u001b[0mZipFile\u001b[0m\u001b[0;34m(\u001b[0m\u001b[0;34mf'\u001b[0m\u001b[0;34m{\u001b[0m\u001b[0mpath\u001b[0m\u001b[0;34m}\u001b[0m\u001b[0;34m/\u001b[0m\u001b[0;34m{\u001b[0m\u001b[0mname\u001b[0m\u001b[0;34m}\u001b[0m\u001b[0;34m.zip\u001b[0m\u001b[0;34m'\u001b[0m\u001b[0;34m)\u001b[0m\u001b[0;34m.\u001b[0m\u001b[0mextractall\u001b[0m\u001b[0;34m(\u001b[0m\u001b[0mpath\u001b[0m\u001b[0;34m)\u001b[0m\u001b[0;34m\u001b[0m\u001b[0;34m\u001b[0m\u001b[0m\n",
       "\u001b[0;31mFile:\u001b[0m      ~/miniconda3/envs/pfast/lib/python3.12/site-packages/nbdevAuto/functions.py\n",
       "\u001b[0;31mType:\u001b[0m      function"
      ]
     },
     "metadata": {},
     "output_type": "display_data"
    }
   ],
   "source": [
    "functions.kaggle_competition_download??"
   ]
  },
  {
   "cell_type": "code",
   "execution_count": null,
   "id": "28af1caf-7412-4f15-a11e-f17e317e1855",
   "metadata": {},
   "outputs": [
    {
     "data": {
      "text/plain": [
       "\u001b[0;31mSignature:\u001b[0m\n",
       "\u001b[0mfunctions\u001b[0m\u001b[0;34m.\u001b[0m\u001b[0mkaggle_dataset_download\u001b[0m\u001b[0;34m(\u001b[0m\u001b[0;34m\u001b[0m\n",
       "\u001b[0;34m\u001b[0m    \u001b[0muser\u001b[0m\u001b[0;34m:\u001b[0m \u001b[0mstr\u001b[0m\u001b[0;34m,\u001b[0m\u001b[0;34m\u001b[0m\n",
       "\u001b[0;34m\u001b[0m    \u001b[0mname\u001b[0m\u001b[0;34m:\u001b[0m \u001b[0mstr\u001b[0m\u001b[0;34m,\u001b[0m\u001b[0;34m\u001b[0m\n",
       "\u001b[0;34m\u001b[0m    \u001b[0mfolderpath\u001b[0m\u001b[0;34m:\u001b[0m \u001b[0mstr\u001b[0m \u001b[0;34m=\u001b[0m \u001b[0;34m'./Data'\u001b[0m\u001b[0;34m,\u001b[0m\u001b[0;34m\u001b[0m\n",
       "\u001b[0;34m\u001b[0m\u001b[0;34m)\u001b[0m\u001b[0;34m\u001b[0m\u001b[0;34m\u001b[0m\u001b[0m\n",
       "\u001b[0;31mSource:\u001b[0m   \n",
       "\u001b[0;32mdef\u001b[0m \u001b[0mkaggle_dataset_download\u001b[0m\u001b[0;34m(\u001b[0m\u001b[0muser\u001b[0m\u001b[0;34m:\u001b[0m\u001b[0mstr\u001b[0m\u001b[0;34m,\u001b[0m\u001b[0;34m\u001b[0m\n",
       "\u001b[0;34m\u001b[0m                            \u001b[0mname\u001b[0m\u001b[0;34m:\u001b[0m\u001b[0mstr\u001b[0m\u001b[0;34m,\u001b[0m\u001b[0;34m\u001b[0m\n",
       "\u001b[0;34m\u001b[0m                            \u001b[0mfolderpath\u001b[0m\u001b[0;34m:\u001b[0m\u001b[0mstr\u001b[0m \u001b[0;34m=\u001b[0m \u001b[0;34m'./Data'\u001b[0m\u001b[0;34m)\u001b[0m\u001b[0;34m:\u001b[0m\u001b[0;34m\u001b[0m\n",
       "\u001b[0;34m\u001b[0m    \u001b[0;34m'download competition files from kaggle'\u001b[0m\u001b[0;34m\u001b[0m\n",
       "\u001b[0;34m\u001b[0m    \u001b[0;32mimport\u001b[0m \u001b[0mos\u001b[0m\u001b[0;34m\u001b[0m\n",
       "\u001b[0;34m\u001b[0m    \u001b[0;32mimport\u001b[0m \u001b[0mshutil\u001b[0m\u001b[0;34m\u001b[0m\n",
       "\u001b[0;34m\u001b[0m    \u001b[0;32mfrom\u001b[0m \u001b[0mpathlib\u001b[0m \u001b[0;32mimport\u001b[0m \u001b[0mPath\u001b[0m\u001b[0;34m\u001b[0m\n",
       "\u001b[0;34m\u001b[0m\u001b[0;34m\u001b[0m\n",
       "\u001b[0;34m\u001b[0m    \u001b[0miskaggle\u001b[0m \u001b[0;34m=\u001b[0m \u001b[0mos\u001b[0m\u001b[0;34m.\u001b[0m\u001b[0menviron\u001b[0m\u001b[0;34m.\u001b[0m\u001b[0mget\u001b[0m\u001b[0;34m(\u001b[0m\u001b[0;34m'KAGGLE_KERNEL_RUN_TYPE'\u001b[0m\u001b[0;34m,\u001b[0m \u001b[0;34m''\u001b[0m\u001b[0;34m)\u001b[0m\u001b[0;34m\u001b[0m\n",
       "\u001b[0;34m\u001b[0m    \u001b[0;32mif\u001b[0m \u001b[0miskaggle\u001b[0m\u001b[0;34m:\u001b[0m \u001b[0mpath\u001b[0m \u001b[0;34m=\u001b[0m \u001b[0mPath\u001b[0m\u001b[0;34m(\u001b[0m\u001b[0;34mf'\u001b[0m\u001b[0;34m../input/\u001b[0m\u001b[0;34m{\u001b[0m\u001b[0mname\u001b[0m\u001b[0;34m}\u001b[0m\u001b[0;34m'\u001b[0m\u001b[0;34m)\u001b[0m\u001b[0;34m\u001b[0m\n",
       "\u001b[0;34m\u001b[0m    \u001b[0;32melse\u001b[0m\u001b[0;34m:\u001b[0m\u001b[0;34m\u001b[0m\n",
       "\u001b[0;34m\u001b[0m        \u001b[0mpath\u001b[0m \u001b[0;34m=\u001b[0m \u001b[0mPath\u001b[0m\u001b[0;34m(\u001b[0m\u001b[0;34mf'\u001b[0m\u001b[0;34m{\u001b[0m\u001b[0mfolderpath\u001b[0m\u001b[0;34m}\u001b[0m\u001b[0;34m/\u001b[0m\u001b[0;34m{\u001b[0m\u001b[0mname\u001b[0m\u001b[0;34m}\u001b[0m\u001b[0;34m'\u001b[0m\u001b[0;34m)\u001b[0m\u001b[0;34m\u001b[0m\n",
       "\u001b[0;34m\u001b[0m        \u001b[0;32mif\u001b[0m \u001b[0mpath\u001b[0m\u001b[0;34m.\u001b[0m\u001b[0mexists\u001b[0m\u001b[0;34m(\u001b[0m\u001b[0;34m)\u001b[0m\u001b[0;34m:\u001b[0m\u001b[0mprint\u001b[0m\u001b[0;34m(\u001b[0m\u001b[0;34m\"file exists\"\u001b[0m\u001b[0;34m)\u001b[0m\u001b[0;34m\u001b[0m\n",
       "\u001b[0;34m\u001b[0m        \u001b[0;32melse\u001b[0m\u001b[0;34m:\u001b[0m\u001b[0;34m\u001b[0m\n",
       "\u001b[0;34m\u001b[0m            \u001b[0;32mimport\u001b[0m \u001b[0mzipfile\u001b[0m\u001b[0;34m,\u001b[0m\u001b[0mkaggle\u001b[0m\u001b[0;34m\u001b[0m\n",
       "\u001b[0;34m\u001b[0m            \u001b[0mkaggle\u001b[0m\u001b[0;34m.\u001b[0m\u001b[0mapi\u001b[0m\u001b[0;34m.\u001b[0m\u001b[0mdataset_download_files\u001b[0m\u001b[0;34m(\u001b[0m\u001b[0mdataset\u001b[0m \u001b[0;34m=\u001b[0m \u001b[0;34mf'\u001b[0m\u001b[0;34m{\u001b[0m\u001b[0muser\u001b[0m\u001b[0;34m}\u001b[0m\u001b[0;34m/\u001b[0m\u001b[0;34m{\u001b[0m\u001b[0mname\u001b[0m\u001b[0;34m}\u001b[0m\u001b[0;34m'\u001b[0m\u001b[0;34m,\u001b[0m \u001b[0mpath\u001b[0m \u001b[0;34m=\u001b[0m \u001b[0mpath\u001b[0m\u001b[0;34m)\u001b[0m\u001b[0;34m\u001b[0m\n",
       "\u001b[0;34m\u001b[0m            \u001b[0mzipfile\u001b[0m\u001b[0;34m.\u001b[0m\u001b[0mZipFile\u001b[0m\u001b[0;34m(\u001b[0m\u001b[0;34mf'\u001b[0m\u001b[0;34m{\u001b[0m\u001b[0mpath\u001b[0m\u001b[0;34m}\u001b[0m\u001b[0;34m/\u001b[0m\u001b[0;34m{\u001b[0m\u001b[0mname\u001b[0m\u001b[0;34m}\u001b[0m\u001b[0;34m.zip\u001b[0m\u001b[0;34m'\u001b[0m\u001b[0;34m)\u001b[0m\u001b[0;34m.\u001b[0m\u001b[0mextractall\u001b[0m\u001b[0;34m(\u001b[0m\u001b[0mpath\u001b[0m\u001b[0;34m)\u001b[0m\u001b[0;34m\u001b[0m\u001b[0;34m\u001b[0m\u001b[0m\n",
       "\u001b[0;31mFile:\u001b[0m      ~/miniconda3/envs/pfast/lib/python3.12/site-packages/nbdevAuto/functions.py\n",
       "\u001b[0;31mType:\u001b[0m      function"
      ]
     },
     "metadata": {},
     "output_type": "display_data"
    }
   ],
   "source": [
    "functions.kaggle_dataset_download?"
   ]
  },
  {
   "cell_type": "code",
   "execution_count": null,
   "id": "6111153e-937a-417c-adf0-04f2199ac5b2",
   "metadata": {},
   "outputs": [],
   "source": []
  }
 ],
 "metadata": {
  "kernelspec": {
   "display_name": "python3",
   "language": "python",
   "name": "python3"
  },
  "widgets": {
   "application/vnd.jupyter.widget-state+json": {
    "state": {},
    "version_major": 2,
    "version_minor": 0
   }
  }
 },
 "nbformat": 4,
 "nbformat_minor": 5
}
