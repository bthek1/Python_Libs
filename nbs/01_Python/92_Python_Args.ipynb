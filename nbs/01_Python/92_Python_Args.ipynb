{
 "cells": [
  {
   "cell_type": "markdown",
   "metadata": {},
   "source": [
    "# Python args\n",
    "\n",
    "> [argparse](https://docs.python.org/3/library/argparse.html)\n",
    "\n",
    "> [sys]()\n",
    "\n",
    "- skip_showdoc: true\n",
    "- skip_exec: true"
   ]
  },
  {
   "cell_type": "markdown",
   "metadata": {},
   "source": [
    "```python\n",
    "import argparse\n",
    "parser = argparse.ArgumentParser()\n",
    "parser.add_argument(\"square\", type=int,\n",
    "                    help=\"display a square of a given number\")\n",
    "parser.add_argument(\"-v\", \"--verbose\", action=\"store_true\",\n",
    "                    help=\"increase output verbosity\")\n",
    "args = parser.parse_args()\n",
    "answer = args.square**2\n",
    "if args.verbose:\n",
    "    print(f\"the square of {args.square} equals {answer}\")\n",
    "else:\n",
    "    print(answer)\n",
    "```"
   ]
  },
  {
   "cell_type": "markdown",
   "metadata": {},
   "source": [
    "```bash\n",
    ">> python prog.py\n",
    "usage: prog.py [-h] [-v] square\n",
    "prog.py: error: the following arguments are required: square\n",
    "\n",
    ">> python prog.py 4\n",
    "16\n",
    "\n",
    ">> python prog.py 4 --verbose\n",
    "the square of 4 equals 16\n",
    "\n",
    ">> python prog.py --verbose 4\n",
    "the square of 4 equals 16\n",
    "```"
   ]
  },
  {
   "cell_type": "code",
   "execution_count": null,
   "metadata": {},
   "outputs": [
    {
     "name": "stdout",
     "output_type": "stream",
     "text": [
      "import argparse\n",
      "from datetime import datetime\n",
      "\n",
      "def reformat_date(date_string):\n",
      "    date_object = datetime.strptime(date_string, '%d/%m/%Y')\n",
      "    return date_object.strftime('%Y-%m-%dT%H:%M:%SZ')\n",
      "\n",
      "def main(start, end):\n",
      "    if start != None:\n",
      "        print(\"Argument 1:\", reformat_date(start))\n",
      "    if end != None:\n",
      "        print(\"Argument 2:\", reformat_date(end))\n",
      "\n",
      "if __name__ == \"__main__\":\n",
      "    parser = argparse.ArgumentParser(description=\"\"\"Create models for users\n",
      "    Ex. python test.py -s 19/03/2024 -e 19/07/2024\"\"\")\n",
      "    parser.add_argument(\"-s\", \"--start_date\", type=str, help=\"Start Date ex. '19/03/2024'\")\n",
      "    parser.add_argument(\"-e\", \"--end_date\", type=str, help=\"End Date ex. '19/07/2024'\")\n",
      "    args = parser.parse_args()\n",
      "    main(args.start_date, args.end_date)"
     ]
    }
   ],
   "source": [
    "!cat 9_argparse_example.py"
   ]
  },
  {
   "cell_type": "code",
   "execution_count": null,
   "metadata": {},
   "outputs": [
    {
     "name": "stdout",
     "output_type": "stream",
     "text": [
      "usage: 9_argparse_example.py [-h] [-s START_DATE] [-e END_DATE]\n",
      "\n",
      "Create models for users Ex. python test.py -s 19/03/2024 -e 19/07/2024\n",
      "\n",
      "options:\n",
      "  -h, --help            show this help message and exit\n",
      "  -s START_DATE, --start_date START_DATE\n",
      "                        Start Date ex. '19/03/2024'\n",
      "  -e END_DATE, --end_date END_DATE\n",
      "                        End Date ex. '19/07/2024'\n"
     ]
    }
   ],
   "source": [
    "!python 9_argparse_example.py -h"
   ]
  },
  {
   "cell_type": "code",
   "execution_count": null,
   "metadata": {},
   "outputs": [
    {
     "name": "stdout",
     "output_type": "stream",
     "text": [
      "Argument 1: 2023-01-01T00:00:00Z\n",
      "Argument 2: 2024-01-01T00:00:00Z\n"
     ]
    }
   ],
   "source": [
    "!python 9_argparse_example.py -s 01/01/2023 -e 01/01/2024"
   ]
  },
  {
   "cell_type": "code",
   "execution_count": null,
   "metadata": {},
   "outputs": [
    {
     "name": "stdout",
     "output_type": "stream",
     "text": [
      "import sys\n",
      " \n",
      "# total arguments\n",
      "n = len(sys.argv)\n",
      "print(\"Total arguments passed:\", n)\n",
      " \n",
      "# Arguments passed\n",
      "print(\"\\nName of Python script:\", sys.argv[0])\n",
      " \n",
      "print(\"\\nArguments passed:\", end = \" \")\n",
      "for i in range(1, n):\n",
      "    print(sys.argv[i], end = \" \")\n",
      "     \n",
      "# Addition of numbers\n",
      "Sum = 0\n",
      "# Using argparse module\n",
      "for i in range(1, n):\n",
      "    Sum += int(sys.argv[i])\n",
      "     \n",
      "print(\"\\n\\nResult:\", Sum)"
     ]
    }
   ],
   "source": [
    "!cat 9_sys_example.py"
   ]
  },
  {
   "cell_type": "code",
   "execution_count": null,
   "metadata": {},
   "outputs": [
    {
     "name": "stdout",
     "output_type": "stream",
     "text": [
      "Total arguments passed: 3\n",
      "\n",
      "Name of Python script: 9_sys_example.py\n",
      "\n",
      "Arguments passed: 1 2 \n",
      "\n",
      "Result: 3\n"
     ]
    }
   ],
   "source": [
    "!python 9_sys_example.py 1 2"
   ]
  },
  {
   "cell_type": "code",
   "execution_count": null,
   "metadata": {},
   "outputs": [],
   "source": []
  }
 ],
 "metadata": {
  "kernelspec": {
   "display_name": "python3",
   "language": "python",
   "name": "python3"
  },
  "widgets": {
   "application/vnd.jupyter.widget-state+json": {
    "state": {},
    "version_major": 2,
    "version_minor": 0
   }
  }
 },
 "nbformat": 4,
 "nbformat_minor": 4
}
