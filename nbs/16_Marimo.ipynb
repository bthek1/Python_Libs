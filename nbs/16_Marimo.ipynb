{
 "cells": [
  {
   "cell_type": "markdown",
   "id": "a2be62f8-7e06-4672-ac87-fc6006ff9128",
   "metadata": {},
   "source": [
    "# Marimo\n",
    "\n",
    "> Here’s a full deep dive into **Marimo Python Notebooks**—what they are, how they work, use cases, and how they differ from traditional tools like JupyterLab.\n",
    "\n",
    "\n",
    "- skip_showdoc: true\n",
    "- skip_exec: true"
   ]
  },
  {
   "cell_type": "markdown",
   "id": "69a4c484-55bd-46ac-8fa6-cb167678ee2f",
   "metadata": {},
   "source": [
    "## 🧠 What Is Marimo?\n",
    "\n",
    "Marimo is an open‑source, **reactive Python notebook system** that reimagines how notebooks should operate:\n",
    "\n",
    "* Stored as pure `.py` files (not JSON `.ipynb`)\n",
    "* Reactive runtime: changes to code or UI trigger automatic updates to dependent cells\n",
    "* Designed for interactive data work with built-in UI widgets, SQL support, and AI tooling ([marimo.io][1], [cfp.scipy.org][2], [docs.marimo.io][3])\n",
    "\n",
    "---"
   ]
  },
  {
   "cell_type": "markdown",
   "id": "8708f133-81cc-489a-afde-75f7c8227596",
   "metadata": {},
   "source": [
    "## ⚡ Reaction Architecture\n",
    "\n",
    "* **Dependency-driven execution**: When you run a cell or interact with a widget, Marimo runs downstream cells—or marks them stale if you're in lazy mode ([docs.marimo.io][4])\n",
    "* No hidden state: deleting a cell deletes its variables from memory ([docs.marimo.io][4])\n",
    "* Execution order is topologically sorted based on variable definitions and references, not cell order on the page ([docs.marimo.io][4])\n",
    "\n",
    "---"
   ]
  },
  {
   "cell_type": "markdown",
   "id": "75b86550-0b61-4bcd-b5e1-e53d22bd4ca1",
   "metadata": {},
   "source": [
    "## 🛠️ Key Features\n",
    "\n",
    "| Feature             | Description                                                                                                                               |\n",
    "| ------------------- | ----------------------------------------------------------------------------------------------------------------------------------------- |\n",
    "| **File format**     | `.py` (fully git-friendly, diffable, mergeable) ([GitHub][5])                                                                             |\n",
    "| **Interactivity**   | Use UI widgets like sliders, dropdowns, data tables—no callbacks needed ([docs.marimo.io][4], [GitHub][5])                                |\n",
    "| **SQL-first**       | Native SQL cells for querying DuckDB, Postgres, CSVs, dataframes, etc. ([PyPI][6], [GitHub][5])                                           |\n",
    "| **AI-native**       | Integrated AI assistant and optional GitHub Copilot support for code suggestions and LLM generation ([marimo.io][1], [docs.marimo.io][7]) |\n",
    "| **Reproducibility** | Built-in sandboxing and package management; notebooks execute deterministically ([Real Python][8], [pretalx.northbaypython.org][9])       |\n",
    "| **Deployment**      | Serve read-only or interactive notebooks as web apps or export to HTML/WASM via CLI ([docs.marimo.io][10], [marimo.io][11])               |\n",
    "\n",
    "---"
   ]
  },
  {
   "cell_type": "markdown",
   "id": "4843dc3b-c7b0-4be7-9fbc-10c1ab7b9bbc",
   "metadata": {},
   "source": [
    "## ⚙️ Getting Started (Quickstart)\n",
    "\n",
    "```bash\n",
    "pip install marimo\n",
    "marimo tutorial intro\n",
    "```\n",
    "\n",
    "Then create a new notebook with:\n",
    "\n",
    "```bash\n",
    "marimo edit my_notebook.py\n",
    "```\n",
    "\n",
    "This launches an editor in your browser—cells are editable and reactive—no extra server needed ([marimo.io][11], [marimo.io][1]).\n",
    "\n",
    "You can also deploy it via:\n",
    "\n",
    "* `marimo run notebook.py` (serves as read-only app)\n",
    "* Export to WASM or static HTML\n",
    "* Run/test as a normal Python script ([GitHub][12], [docs.marimo.io][10])\n",
    "\n",
    "---"
   ]
  },
  {
   "cell_type": "markdown",
   "id": "07c8aac8-5277-4cdb-8ce7-c56f6ec025e1",
   "metadata": {},
   "source": [
    "## 🧩 Example Snapshot\n",
    "\n",
    "```python\n",
    "import marimo as mo\n",
    "\n",
    "slider = mo.ui.slider(label=\"x\", min=0, max=10, value=2)\n",
    "mo.display(mo.md(f\"Slider value: **{slider.value}**\"))\n",
    "\n",
    "@mo.react\n",
    "def square():\n",
    "    return slider.value ** 2\n",
    "```\n",
    "\n",
    "* Adjust slider → square() runs automatically\n",
    "* `mo.md(...)`, `mo.ui.slider(...)` generate reactive widgets and output ([docs.marimo.io][4])\n",
    "\n",
    "---"
   ]
  },
  {
   "cell_type": "markdown",
   "id": "5aa6be39-c8f5-478e-a0d6-1eab621f1883",
   "metadata": {},
   "source": [
    "## 👥 Who Uses Marimo?\n",
    "\n",
    "* Data scientists, analysts, AI engineers\n",
    "* Educators & students—used at places like Stanford—its interactivity suits teaching math, linear algebra, ML easily ([marimo.io][13], [marimo.io][14])\n",
    "\n",
    "---"
   ]
  },
  {
   "cell_type": "markdown",
   "id": "5e7aa402-accf-4601-b31c-ba230edbc5b2",
   "metadata": {},
   "source": [
    "## 🔄 Marimo vs. JupyterLab Summary\n",
    "\n",
    "| Aspect          | **Marimo**                                         | **JupyterLab**                                        |\n",
    "| --------------- | -------------------------------------------------- | ----------------------------------------------------- |\n",
    "| Format          | `.py` – plain text, git‑friendly                   | `.ipynb` – JSON, hard to diff                         |\n",
    "| Execution       | Reactive DAG-based updates, no hidden state        | Imperative: manual reruns often necessary             |\n",
    "| Widgets/UI      | Native UI with no callbacks required               | Uses `ipywidgets` with manual wiring                  |\n",
    "| Deployment      | CLI-based web apps, WASM exports, script execution | Requires external tools (Voila, nbconvert, Streamlit) |\n",
    "| Reproducibility | Deterministic, sandboxed, version-controlled       | Prone to hidden state bugs, dependency drift          |\n",
    "\n",
    "---"
   ]
  },
  {
   "cell_type": "markdown",
   "id": "0700bed4-ff78-4095-a3c4-54455e68ef5b",
   "metadata": {},
   "source": [
    "## 🚀 Advanced Use & Deployment\n",
    "\n",
    "* Generate AI-powered notebooks with `marimo new \"task description\"`—prompts can produce full notebooks using LLMs ([PyPI][15], [marimo.io][1], [GitHub][5], [docs.marimo.io][3], [docs.marimo.io][16])\n",
    "* Use **molab**—a free hosted cloud service to create, run, and share marimo notebooks like Google Colab, complete with RAM and package support ([marimo.io][11])\n",
    "* Deploy via Docker or behind ASGI servers for production or educational environments ([GitHub][5])\n",
    "\n",
    "---"
   ]
  },
  {
   "cell_type": "markdown",
   "id": "060f90df-3e91-4bae-b522-cbfaf105a4fe",
   "metadata": {},
   "source": [
    "## ✅ Final Takeaway\n",
    "\n",
    "Marimo is a modern alternative to JupyterLab, optimized for **reproducibility**, **reactivity**, **version control**, and **deployability**. It brings the best of notebooks, web apps, and scripting into one cohesive Python-native environment.\n",
    "\n",
    "Would you like:\n",
    "\n",
    "* A side-by-side working example in Marimo?\n",
    "* A notebook shared via molab to explore?\n",
    "* Tutorials for SQL workflows or AI-powered notebooks?\n",
    "\n",
    "I'm happy to get you started!\n",
    "\n",
    "[1]: https://marimo.io/?utm_source=chatgpt.com \"marimo | a next-generation Python notebook\"\n",
    "[2]: https://cfp.scipy.org/scipy2025/talk/CG8P37/?utm_source=chatgpt.com \"marimo: an open-source reactive Python notebook SciPy 2025\"\n",
    "[3]: https://docs.marimo.io/?utm_source=chatgpt.com \"marimo\"\n",
    "[4]: https://docs.marimo.io/getting_started/key_concepts/?utm_source=chatgpt.com \"Key Concepts - marimo\"\n",
    "[5]: https://github.com/marimo-team/marimo?utm_source=chatgpt.com \"marimo-team/marimo: A reactive notebook for Python - GitHub\"\n",
    "[6]: https://pypi.org/project/marimo/?utm_source=chatgpt.com \"marimo · PyPI\"\n",
    "[7]: https://docs.marimo.io/getting_started/quickstart/?utm_source=chatgpt.com \"Quickstart - marimo\"\n",
    "[8]: https://realpython.com/marimo-notebook/?utm_source=chatgpt.com \"marimo: A Reactive, Reproducible Notebook - Real Python\"\n",
    "[9]: https://pretalx.northbaypython.org/nbpy-2024/talk/LSLE9A/?utm_source=chatgpt.com \"marimo: an open-source reactive notebook for Python - North Bay Python\"\n",
    "[10]: https://docs.marimo.io/guides/deploying/?utm_source=chatgpt.com \"Deploy notebooks - marimo\"\n",
    "[11]: https://marimo.io/notebooks?utm_source=chatgpt.com \"molab | marimo\"\n",
    "[12]: https://github.com/mholub/marimo-notebook?utm_source=chatgpt.com \"mholub/marimo-notebook: A reactive notebook for Python - GitHub\"\n",
    "[13]: https://marimo.io/features?utm_source=chatgpt.com \"Features - marimo\"\n",
    "[14]: https://marimo.io/features/user-educator?utm_source=chatgpt.com \"Why educators love marimo | marimo\"\n",
    "[15]: https://pypi.org/project/marimo-base/?utm_source=chatgpt.com \"marimo-base · PyPI\"\n",
    "[16]: https://docs.marimo.io/guides/generate_with_ai/text_to_notebook/?utm_source=chatgpt.com \"Generate entire notebooks - marimo\""
   ]
  },
  {
   "cell_type": "code",
   "execution_count": null,
   "id": "e64edf51-2be9-475b-818a-06cdbf5edc1d",
   "metadata": {},
   "outputs": [],
   "source": []
  }
 ],
 "metadata": {
  "kernelspec": {
   "display_name": "python3",
   "language": "python",
   "name": "python3"
  }
 },
 "nbformat": 4,
 "nbformat_minor": 5
}
