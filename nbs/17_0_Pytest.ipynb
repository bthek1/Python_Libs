{
 "cells": [
  {
   "cell_type": "markdown",
   "id": "4831d88a-7bda-4687-bced-f8faea40f0d7",
   "metadata": {},
   "source": [
    "# Pytest\n",
    "\n",
    "> Here’s a **comprehensive and structured guide to `pytest`**, covering everything from basics to advanced features, plugins, and best practices — tailored for professional Python developers like yourself.\n",
    "\n",
    "- skip_showdoc: true\n",
    "- skip_exec: true"
   ]
  },
  {
   "cell_type": "markdown",
   "id": "8c01dd84-bee0-44a5-9dd4-01f435f7f2e3",
   "metadata": {},
   "source": [
    "## 🧰 1. What is `pytest`?\n",
    "\n",
    "**`pytest`** is a powerful, Pythonic testing framework used to write, run, and organize tests with **minimal boilerplate**.\n",
    "\n",
    "* Supports unit, integration, and functional testing\n",
    "* Works out-of-the-box with Python’s `assert`\n",
    "* Automatically discovers test files and functions\n",
    "\n",
    "---"
   ]
  },
  {
   "cell_type": "markdown",
   "id": "4886f80c-4d02-4d47-93c4-3e604fe222b1",
   "metadata": {},
   "source": [
    "## 🚀 2. Getting Started\n",
    "\n",
    "### 📦 Installation\n",
    "\n",
    "```bash\n",
    "pip install pytest\n",
    "```\n",
    "\n",
    "### 🏃 Running Tests\n",
    "\n",
    "```bash\n",
    "pytest                # Run all tests\n",
    "pytest test_file.py   # Run a specific file\n",
    "pytest -k \"name\"      # Run tests matching \"name\"\n",
    "```\n",
    "\n",
    "### 📄 File & Function Naming Conventions\n",
    "\n",
    "* Files: `test_*.py` or `*_test.py`\n",
    "* Functions: `test_*`\n",
    "\n",
    "---"
   ]
  },
  {
   "cell_type": "markdown",
   "id": "63130bc6-9dcf-4d7c-88f8-1e63a62591ad",
   "metadata": {},
   "source": [
    "## 🧪 3. Writing Basic Tests\n",
    "\n",
    "```python\n",
    "def add(x, y):\n",
    "    return x + y\n",
    "\n",
    "def test_add():\n",
    "    assert add(2, 3) == 5\n",
    "```\n",
    "\n",
    "### ✅ Advantages\n",
    "\n",
    "* No need for classes\n",
    "* No need for `self.assert*` syntax\n",
    "\n",
    "---"
   ]
  },
  {
   "cell_type": "markdown",
   "id": "0e9c9709-ce0c-4120-b5b1-d1890a2785f7",
   "metadata": {},
   "source": [
    "## ⚙️ 4. Fixtures\n",
    "\n",
    "Fixtures manage setup and teardown for tests. You can **reuse resources like DBs, clients, configs**.\n",
    "\n",
    "### Example:\n",
    "\n",
    "```python\n",
    "import pytest\n",
    "\n",
    "@pytest.fixture\n",
    "def sample_data():\n",
    "    return {\"x\": 10, \"y\": 20}\n",
    "\n",
    "def test_sum(sample_data):\n",
    "    assert sample_data[\"x\"] + sample_data[\"y\"] == 30\n",
    "```\n",
    "\n",
    "* Scope options: `function` (default), `class`, `module`, `session`\n",
    "\n",
    "---"
   ]
  },
  {
   "cell_type": "markdown",
   "id": "3a4fcd0c-5f1e-47ef-987d-f1c0d34bf6fc",
   "metadata": {},
   "source": [
    "## 🎯 5. Parametrization\n",
    "\n",
    "Write a single test function that runs with different inputs:\n",
    "\n",
    "```python\n",
    "import pytest\n",
    "\n",
    "@pytest.mark.parametrize(\"a,b,result\", [\n",
    "    (1, 1, 2),\n",
    "    (2, 3, 5),\n",
    "    (5, 5, 10)\n",
    "])\n",
    "def test_add(a, b, result):\n",
    "    assert a + b == result\n",
    "```\n",
    "\n",
    "---"
   ]
  },
  {
   "cell_type": "markdown",
   "id": "fd3c2ee1-397d-4692-b7a7-0b76cc5604e9",
   "metadata": {},
   "source": [
    "## 🧵 6. Grouping with Classes (Optional)\n",
    "\n",
    "\n",
    "```python\n",
    "class TestMath:\n",
    "    def test_add(self):\n",
    "        assert 1 + 2 == 3\n",
    "```\n",
    "\n",
    "* No need to inherit from `unittest.TestCase`\n",
    "\n",
    "---"
   ]
  },
  {
   "cell_type": "markdown",
   "id": "cc10105e-0e33-4de3-82e2-2d206fb4032b",
   "metadata": {},
   "source": [
    "## 🔌 7. Plugins & Extensions\n",
    "\n",
    "Some powerful plugins:\n",
    "\n",
    "| Plugin            | Purpose                       |\n",
    "| ----------------- | ----------------------------- |\n",
    "| `pytest-django`   | Django testing integration    |\n",
    "| `pytest-mock`     | Simplified mocking            |\n",
    "| `pytest-cov`      | Test coverage reporting       |\n",
    "| `pytest-xdist`    | Run tests in parallel         |\n",
    "| `pytest-asyncio`  | Support async tests           |\n",
    "| `pytest-env`      | Set env vars during test runs |\n",
    "| `pytest-randomly` | Randomize test order          |\n",
    "\n",
    "Install with:\n",
    "\n",
    "```bash\n",
    "pip install pytest-cov pytest-mock pytest-django\n",
    "```\n",
    "\n",
    "---"
   ]
  },
  {
   "cell_type": "markdown",
   "id": "094139bc-85b2-4d10-9b41-cdc31fb24934",
   "metadata": {},
   "source": [
    "## 📊 8. Coverage\n",
    "\n",
    "```bash\n",
    "pytest --cov=my_module\n",
    "```\n",
    "\n",
    "* Shows % of code covered by tests\n",
    "* Use `--cov-report=html` for an HTML report\n",
    "\n",
    "---"
   ]
  },
  {
   "cell_type": "markdown",
   "id": "83b093bf-b912-4b8b-a326-3a95eaa0a594",
   "metadata": {},
   "source": [
    "## 🧪 9. Mocks & Patching\n",
    "\n",
    "Use `pytest-mock` or `unittest.mock`:\n",
    "\n",
    "```python\n",
    "def test_api_call(mocker):\n",
    "    mock_request = mocker.patch(\"requests.get\")\n",
    "    mock_request.return_value.status_code = 200\n",
    "    ...\n",
    "```\n",
    "\n",
    "---"
   ]
  },
  {
   "cell_type": "markdown",
   "id": "65b00e4b-5dd8-4b96-b119-5bf6c9cd5861",
   "metadata": {},
   "source": [
    "## 🧪 10. Async Testing\n",
    "\n",
    "Install:\n",
    "\n",
    "```bash\n",
    "pip install pytest-asyncio\n",
    "```\n",
    "\n",
    "Then:\n",
    "\n",
    "```python\n",
    "import pytest\n",
    "import asyncio\n",
    "\n",
    "@pytest.mark.asyncio\n",
    "async def test_async_function():\n",
    "    result = await some_async_function()\n",
    "    assert result == \"done\"\n",
    "```\n",
    "\n",
    "---"
   ]
  },
  {
   "cell_type": "markdown",
   "id": "6b25594c-c23b-4b86-9353-3921df9034d9",
   "metadata": {},
   "source": [
    "## 🧪 11. Advanced CLI Options\n",
    "\n",
    "```bash\n",
    "pytest -x                  # Stop after first failure\n",
    "pytest -v                  # Verbose output\n",
    "pytest --tb=short          # Shorter tracebacks\n",
    "pytest -n auto             # Parallel test execution (requires `xdist`)\n",
    "```\n",
    "\n",
    "---"
   ]
  },
  {
   "cell_type": "markdown",
   "id": "77229e25-a9f6-4b20-8eab-b9910173109e",
   "metadata": {},
   "source": [
    "## 📁 12. Test Structure Example\n",
    "\n",
    "```\n",
    "my_project/\n",
    "├── app/\n",
    "│   └── logic.py\n",
    "├── tests/\n",
    "│   ├── conftest.py       # shared fixtures\n",
    "│   ├── test_logic.py\n",
    "│   └── test_api.py\n",
    "```\n",
    "\n",
    "---"
   ]
  },
  {
   "cell_type": "markdown",
   "id": "4b52d589-3689-411f-b07a-70d9034f74a7",
   "metadata": {},
   "source": [
    "## 📑 13. `conftest.py` – Centralized Fixtures\n",
    "\n",
    "```python\n",
    "# tests/conftest.py\n",
    "import pytest\n",
    "\n",
    "@pytest.fixture\n",
    "def config():\n",
    "    return {\"ENV\": \"test\"}\n",
    "```\n",
    "\n",
    "Auto-discovered across test files in the same directory tree.\n",
    "\n",
    "---"
   ]
  },
  {
   "cell_type": "markdown",
   "id": "04242c28-b6ec-4ecf-9c29-89e6652bfec5",
   "metadata": {},
   "source": [
    "## 🧪 14. Best Practices\n",
    "\n",
    "✅ Use descriptive test function names\n",
    "✅ Keep tests **fast, isolated, and repeatable**\n",
    "✅ Avoid hardcoding test data – use fixtures and parametrization\n",
    "✅ Use `pytest-cov` to ensure meaningful coverage\n",
    "✅ Run in CI pipelines (GitHub Actions, GitLab, etc.)\n",
    "✅ Structure tests like your app structure\n",
    "\n",
    "---"
   ]
  },
  {
   "cell_type": "markdown",
   "id": "d0f9ded3-1d34-4c1d-9c94-233e1a5762b5",
   "metadata": {},
   "source": [
    "## 🧰 15. CI/CD Integration\n",
    "\n",
    "```yaml\n",
    "# GitHub Actions example\n",
    "jobs:\n",
    "  test:\n",
    "    runs-on: ubuntu-latest\n",
    "    steps:\n",
    "      - uses: actions/checkout@v3\n",
    "      - name: Setup Python\n",
    "        uses: actions/setup-python@v4\n",
    "        with:\n",
    "          python-version: 3.11\n",
    "      - run: pip install -r requirements.txt\n",
    "      - run: pytest --cov=my_app\n",
    "```\n",
    "\n",
    "---"
   ]
  },
  {
   "cell_type": "markdown",
   "id": "60b18bbb-b814-4628-aa07-a11529e393e8",
   "metadata": {},
   "source": [
    "## 🧠 Bonus: Debugging Tips\n",
    "\n",
    "* `pytest --pdb`: drop into debugger on failure\n",
    "* `pytest -s`: allow print() output\n",
    "* `pdb.set_trace()` inside your test or app logic\n",
    "\n",
    "---\n",
    "\n",
    "## 🧠 Example: Test Case with Fixture + Parametrize + Mock\n",
    "\n",
    "```python\n",
    "import pytest\n",
    "\n",
    "@pytest.fixture\n",
    "def sample_user():\n",
    "    return {\"name\": \"Ben\", \"role\": \"engineer\"}\n",
    "\n",
    "@pytest.mark.parametrize(\"role\", [\"admin\", \"guest\"])\n",
    "def test_user_roles(sample_user, role):\n",
    "    sample_user[\"role\"] = role\n",
    "    assert sample_user[\"role\"] in [\"admin\", \"guest\"]\n",
    "```"
   ]
  },
  {
   "cell_type": "code",
   "execution_count": null,
   "id": "02b26896-bb0f-425e-9993-a56149e7f8a4",
   "metadata": {},
   "outputs": [],
   "source": []
  }
 ],
 "metadata": {
  "kernelspec": {
   "display_name": "python3",
   "language": "python",
   "name": "python3"
  }
 },
 "nbformat": 4,
 "nbformat_minor": 5
}
