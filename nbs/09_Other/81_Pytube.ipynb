{
 "cells": [
  {
   "cell_type": "markdown",
   "id": "429dbd09-5870-44fa-9c5f-266b1fc7f3c4",
   "metadata": {},
   "source": [
    "# Pytube\n",
    "\n",
    "> Library of downloading videos"
   ]
  },
  {
   "cell_type": "code",
   "execution_count": null,
   "id": "638e35e2-31ed-457e-ac5d-0c4cea2302e0",
   "metadata": {},
   "outputs": [
    {
     "name": "stdout",
     "output_type": "stream",
     "text": [
      "pytube                        15.0.0\n"
     ]
    }
   ],
   "source": [
    "#| eval: false\n",
    "!pip list | grep pytube"
   ]
  },
  {
   "cell_type": "code",
   "execution_count": null,
   "id": "88702a34-90cd-431b-9277-0269919a8694",
   "metadata": {},
   "outputs": [],
   "source": [
    "#| eval: false\n",
    "from pytube import YouTube\n",
    "yt = YouTube('https://www.youtube.com/watch?v=dQw4w9WgXcQ')"
   ]
  },
  {
   "cell_type": "code",
   "execution_count": null,
   "id": "53dcbc79-ffb4-4358-8987-6ecdb5bc2dea",
   "metadata": {},
   "outputs": [
    {
     "data": {
      "text/plain": [
       "'Never Gonna Give You Up'"
      ]
     },
     "execution_count": null,
     "metadata": {},
     "output_type": "execute_result"
    }
   ],
   "source": [
    "#| eval: false\n",
    "yt.title"
   ]
  },
  {
   "cell_type": "code",
   "execution_count": null,
   "id": "7d0c188e-916d-4ecd-a300-6438688ed6d4",
   "metadata": {},
   "outputs": [
    {
     "data": {
      "text/plain": [
       "'https://i.ytimg.com/vi/dQw4w9WgXcQ/hq720.jpg?sqp=-oaymwEXCNUGEOADIAQqCwjVARCqCBh4INgESFo&rs=AOn4CLBX-HcaMSEAucUr5J0qD5nEyiPAoQ'"
      ]
     },
     "execution_count": null,
     "metadata": {},
     "output_type": "execute_result"
    }
   ],
   "source": [
    "#| eval: false\n",
    "yt.thumbnail_url"
   ]
  },
  {
   "cell_type": "code",
   "execution_count": null,
   "id": "6842df57-6677-40d2-8f61-ccbbb6f5ada0",
   "metadata": {},
   "outputs": [],
   "source": [
    "#| eval: false\n",
    "high_yt = yt.streams.get_highest_resolution()"
   ]
  },
  {
   "cell_type": "code",
   "execution_count": null,
   "id": "54dd36bd-e2cc-476e-80c2-fe8f1e6d2d38",
   "metadata": {},
   "outputs": [
    {
     "data": {
      "text/plain": [
       "'/home/ben/BENEDICT_Only/Benedict_Projects/Benedict_ML/MLtools/nbs/Data/Never Gonna Give You Up.mp4'"
      ]
     },
     "execution_count": null,
     "metadata": {},
     "output_type": "execute_result"
    }
   ],
   "source": [
    "#| eval: false\n",
    "high_yt.download(output_path = 'Data')"
   ]
  },
  {
   "cell_type": "code",
   "execution_count": null,
   "id": "5e77d663-3bfc-4075-b2c9-be875a5fce4f",
   "metadata": {},
   "outputs": [
    {
     "name": "stdout",
     "output_type": "stream",
     "text": [
      "<Stream: itag=\"17\" mime_type=\"video/3gpp\" res=\"144p\" fps=\"6fps\" vcodec=\"mp4v.20.3\" acodec=\"mp4a.40.2\" progressive=\"True\" type=\"video\">\n",
      "<Stream: itag=\"18\" mime_type=\"video/mp4\" res=\"360p\" fps=\"25fps\" vcodec=\"avc1.42001E\" acodec=\"mp4a.40.2\" progressive=\"True\" type=\"video\">\n",
      "<Stream: itag=\"22\" mime_type=\"video/mp4\" res=\"720p\" fps=\"25fps\" vcodec=\"avc1.64001F\" acodec=\"mp4a.40.2\" progressive=\"True\" type=\"video\">\n",
      "<Stream: itag=\"137\" mime_type=\"video/mp4\" res=\"1080p\" fps=\"25fps\" vcodec=\"avc1.640028\" progressive=\"False\" type=\"video\">\n",
      "<Stream: itag=\"248\" mime_type=\"video/webm\" res=\"1080p\" fps=\"25fps\" vcodec=\"vp9\" progressive=\"False\" type=\"video\">\n",
      "<Stream: itag=\"136\" mime_type=\"video/mp4\" res=\"720p\" fps=\"25fps\" vcodec=\"avc1.4d401f\" progressive=\"False\" type=\"video\">\n",
      "<Stream: itag=\"247\" mime_type=\"video/webm\" res=\"720p\" fps=\"25fps\" vcodec=\"vp9\" progressive=\"False\" type=\"video\">\n",
      "<Stream: itag=\"135\" mime_type=\"video/mp4\" res=\"480p\" fps=\"25fps\" vcodec=\"avc1.4d401e\" progressive=\"False\" type=\"video\">\n",
      "<Stream: itag=\"244\" mime_type=\"video/webm\" res=\"480p\" fps=\"25fps\" vcodec=\"vp9\" progressive=\"False\" type=\"video\">\n",
      "<Stream: itag=\"134\" mime_type=\"video/mp4\" res=\"360p\" fps=\"25fps\" vcodec=\"avc1.4d401e\" progressive=\"False\" type=\"video\">\n",
      "<Stream: itag=\"243\" mime_type=\"video/webm\" res=\"360p\" fps=\"25fps\" vcodec=\"vp9\" progressive=\"False\" type=\"video\">\n",
      "<Stream: itag=\"133\" mime_type=\"video/mp4\" res=\"240p\" fps=\"25fps\" vcodec=\"avc1.4d4015\" progressive=\"False\" type=\"video\">\n",
      "<Stream: itag=\"242\" mime_type=\"video/webm\" res=\"240p\" fps=\"25fps\" vcodec=\"vp9\" progressive=\"False\" type=\"video\">\n",
      "<Stream: itag=\"160\" mime_type=\"video/mp4\" res=\"144p\" fps=\"25fps\" vcodec=\"avc1.4d400c\" progressive=\"False\" type=\"video\">\n",
      "<Stream: itag=\"278\" mime_type=\"video/webm\" res=\"144p\" fps=\"25fps\" vcodec=\"vp9\" progressive=\"False\" type=\"video\">\n",
      "<Stream: itag=\"139\" mime_type=\"audio/mp4\" abr=\"48kbps\" acodec=\"mp4a.40.5\" progressive=\"False\" type=\"audio\">\n",
      "<Stream: itag=\"140\" mime_type=\"audio/mp4\" abr=\"128kbps\" acodec=\"mp4a.40.2\" progressive=\"False\" type=\"audio\">\n",
      "<Stream: itag=\"249\" mime_type=\"audio/webm\" abr=\"50kbps\" acodec=\"opus\" progressive=\"False\" type=\"audio\">\n",
      "<Stream: itag=\"250\" mime_type=\"audio/webm\" abr=\"70kbps\" acodec=\"opus\" progressive=\"False\" type=\"audio\">\n",
      "<Stream: itag=\"251\" mime_type=\"audio/webm\" abr=\"160kbps\" acodec=\"opus\" progressive=\"False\" type=\"audio\">\n"
     ]
    }
   ],
   "source": [
    "#| eval: false\n",
    "for streams in yt.streams:\n",
    "    print(streams)"
   ]
  },
  {
   "cell_type": "code",
   "execution_count": null,
   "id": "83df7f85-a96b-4a8e-b7f7-f859f1daddd5",
   "metadata": {},
   "outputs": [
    {
     "data": {
      "text/plain": [
       "'/home/ben/BENEDICT_Only/Benedict_Projects/Benedict_ML/MLtools/nbs/Data/Never Gonna Give You Up.mp4'"
      ]
     },
     "execution_count": null,
     "metadata": {},
     "output_type": "execute_result"
    }
   ],
   "source": [
    "#| eval: false\n",
    "yt.streams\\\n",
    ".filter(progressive=True, file_extension='mp4')\\\n",
    ".order_by('resolution')\\\n",
    ".desc().first().download(output_path = 'Data')"
   ]
  },
  {
   "cell_type": "code",
   "execution_count": null,
   "id": "62f1f63e-1ff2-4d40-ba6f-57a18c12e407",
   "metadata": {},
   "outputs": [],
   "source": []
  }
 ],
 "metadata": {
  "kernelspec": {
   "display_name": "python3",
   "language": "python",
   "name": "python3"
  }
 },
 "nbformat": 4,
 "nbformat_minor": 5
}
