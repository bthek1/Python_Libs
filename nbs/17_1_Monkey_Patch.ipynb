{
 "cells": [
  {
   "cell_type": "markdown",
   "id": "31cc0678-58c3-4be6-8d05-890922329e7a",
   "metadata": {},
   "source": [
    "# Monkey Patch\n",
    "\n",
    "> Here’s a **complete, structured guide to monkey patching in Python**, covering everything from what it is and why it's used, to risks, examples, and best practices — especially relevant when testing with tools like `pytest`.\n",
    "\n",
    "\n",
    "\n",
    "- skip_showdoc: true\n",
    "- skip_exec: true"
   ]
  },
  {
   "cell_type": "markdown",
   "id": "e13ca0f9-244e-42c0-a15d-c13ffebfd52a",
   "metadata": {},
   "source": [
    "## 🧠 1. What is Monkey Patching?\n",
    "\n",
    "> **Monkey patching** is the practice of **dynamically changing a class, method, or module at runtime**, usually to alter or extend behavior without modifying the original source code.\n",
    "\n",
    "✅ Often used in:\n",
    "\n",
    "* Testing/mocking\n",
    "* Temporary bug fixes\n",
    "* Dynamic feature injection\n",
    "\n",
    "---"
   ]
  },
  {
   "cell_type": "markdown",
   "id": "6814ba60-060b-469e-82e3-479a57b0f522",
   "metadata": {},
   "source": [
    "## 🧪 2. Monkey Patching Use Cases\n",
    "\n",
    "| Use Case            | Example                                                   |\n",
    "| ------------------- | --------------------------------------------------------- |\n",
    "| **Testing**         | Replace API calls or database functions with mocks        |\n",
    "| **Hotfixes**        | Patch a bug in a third-party library                      |\n",
    "| **Instrumentation** | Inject logging, metrics, or tracing code dynamically      |\n",
    "| **Compatibility**   | Override methods for legacy or platform-specific behavior |\n",
    "\n",
    "---"
   ]
  },
  {
   "cell_type": "markdown",
   "id": "512b76e7-4e54-4578-9ff0-74944593de1b",
   "metadata": {},
   "source": [
    "## 🧩 3. Basic Monkey Patch Example\n",
    "\n",
    "### Patching a method:\n",
    "\n",
    "```python\n",
    "class Math:\n",
    "    def add(self, x, y):\n",
    "        return x + y\n",
    "\n",
    "# Patch the method\n",
    "def fake_add(self, x, y):\n",
    "    return 42\n",
    "\n",
    "Math.add = fake_add\n",
    "\n",
    "m = Math()\n",
    "print(m.add(1, 2))  # ➜ 42\n",
    "```\n",
    "\n",
    "---"
   ]
  },
  {
   "cell_type": "markdown",
   "id": "4f2b75bb-3198-4378-9961-50da570f6904",
   "metadata": {},
   "source": [
    "## 🧪 4. Monkey Patching in `pytest` (Using `monkeypatch` Fixture)\n",
    "\n",
    "`pytest` provides a built-in fixture named `monkeypatch` to safely patch objects.\n",
    "\n",
    "### Example:\n",
    "\n",
    "```python\n",
    "# app.py\n",
    "def get_ip():\n",
    "    import requests\n",
    "    return requests.get(\"https://ipapi.co/ip/\").text\n",
    "```\n",
    "\n",
    "```python\n",
    "# test_app.py\n",
    "def test_get_ip(monkeypatch):\n",
    "    def mock_get(url):\n",
    "        class MockResponse:\n",
    "            text = \"123.123.123.123\"\n",
    "        return MockResponse()\n",
    "\n",
    "    monkeypatch.setattr(\"requests.get\", mock_get)\n",
    "    from app import get_ip\n",
    "    assert get_ip() == \"123.123.123.123\"\n",
    "```\n",
    "\n",
    "---"
   ]
  },
  {
   "cell_type": "markdown",
   "id": "629110f9-716b-49b9-8765-03f8f786ea0a",
   "metadata": {},
   "source": [
    "## 🧰 5. `monkeypatch` Methods\n",
    "\n",
    "| Method                              | Purpose                                  |\n",
    "| ----------------------------------- | ---------------------------------------- |\n",
    "| `setattr(obj_or_path, name, value)` | Set an attribute on an object or module  |\n",
    "| `delattr(obj_or_path, name)`        | Delete an attribute                      |\n",
    "| `setitem(mapping, key, value)`      | Patch a dictionary or map                |\n",
    "| `delitem(mapping, key)`             | Remove a key from a dictionary           |\n",
    "| `syspath_prepend(path)`             | Temporarily prepend a path to `sys.path` |\n",
    "| `chdir(path)`                       | Temporarily change current directory     |\n",
    "| `setenv(name, value)`               | Patch environment variable               |\n",
    "| `delenv(name)`                      | Remove environment variable              |\n",
    "\n",
    "---"
   ]
  },
  {
   "cell_type": "markdown",
   "id": "82535642-10c5-430c-9361-2df7d2552cd3",
   "metadata": {},
   "source": [
    "## 🔍 6. Example: Patching a Class Method\n",
    "\n",
    "```python\n",
    "import os\n",
    "\n",
    "def test_env(monkeypatch):\n",
    "    monkeypatch.setenv(\"ENV\", \"test\")\n",
    "    assert os.getenv(\"ENV\") == \"test\"\n",
    "```\n",
    "\n",
    "---"
   ]
  },
  {
   "cell_type": "markdown",
   "id": "9da00fc5-1264-4f01-a841-92e2101bbb88",
   "metadata": {},
   "source": [
    "## ⚠️ 7. Risks of Monkey Patching\n",
    "\n",
    "| Risk                               | Description                                              |\n",
    "| ---------------------------------- | -------------------------------------------------------- |\n",
    "| 🔄 **Global side effects**         | Patches affect all usage of the object across the app    |\n",
    "| 😱 **Hard to trace**               | Dynamic behavior can confuse maintainers or IDEs         |\n",
    "| ❌ **Breaks updates**               | Future library updates may invalidate the patch          |\n",
    "| 🧪 **Unintended leakage in tests** | If not undone/reset between tests, state leaks may occur |\n",
    "\n",
    "---"
   ]
  },
  {
   "cell_type": "markdown",
   "id": "b44d9ab4-27f4-4094-be67-31e0f25c2590",
   "metadata": {},
   "source": [
    "## ✅ 8. Best Practices\n",
    "\n",
    "| Tip                                            | Description                                           |\n",
    "| ---------------------------------------------- | ----------------------------------------------------- |\n",
    "| ✔️ Use `pytest.monkeypatch`                    | It's **scoped to the test** and auto-resets afterward |\n",
    "| 🧪 Patch only what you need                    | Avoid excessive or deep patches                       |\n",
    "| 🛑 Don’t monkeypatch in production             | Unless absolutely necessary and temporary             |\n",
    "| 🧼 Cleanup manually if not using `monkeypatch` | Use `try/finally` or context managers                 |\n",
    "| 📚 Document all patches                        | Especially in test or third-party contexts            |\n",
    "\n",
    "---"
   ]
  },
  {
   "cell_type": "markdown",
   "id": "60500c2c-53eb-4425-b724-792185aef9e6",
   "metadata": {},
   "source": [
    "## 🧪 9. Comparison: `monkeypatch` vs `unittest.mock.patch`\n",
    "\n",
    "| Feature   | `pytest.monkeypatch`    | `unittest.mock.patch`          |\n",
    "| --------- | ----------------------- | ------------------------------ |\n",
    "| Scope     | Function-scoped fixture | Context manager / decorator    |\n",
    "| Resets?   | ✅ Auto-reset            | ✅ Auto-reset if used correctly |\n",
    "| Verbosity | Minimal                 | More boilerplate               |\n",
    "| Style     | Functional              | Object-oriented                |\n",
    "\n",
    "### Example with `mock.patch`:\n",
    "\n",
    "```python\n",
    "from unittest.mock import patch\n",
    "\n",
    "@patch(\"requests.get\")\n",
    "def test_get_ip(mock_get):\n",
    "    mock_get.return_value.text = \"123.123.123.123\"\n",
    "    assert get_ip() == \"123.123.123.123\"\n",
    "```\n",
    "\n",
    "---"
   ]
  },
  {
   "cell_type": "markdown",
   "id": "815272bd-9f7f-4bd6-8946-066d907a846c",
   "metadata": {},
   "source": [
    "## 📦 10. Common Monkey Patch Targets\n",
    "\n",
    "| Target                    | Purpose                              |\n",
    "| ------------------------- | ------------------------------------ |\n",
    "| `os.getenv`, `os.environ` | Patch environment-dependent behavior |\n",
    "| `requests.get` / `post`   | Replace API calls                    |\n",
    "| `datetime.now`            | Freeze or control time               |\n",
    "| Class methods             | Replace expensive or slow logic      |\n",
    "| Third-party libraries     | Fix bugs or inject logic             |\n",
    "\n",
    "---\n",
    "\n",
    "## 🧪 Bonus: Patch `datetime.now()`\n",
    "\n",
    "```python\n",
    "import datetime\n",
    "\n",
    "class FakeDatetime(datetime.datetime):\n",
    "    @classmethod\n",
    "    def now(cls):\n",
    "        return cls(2020, 1, 1)\n",
    "\n",
    "def test_time(monkeypatch):\n",
    "    monkeypatch.setattr(datetime, \"datetime\", FakeDatetime)\n",
    "    assert datetime.datetime.now() == datetime.datetime(2020, 1, 1)\n",
    "```\n",
    "\n",
    "---"
   ]
  },
  {
   "cell_type": "markdown",
   "id": "157765bf-7417-477c-a491-0aade82c64b4",
   "metadata": {},
   "source": [
    "## 📌 Final Thoughts\n",
    "\n",
    "* ✅ Monkey patching is powerful for **testing, mocking, and runtime modifications**\n",
    "* ❗️Use **carefully and only when needed**\n",
    "* Prefer **`pytest.monkeypatch`** in test code\n",
    "* Avoid in production unless under control (e.g., well-documented, temporary hotfix)\n"
   ]
  },
  {
   "cell_type": "code",
   "execution_count": null,
   "id": "2ca15f60-3c40-4b2b-8504-3123b8692444",
   "metadata": {},
   "outputs": [],
   "source": []
  }
 ],
 "metadata": {
  "kernelspec": {
   "display_name": "python3",
   "language": "python",
   "name": "python3"
  }
 },
 "nbformat": 4,
 "nbformat_minor": 5
}
