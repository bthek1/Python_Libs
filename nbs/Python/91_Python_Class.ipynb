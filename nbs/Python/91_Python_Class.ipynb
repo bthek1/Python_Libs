{
 "cells": [
  {
   "cell_type": "markdown",
   "id": "e08a6e4b-5fd2-421f-898c-f625785343e4",
   "metadata": {},
   "source": [
    "# Python Class\n",
    "\n",
    "> Python class\n",
    "\n",
    "- skip_showdoc: true\n",
    "- skip_exec: true"
   ]
  },
  {
   "cell_type": "markdown",
   "id": "17be5f24-5477-4613-a733-3a264f2b2543",
   "metadata": {},
   "source": [
    "## Scopes and Namespaces Example"
   ]
  },
  {
   "cell_type": "code",
   "execution_count": null,
   "id": "dd40fbc6-6cc9-413b-ba42-ad29d9c4d4f6",
   "metadata": {},
   "outputs": [
    {
     "name": "stdout",
     "output_type": "stream",
     "text": [
      "After local assignment: test spam\n",
      "After nonlocal assignment: nonlocal spam\n",
      "After global assignment: nonlocal spam\n",
      "In global scope: global spam\n"
     ]
    }
   ],
   "source": [
    "def scope_test():\n",
    "    def do_local():\n",
    "        spam = \"local spam\"\n",
    "\n",
    "    def do_nonlocal():\n",
    "        nonlocal spam\n",
    "        spam = \"nonlocal spam\"\n",
    "\n",
    "    def do_global():\n",
    "        global spam\n",
    "        spam = \"global spam\"\n",
    "\n",
    "    spam = \"test spam\"\n",
    "    do_local()\n",
    "    print(\"After local assignment:\", spam)\n",
    "    do_nonlocal()\n",
    "    print(\"After nonlocal assignment:\", spam)\n",
    "    do_global()\n",
    "    print(\"After global assignment:\", spam)\n",
    "\n",
    "scope_test()\n",
    "print(\"In global scope:\", spam)"
   ]
  },
  {
   "cell_type": "markdown",
   "id": "07c1df91-460d-4e23-b7bf-80007ef2dd7e",
   "metadata": {},
   "source": [
    "## Class Syntax"
   ]
  },
  {
   "cell_type": "markdown",
   "id": "22c99085-66ef-4e52-9fdd-3ae2e1741797",
   "metadata": {},
   "source": [
    "```python\n",
    "class ClassName:\n",
    "    <statement-1>\n",
    "    .\n",
    "    .\n",
    "    .\n",
    "    <statement-N>\n",
    "```"
   ]
  },
  {
   "cell_type": "markdown",
   "id": "59d64486-286a-4551-ae9f-e42ebc3c5a23",
   "metadata": {},
   "source": [
    "## The self Parameter"
   ]
  },
  {
   "cell_type": "code",
   "execution_count": null,
   "id": "fcb514b8-d1b8-4211-be72-d78866385739",
   "metadata": {},
   "outputs": [
    {
     "name": "stdout",
     "output_type": "stream",
     "text": [
      "Hello my name is John\n"
     ]
    }
   ],
   "source": [
    "class Person:\n",
    "    def __init__(self, name, age):\n",
    "        self.name = name\n",
    "        self.age = age\n",
    "\n",
    "    def myfunc(self):\n",
    "        print(\"Hello my name is \" + self.name)\n",
    "\n",
    "p1 = Person(\"John\", 36)\n",
    "p1.myfunc() "
   ]
  },
  {
   "cell_type": "code",
   "execution_count": null,
   "id": "01f2dc7a-a02e-400f-84d9-ca181b0a9d70",
   "metadata": {},
   "outputs": [
    {
     "name": "stdout",
     "output_type": "stream",
     "text": [
      "Hello my name is John\n"
     ]
    }
   ],
   "source": [
    "class Person:\n",
    "    def __init__(mysillyobject, name, age):\n",
    "        mysillyobject.name = name\n",
    "        mysillyobject.age = age\n",
    "\n",
    "    def myfunc(abc):\n",
    "        print(\"Hello my name is \" + abc.name)\n",
    "\n",
    "p1 = Person(\"John\", 36)\n",
    "p1.myfunc() "
   ]
  },
  {
   "cell_type": "markdown",
   "id": "1006e103-5875-45e4-ab5b-d9c1ca247197",
   "metadata": {},
   "source": [
    "### The pass Statement"
   ]
  },
  {
   "cell_type": "markdown",
   "id": "d6ec15d6-a266-4ace-aff5-63a88feae79f",
   "metadata": {},
   "source": [
    "class definitions cannot be empty, but if you for some reason have a class definition with no content, put in the pass statement to avoid getting an error."
   ]
  },
  {
   "cell_type": "code",
   "execution_count": null,
   "id": "f072e4ec-a7fb-4959-93cb-5e1789f2a2fc",
   "metadata": {},
   "outputs": [],
   "source": [
    "class Person:\n",
    "    pass"
   ]
  },
  {
   "cell_type": "code",
   "execution_count": null,
   "id": "f21f42fa-521b-4453-adae-cc4d34bbe497",
   "metadata": {},
   "outputs": [],
   "source": []
  },
  {
   "cell_type": "markdown",
   "id": "9d8a4348-8e19-482e-bb22-2fe61f27cfb6",
   "metadata": {},
   "source": [
    "## `__init__`\n"
   ]
  },
  {
   "cell_type": "markdown",
   "id": "c358c38c-c691-467f-96ad-8f54f863f7b8",
   "metadata": {},
   "source": [
    "The instantiation operation (“calling” a class object) creates an empty object. Many classes like to create objects with instances customized to a specific initial state. Therefore a class may define a special method named __init__(), like this:"
   ]
  },
  {
   "cell_type": "code",
   "execution_count": null,
   "id": "7c731e1d-5483-4e2b-9073-167c41a78674",
   "metadata": {},
   "outputs": [],
   "source": [
    "def __init__(self):\n",
    "    self.data = []"
   ]
  },
  {
   "cell_type": "code",
   "execution_count": null,
   "id": "8312a48e-7064-4b13-aa27-6c2101c38449",
   "metadata": {},
   "outputs": [
    {
     "data": {
      "text/plain": [
       "(3.0, -4.5)"
      ]
     },
     "execution_count": null,
     "metadata": {},
     "output_type": "execute_result"
    }
   ],
   "source": [
    "class Complex:\n",
    "    def __init__(self, realpart, imagpart):\n",
    "        self.r = realpart\n",
    "        self.i = imagpart\n",
    "\n",
    "x = Complex(3.0, -4.5)\n",
    "\n",
    "x.r, x.i"
   ]
  },
  {
   "cell_type": "markdown",
   "id": "eede1201-d473-4d91-97c7-fa72a732a073",
   "metadata": {},
   "source": [
    "## `__new__`"
   ]
  },
  {
   "cell_type": "markdown",
   "id": "c1604038-5966-40b1-8b74-9b17df6e1488",
   "metadata": {},
   "source": [
    "When you create a new object by calling the class, Python calls the __new__() method to create the object first and then calls the __init__() method to initialize the object’s attributes."
   ]
  },
  {
   "cell_type": "code",
   "execution_count": null,
   "id": "7fd1f9d8-7451-40b8-a0e5-0d22ff29365f",
   "metadata": {},
   "outputs": [
    {
     "name": "stdout",
     "output_type": "stream",
     "text": [
      "Creating a new Person object...\n",
      "Initializing the person object...\n"
     ]
    }
   ],
   "source": [
    "class Person:\n",
    "    def __new__(cls, name):\n",
    "        print(f'Creating a new {cls.__name__} object...')\n",
    "        obj = object.__new__(cls)\n",
    "        return obj\n",
    "\n",
    "    def __init__(self, name):\n",
    "        print(f'Initializing the person object...')\n",
    "        self.name = name\n",
    "\n",
    "\n",
    "person = Person('John')"
   ]
  },
  {
   "cell_type": "code",
   "execution_count": null,
   "id": "394690b0-af69-4121-b904-234a80891476",
   "metadata": {},
   "outputs": [
    {
     "name": "stdout",
     "output_type": "stream",
     "text": [
      "16\n"
     ]
    }
   ],
   "source": [
    "x.counter = 1\n",
    "while x.counter < 10:\n",
    "    x.counter = x.counter * 2\n",
    "print(x.counter)\n",
    "del x.counter"
   ]
  },
  {
   "cell_type": "code",
   "execution_count": null,
   "id": "f61e9690-4953-49f9-9484-8540e7f1ee8c",
   "metadata": {},
   "outputs": [
    {
     "data": {
      "text/plain": [
       "['roll over', 'play dead']"
      ]
     },
     "execution_count": null,
     "metadata": {},
     "output_type": "execute_result"
    }
   ],
   "source": [
    "class Dog:\n",
    "\n",
    "    tricks = []             # mistaken use of a class variable\n",
    "\n",
    "    def __init__(self, name):\n",
    "        self.name = name\n",
    "\n",
    "    def add_trick(self, trick):\n",
    "        self.tricks.append(trick)\n",
    "\n",
    "d = Dog('Fido')\n",
    "e = Dog('Buddy')\n",
    "d.add_trick('roll over')\n",
    "e.add_trick('play dead')\n",
    "d.tricks                # unexpectedly shared by all dogs"
   ]
  },
  {
   "cell_type": "code",
   "execution_count": null,
   "id": "efc4a279-bbd6-4711-bdc1-c70364bc731b",
   "metadata": {},
   "outputs": [
    {
     "data": {
      "text/plain": [
       "['roll over']"
      ]
     },
     "execution_count": null,
     "metadata": {},
     "output_type": "execute_result"
    }
   ],
   "source": [
    "class Dog:\n",
    "\n",
    "    def __init__(self, name):\n",
    "        self.name = name\n",
    "        self.tricks = []    # creates a new empty list for each dog\n",
    "\n",
    "    def add_trick(self, trick):\n",
    "        self.tricks.append(trick)\n",
    "\n",
    "d = Dog('Fido')\n",
    "e = Dog('Buddy')\n",
    "d.add_trick('roll over')\n",
    "e.add_trick('play dead')\n",
    "d.tricks"
   ]
  },
  {
   "cell_type": "code",
   "execution_count": null,
   "id": "8985271d-ca7e-43e7-ad0b-ae15c02dbeb0",
   "metadata": {},
   "outputs": [
    {
     "data": {
      "text/plain": [
       "['play dead']"
      ]
     },
     "execution_count": null,
     "metadata": {},
     "output_type": "execute_result"
    }
   ],
   "source": [
    "e.tricks"
   ]
  },
  {
   "cell_type": "markdown",
   "id": "c816b475-6a0d-40f5-9bf9-383abd765531",
   "metadata": {},
   "source": [
    "Methods may call other methods by using method attributes of the self argument:"
   ]
  },
  {
   "cell_type": "code",
   "execution_count": null,
   "id": "2dbf45d0-5215-4625-8de8-49cde16e4bc6",
   "metadata": {},
   "outputs": [],
   "source": [
    "class Bag:\n",
    "    def __init__(self):\n",
    "        self.data = []\n",
    "\n",
    "    def add(self, x):\n",
    "        self.data.append(x)\n",
    "\n",
    "    def addtwice(self, x):\n",
    "        self.add(x)\n",
    "        self.add(x)"
   ]
  },
  {
   "cell_type": "markdown",
   "id": "fae2289c-630b-482b-a972-d78431dcb80c",
   "metadata": {},
   "source": [
    "## `__iter__` & `__next__`"
   ]
  },
  {
   "cell_type": "code",
   "execution_count": null,
   "id": "89badf35-c1c3-4c82-a1a3-eb26265edbea",
   "metadata": {},
   "outputs": [],
   "source": [
    "class Reverse:\n",
    "    \"\"\"Iterator for looping over a sequence backwards.\"\"\"\n",
    "    def __init__(self, data):\n",
    "        self.data = data\n",
    "        self.index = len(self.data)\n",
    "\n",
    "    def __iter__(self):\n",
    "        return self\n",
    "\n",
    "    def __next__(self):\n",
    "        if self.index == 0:\n",
    "            self.index = len(self.data)\n",
    "            raise StopIteration\n",
    "        self.index = self.index - 1\n",
    "        return self.data[self.index]"
   ]
  },
  {
   "cell_type": "code",
   "execution_count": null,
   "id": "86febf46-8255-4c57-b553-ac202cb2e968",
   "metadata": {},
   "outputs": [
    {
     "data": {
      "text/plain": [
       "<__main__.Reverse>"
      ]
     },
     "execution_count": null,
     "metadata": {},
     "output_type": "execute_result"
    }
   ],
   "source": [
    "rev = Reverse('spam')\n",
    "\n",
    "iter(rev)"
   ]
  },
  {
   "cell_type": "code",
   "execution_count": null,
   "id": "75df5057-1c7f-4778-8e2b-10285c301c12",
   "metadata": {},
   "outputs": [
    {
     "name": "stdout",
     "output_type": "stream",
     "text": [
      "m\n",
      "a\n",
      "p\n",
      "s\n"
     ]
    }
   ],
   "source": [
    "for char in rev:\n",
    "    print(char)"
   ]
  },
  {
   "cell_type": "code",
   "execution_count": null,
   "id": "3bb135c3-f8cb-4f23-b93a-11a14f462d83",
   "metadata": {},
   "outputs": [
    {
     "data": {
      "text/plain": [
       "<str_ascii_iterator>"
      ]
     },
     "execution_count": null,
     "metadata": {},
     "output_type": "execute_result"
    }
   ],
   "source": [
    "s = 'abc'\n",
    "\n",
    "it = iter(s)\n",
    "\n",
    "it"
   ]
  },
  {
   "cell_type": "code",
   "execution_count": null,
   "id": "b4a2575c-4f41-47ba-92e9-1e1f87bf022f",
   "metadata": {},
   "outputs": [
    {
     "name": "stdout",
     "output_type": "stream",
     "text": [
      "f\n",
      "l\n",
      "o\n",
      "g\n"
     ]
    }
   ],
   "source": [
    "def reverse(data):\n",
    "    for index in range(len(data)-1, -1, -1):\n",
    "        yield data[index]\n",
    "        \n",
    "\n",
    "for char in reverse('golf'):\n",
    "    print(char)"
   ]
  },
  {
   "cell_type": "markdown",
   "id": "c6771add-eaac-4e7d-a21f-e9384f833bd2",
   "metadata": {},
   "source": [
    "Anything that can be done with generators can also be done with class-based iterators as described in the previous section. What makes generators so compact is that the __iter__() and __next__() methods are created automatically."
   ]
  },
  {
   "cell_type": "markdown",
   "id": "a7986e03-f199-455f-8112-d045f9ef5fea",
   "metadata": {},
   "source": [
    "## `__str__`"
   ]
  },
  {
   "cell_type": "code",
   "execution_count": null,
   "id": "9541dd29-add1-46bd-a094-84659895d9c3",
   "metadata": {},
   "outputs": [
    {
     "name": "stdout",
     "output_type": "stream",
     "text": [
      "<__main__.Person object>\n"
     ]
    }
   ],
   "source": [
    "class Person:\n",
    "    def __init__(self, name, age):\n",
    "        self.name = name\n",
    "        self.age = age\n",
    "\n",
    "p1 = Person(\"John\", 36)\n",
    "\n",
    "print(p1) "
   ]
  },
  {
   "cell_type": "code",
   "execution_count": null,
   "id": "9ad48182-85b2-49aa-a832-86998b6ee5cf",
   "metadata": {},
   "outputs": [
    {
     "name": "stdout",
     "output_type": "stream",
     "text": [
      "John(36)\n"
     ]
    }
   ],
   "source": [
    "class Person:\n",
    "    def __init__(self, name, age):\n",
    "        self.name = name\n",
    "        self.age = age\n",
    "\n",
    "    def __str__(self):\n",
    "        return f\"{self.name}({self.age})\"\n",
    "\n",
    "p1 = Person(\"John\", 36)\n",
    "\n",
    "print(p1) "
   ]
  },
  {
   "cell_type": "markdown",
   "id": "a2e19559-8fe1-4e29-b22f-7ebd9dc3d1c5",
   "metadata": {},
   "source": [
    "## `__repr__`"
   ]
  },
  {
   "cell_type": "code",
   "execution_count": null,
   "id": "96f1feba-e2f1-4bcc-bc59-d2f37e476fe0",
   "metadata": {},
   "outputs": [],
   "source": [
    "class Person:\n",
    "    def __init__(self, first_name, last_name, age):\n",
    "        self.first_name = first_name\n",
    "        self.last_name = last_name\n",
    "        self.age = age\n",
    "        "
   ]
  },
  {
   "cell_type": "code",
   "execution_count": null,
   "id": "2166b54f-27c2-4aa5-9cbb-88fdee2ef5d2",
   "metadata": {},
   "outputs": [
    {
     "name": "stdout",
     "output_type": "stream",
     "text": [
      "<__main__.Person object>\n"
     ]
    }
   ],
   "source": [
    "person = Person('John', 'Doe', 25)\n",
    "print(repr(person))"
   ]
  },
  {
   "cell_type": "code",
   "execution_count": null,
   "id": "acb65329-6b66-406d-9325-fa64fcfbd7f1",
   "metadata": {},
   "outputs": [],
   "source": [
    "class Person:\n",
    "    def __init__(self, first_name, last_name, age):\n",
    "        self.first_name = first_name\n",
    "        self.last_name = last_name\n",
    "        self.age = age\n",
    "        \n",
    "    def __str__(self):\n",
    "        return f'str: {self.first_name}\",\"{self.last_name}\",{self.age}'\n",
    "\n",
    "    def __repr__(self):\n",
    "        return f'repr: (\"{self.first_name}\",\"{self.last_name}\",{self.age})'\n",
    "    \n",
    "    def __call__(self):\n",
    "        return f\"call: {self.__dict__}\""
   ]
  },
  {
   "cell_type": "code",
   "execution_count": null,
   "id": "8afd3378-67a1-40d8-bd94-8226a45dff44",
   "metadata": {},
   "outputs": [
    {
     "name": "stdout",
     "output_type": "stream",
     "text": [
      "str: John\",\"Doe\",25\n"
     ]
    }
   ],
   "source": [
    "person = Person(\"John\", \"Doe\", 25)\n",
    "print(person)"
   ]
  },
  {
   "cell_type": "code",
   "execution_count": null,
   "id": "72d8ec9c-2152-4e36-9023-b25816eab8ec",
   "metadata": {},
   "outputs": [
    {
     "name": "stdout",
     "output_type": "stream",
     "text": [
      "repr: (\"John\",\"Doe\",25)\n"
     ]
    }
   ],
   "source": [
    "print(repr(person))"
   ]
  },
  {
   "cell_type": "code",
   "execution_count": null,
   "id": "8f655583-2726-494d-928b-aa3c7c1973d9",
   "metadata": {},
   "outputs": [
    {
     "data": {
      "text/plain": [
       "repr: (\"John\",\"Doe\",25)"
      ]
     },
     "execution_count": null,
     "metadata": {},
     "output_type": "execute_result"
    }
   ],
   "source": [
    "person"
   ]
  },
  {
   "cell_type": "code",
   "execution_count": null,
   "id": "a084a78d-a3d1-4b71-8c96-94af17297459",
   "metadata": {},
   "outputs": [
    {
     "data": {
      "text/plain": [
       "\"call: {'first_name': 'John', 'last_name': 'Doe', 'age': 25}\""
      ]
     },
     "execution_count": null,
     "metadata": {},
     "output_type": "execute_result"
    }
   ],
   "source": [
    "person()"
   ]
  },
  {
   "cell_type": "markdown",
   "id": "547e7f61-1870-4c25-bef9-1a19da7feb9c",
   "metadata": {},
   "source": [
    "#### __str__ vs __repr__"
   ]
  },
  {
   "cell_type": "markdown",
   "id": "12d510f7-5baa-4a8a-8a5c-e9b5295daee2",
   "metadata": {},
   "source": [
    "The main difference between __str__ and __repr__ method is intended audiences.\n",
    "\n",
    "The __str__ method returns a string representation of an object that is human-readable while the __repr__ method returns a string representation of an object that is machine-readable."
   ]
  },
  {
   "cell_type": "markdown",
   "id": "f403041b-6fdc-4c8e-bc93-2abfea5041b3",
   "metadata": {},
   "source": [
    "#### Summary"
   ]
  },
  {
   "cell_type": "markdown",
   "id": "62f785f3-391b-4501-a4f9-f3b08dfc77b0",
   "metadata": {},
   "source": [
    "- Implement the __repr__ method to customize the string representation of an object when repr() is called on it.\n",
    "- The __str__ calls __repr__ internally by default."
   ]
  },
  {
   "cell_type": "markdown",
   "id": "428b7ad4-a2b5-4460-bbef-a0eb518372ca",
   "metadata": {},
   "source": [
    "## `__call__`"
   ]
  },
  {
   "cell_type": "code",
   "execution_count": null,
   "id": "42f5dbac-4c1c-406e-9180-86d30c34e33a",
   "metadata": {},
   "outputs": [],
   "source": [
    "class Counter:\n",
    "    def __init__(self):\n",
    "        self.count = 0\n",
    "\n",
    "    def increment(self):\n",
    "        self.count += 1\n",
    "\n",
    "    def __call__(self):\n",
    "        self.increment()\n",
    "        return self.count\n",
    "        "
   ]
  },
  {
   "cell_type": "code",
   "execution_count": null,
   "id": "3b13e5c0-aa76-4079-8d56-d751426ae4dd",
   "metadata": {},
   "outputs": [],
   "source": [
    "count = Counter()"
   ]
  },
  {
   "cell_type": "code",
   "execution_count": null,
   "id": "390c3ed9-53a0-4815-9f8e-423bdb08313e",
   "metadata": {},
   "outputs": [
    {
     "data": {
      "text/plain": [
       "1"
      ]
     },
     "execution_count": null,
     "metadata": {},
     "output_type": "execute_result"
    }
   ],
   "source": [
    "count()"
   ]
  },
  {
   "cell_type": "code",
   "execution_count": null,
   "id": "c9a9d498-eb2f-4f88-98cc-df4061a99056",
   "metadata": {},
   "outputs": [
    {
     "data": {
      "text/plain": [
       "{'count': 1}"
      ]
     },
     "execution_count": null,
     "metadata": {},
     "output_type": "execute_result"
    }
   ],
   "source": [
    "count.__dict__"
   ]
  },
  {
   "cell_type": "markdown",
   "id": "f663842d-fdb2-4806-8360-4b2dc7f4095d",
   "metadata": {},
   "source": [
    "## `__setattr__` & `__getattr__`"
   ]
  },
  {
   "cell_type": "code",
   "execution_count": null,
   "id": "45e9ca1d-d9a0-4ae5-91bc-43d1d10616c0",
   "metadata": {},
   "outputs": [],
   "source": [
    "class Person:\n",
    "    def __init__(self, first_name, last_name, age):\n",
    "        self.first_name = first_name\n",
    "        self.last_name = last_name\n",
    "        self.set_age(age)\n",
    "        \n",
    "    def __str__(self):\n",
    "        return f'str: {self.first_name}\",\"{self.last_name}\",{self.age}'\n",
    "\n",
    "    def __repr__(self):\n",
    "        return f'repr: (\"{self.first_name}\",\"{self.last_name}\",{self.age})'\n",
    "    \n",
    "    def __call__(self):\n",
    "        return f\"call: {self.__dict__}\"\n",
    "    \n",
    "    def __getattr__(self, attr):\n",
    "        print(\"getting attr\")\n",
    "        try:\n",
    "            return self.__dict__[attr] \n",
    "        except KeyError:\n",
    "            print(f\"Attribute doesn't exist\")\n",
    "    \n",
    "    \n",
    "    def __setattr__(self, attr, value):\n",
    "        print(f\"setting attr: class.{attr} = {value}\")\n",
    "        self.__dict__[attr] = value\n",
    "        \n",
    "    def set_age(self, age):\n",
    "        if age <= 0:\n",
    "            #raise ValueError('The age must be positive')\n",
    "            print('The age must be positive')\n",
    "            return\n",
    "        self._age = age\n",
    "\n",
    "    def get_age(self):\n",
    "        return self._age\n",
    "    "
   ]
  },
  {
   "cell_type": "code",
   "execution_count": null,
   "id": "25b16b96-6d1a-493f-988d-528b749d44d7",
   "metadata": {},
   "outputs": [
    {
     "name": "stdout",
     "output_type": "stream",
     "text": [
      "setting attr: class.first_name = John\n",
      "setting attr: class.last_name = Doe\n",
      "setting attr: class._age = 23\n",
      "setting attr: class._age = 12\n"
     ]
    }
   ],
   "source": [
    "john = Person('John', 'Doe', 23)\n",
    "john.set_age(12)\n"
   ]
  },
  {
   "cell_type": "code",
   "execution_count": null,
   "id": "70d6705b-8f12-4cb9-bd45-dcb1d8c020a1",
   "metadata": {},
   "outputs": [
    {
     "name": "stdout",
     "output_type": "stream",
     "text": [
      "setting attr: class.a = 1\n"
     ]
    }
   ],
   "source": [
    "john.a = 1"
   ]
  },
  {
   "cell_type": "code",
   "execution_count": null,
   "id": "ec45666d-381c-4bae-987a-57af8d58fc48",
   "metadata": {},
   "outputs": [
    {
     "name": "stdout",
     "output_type": "stream",
     "text": [
      "getting attr\n",
      "Attribute doesn't exist\n"
     ]
    }
   ],
   "source": [
    "john.b"
   ]
  },
  {
   "cell_type": "code",
   "execution_count": null,
   "id": "a50f15e3-2811-4c23-a5d2-8ed2876cf790",
   "metadata": {},
   "outputs": [
    {
     "data": {
      "text/plain": [
       "{'first_name': 'John', 'last_name': 'Doe', '_age': 12, 'a': 1}"
      ]
     },
     "execution_count": null,
     "metadata": {},
     "output_type": "execute_result"
    }
   ],
   "source": [
    "john.__dict__"
   ]
  },
  {
   "cell_type": "code",
   "execution_count": null,
   "id": "e6f2d381-a7e4-4e0e-83e5-902672a28703",
   "metadata": {},
   "outputs": [
    {
     "name": "stdout",
     "output_type": "stream",
     "text": [
      "getting attr\n",
      "Attribute doesn't exist\n"
     ]
    }
   ],
   "source": [
    "getattr(john, 'b')"
   ]
  },
  {
   "cell_type": "markdown",
   "id": "a076b5f8-3bf5-43d6-9206-fd23ccd78a81",
   "metadata": {},
   "source": [
    "## `__setitem__` & `__getitem__`"
   ]
  },
  {
   "cell_type": "code",
   "execution_count": null,
   "id": "1750011b-b739-4858-9377-1d29d8444fca",
   "metadata": {},
   "outputs": [
    {
     "name": "stdout",
     "output_type": "stream",
     "text": [
      "<class 'int'> 5\n",
      "<class 'slice'> slice(5, 65, 5)\n",
      "<class 'str'> GeeksforGeeks\n",
      "<class 'tuple'> (1, 'x', 10.0)\n",
      "<class 'slice'> slice('a', 'z', 2)\n",
      "<class 'object'> <object object>\n"
     ]
    }
   ],
   "source": [
    "# Code to demonstrate use \n",
    "# of __getitem__() in python \n",
    "class Test(object): \n",
    "      \n",
    "    # This function prints the type \n",
    "    # of the object passed as well  \n",
    "    # as the object item \n",
    "    def __getitem__(self, items): \n",
    "        print (type(items), items) \n",
    "  \n",
    "    # Driver code \n",
    "test = Test() \n",
    "test[5] \n",
    "test[5:65:5] \n",
    "test['GeeksforGeeks'] \n",
    "test[1, 'x', 10.0] \n",
    "test['a':'z':2] \n",
    "test[object()] \n"
   ]
  },
  {
   "cell_type": "code",
   "execution_count": null,
   "id": "1408ee4e-2c5e-4155-87d4-d334842bc84e",
   "metadata": {},
   "outputs": [
    {
     "name": "stdout",
     "output_type": "stream",
     "text": [
      "ABC Corp\n"
     ]
    }
   ],
   "source": [
    "class Building(object):\n",
    "    def __init__(self, floors):\n",
    "        self._floors = [None]*floors\n",
    "    def __setitem__(self, floor_number, data):\n",
    "        self._floors[floor_number] = data\n",
    "    def __getitem__(self, floor_number):\n",
    "        return self._floors[floor_number]\n",
    "\n",
    "building1 = Building(4) # Construct a building with 4 floors\n",
    "building1[0] = 'Reception'\n",
    "building1[1] = 'ABC Corp'\n",
    "building1[2] = 'DEF Inc'\n",
    "print(building1[1])"
   ]
  },
  {
   "cell_type": "code",
   "execution_count": null,
   "id": "ec4b8bff-a060-4417-8b8a-77feaa809303",
   "metadata": {},
   "outputs": [],
   "source": [
    "class PDFreader:\n",
    "    ''' Function for reading and displaying pdf files\n",
    "        ex. path = './Data/<file>.pdf' \n",
    "            pdf = PDFreader(path, size = (10, 8))\n",
    "            pdf[0:5]\n",
    "    '''\n",
    "    def __init__(self, path, size = (6, 4)):\n",
    "        self.filepath = path\n",
    "        self.images = self.display_pdf_slides()\n",
    "        self.index = 0\n",
    "        self.size = size   \n",
    "        \n",
    "        \n",
    "    def __str__(self):\n",
    "        return f'--string--: path:\"{self.filepath}\"   index:{self.index}   size:{self.size}   len:{len(self.images)}'\n",
    "\n",
    "    def __repr__(self):\n",
    "        return f'--Representation-- \\r\\npath:\"{self.filepath}\" \\r\\nindex:{self.index} \\r\\nsize:{self.size} \\r\\nlen:{len(self.images)}'\n",
    "    \n",
    "    def __getitem__(self, slide):\n",
    "        'get slides like indexing a array'\n",
    "        if isinstance(slide, int):\n",
    "            self.slides(slice(slide, slide + 1))   \n",
    "        elif isinstance(slide, slice):\n",
    "            self.slides(slide)  \n",
    "            \n",
    "    \n",
    "    def slides(self, slide):\n",
    "        'display the slide as plt.imshow(image)'\n",
    "        import matplotlib.pyplot as plt\n",
    "\n",
    "        for i, image in enumerate(self.images[slide]):\n",
    "            plt.figure(figsize=self.size)\n",
    "            plt.imshow(image)\n",
    "            if slide.step == None:\n",
    "                plt.title(f'Slide {slide.start + i}')\n",
    "            else:\n",
    "                plt.title(f'Slide {slide.start + slide.step}')\n",
    "            plt.axis('off')\n",
    "        plt.show()"
   ]
  },
  {
   "cell_type": "markdown",
   "id": "01e6528e-344d-42b8-bef8-6316ab844b9e",
   "metadata": {},
   "source": [
    "## `__enter__` & `__exit__`"
   ]
  },
  {
   "cell_type": "code",
   "execution_count": null,
   "id": "ca336830-0d2f-4ef5-935d-6ce44127ab63",
   "metadata": {},
   "outputs": [
    {
     "name": "stdout",
     "output_type": "stream",
     "text": [
      "entering: (test)\n",
      "exit: (test)\n"
     ]
    }
   ],
   "source": [
    "class MySecretConnection:\n",
    "    def __init__(self, url):\n",
    "        self.url = url\n",
    "\n",
    "    def __enter__(self):\n",
    "        print('entering:', self.url)\n",
    "\n",
    "    def __exit__(self, exc_type, exc_val, exc_tb):\n",
    "        print('exit:', self.url)\n",
    "\n",
    "\n",
    "with MySecretConnection('(test)') as finxter:\n",
    "    # Called finxter.__enter__()\n",
    "    pass\n",
    "    # Called finxter.__exit__()"
   ]
  },
  {
   "cell_type": "code",
   "execution_count": null,
   "id": "55d8f26d-adb6-45b3-8ea8-9dc37c72d8e4",
   "metadata": {},
   "outputs": [
    {
     "name": "stdout",
     "output_type": "stream",
     "text": [
      "file opened\n",
      "file closed\n",
      "True\n"
     ]
    }
   ],
   "source": [
    "class Open_File():\n",
    "    def __init__(self, filename, mode):\n",
    "        self.filename = filename\n",
    "        self.mode = mode\n",
    "        \n",
    "    def __enter__(self):\n",
    "        self.file = open(self.filename, self.mode)\n",
    "        print('file opened')\n",
    "        return self.file\n",
    "\n",
    "    def __exit__(self, exc_type, exc_val, traceback):\n",
    "        self.file.close()\n",
    "        print('file closed')\n",
    "        \n",
    "with Open_File('Data/sample.txt', 'a') as f:\n",
    "    f.write('Testing\\n\\r')\n",
    "        \n",
    "print(f.closed)"
   ]
  },
  {
   "cell_type": "code",
   "execution_count": null,
   "id": "f18bd849-603f-496c-8727-369bfc875bc3",
   "metadata": {},
   "outputs": [
    {
     "name": "stdout",
     "output_type": "stream",
     "text": [
      "file opened\n",
      "file closed\n",
      "True\n"
     ]
    }
   ],
   "source": [
    "from contextlib import contextmanager\n",
    "\n",
    "@contextmanager\n",
    "def open_file(file, mode):\n",
    "    # __enter__ start\n",
    "    f = open(file, mode)  \n",
    "    print('file opened')\n",
    "    # __enter__ end\n",
    "    yield f\n",
    "    # __exit__ start\n",
    "    f.close()\n",
    "    print('file closed')\n",
    "    # __exit__ end\n",
    "    \n",
    "with open_file('Data/sample.txt', 'a') as f:\n",
    "    f.write('test text\\n\\r')\n",
    "    \n",
    "print(f.closed)"
   ]
  },
  {
   "cell_type": "markdown",
   "id": "24ddaa83-89b7-43c0-85a4-98e89d5202fc",
   "metadata": {},
   "source": [
    "## `__eq__`"
   ]
  },
  {
   "cell_type": "code",
   "execution_count": null,
   "id": "0f74f48a-3f2a-42f3-a0f0-a2d50e469f94",
   "metadata": {},
   "outputs": [],
   "source": [
    "class Person:\n",
    "    def __init__(self, first_name, last_name, age):\n",
    "        self.first_name = first_name\n",
    "        self.last_name = last_name\n",
    "        self.age = age"
   ]
  },
  {
   "cell_type": "code",
   "execution_count": null,
   "id": "1cb6f37e-5185-41cd-9235-ebd81ac08333",
   "metadata": {},
   "outputs": [],
   "source": [
    "john = Person('John', 'Doe', 25)\n",
    "jane = Person('Jane', 'Doe', 25)"
   ]
  },
  {
   "cell_type": "code",
   "execution_count": null,
   "id": "8394c415-1635-48c4-babb-4685e8cf9cbd",
   "metadata": {},
   "outputs": [
    {
     "name": "stdout",
     "output_type": "stream",
     "text": [
      "False\n",
      "False\n"
     ]
    },
    {
     "data": {
      "text/plain": [
       "False"
      ]
     },
     "execution_count": null,
     "metadata": {},
     "output_type": "execute_result"
    }
   ],
   "source": [
    "print(john is jane); print(john == jane); john == jane # False"
   ]
  },
  {
   "cell_type": "code",
   "execution_count": null,
   "id": "1bb016cb-7711-455e-8ac9-8e669edd3cd1",
   "metadata": {},
   "outputs": [],
   "source": [
    "class Person:\n",
    "    def __init__(self, first_name, last_name, age):\n",
    "        self.first_name = first_name\n",
    "        self.last_name = last_name\n",
    "        self.age = age\n",
    "\n",
    "    def __eq__(self, other):\n",
    "        if isinstance(other, Person):\n",
    "            return self.age == other.age\n",
    "\n",
    "        return False"
   ]
  },
  {
   "cell_type": "code",
   "execution_count": null,
   "id": "4f4c19a4-e644-4f29-b83f-b9af02944ebc",
   "metadata": {},
   "outputs": [
    {
     "name": "stdout",
     "output_type": "stream",
     "text": [
      "False\n",
      "True\n"
     ]
    },
    {
     "data": {
      "text/plain": [
       "True"
      ]
     },
     "execution_count": null,
     "metadata": {},
     "output_type": "execute_result"
    }
   ],
   "source": [
    "john = Person('John', 'Doe', 25)\n",
    "jane = Person('Jane', 'Doe', 25)\n",
    "print(john is jane); print(john == jane); john == jane # False"
   ]
  },
  {
   "cell_type": "code",
   "execution_count": null,
   "id": "bba4c51c-b02d-420a-bb24-cfea0f28836a",
   "metadata": {},
   "outputs": [
    {
     "name": "stdout",
     "output_type": "stream",
     "text": [
      "False\n",
      "False\n"
     ]
    },
    {
     "data": {
      "text/plain": [
       "False"
      ]
     },
     "execution_count": null,
     "metadata": {},
     "output_type": "execute_result"
    }
   ],
   "source": [
    "john = Person('John', 'Doe', 25)\n",
    "mary = Person('Mary', 'Doe', 27)\n",
    "print(john is mary); print(john == mary); john == mary # False"
   ]
  },
  {
   "cell_type": "code",
   "execution_count": null,
   "id": "5897051e-bd64-4f8a-a114-000c2b9d717d",
   "metadata": {},
   "outputs": [
    {
     "name": "stdout",
     "output_type": "stream",
     "text": [
      "False\n"
     ]
    }
   ],
   "source": [
    "john = Person('John', 'Doe', 25)\n",
    "print(john == 20)"
   ]
  },
  {
   "cell_type": "markdown",
   "id": "b1fc1d9b-2f5e-40aa-9d25-f892ce0183a0",
   "metadata": {},
   "source": [
    "## `__bool__`"
   ]
  },
  {
   "cell_type": "code",
   "execution_count": null,
   "id": "ff58fa20-0149-43e2-93d4-c72485cbb0b4",
   "metadata": {},
   "outputs": [
    {
     "data": {
      "text/plain": [
       "True"
      ]
     },
     "execution_count": null,
     "metadata": {},
     "output_type": "execute_result"
    }
   ],
   "source": [
    "class Person:\n",
    "    def __init__(self, name, age):\n",
    "        self.name = name\n",
    "        self.age = age\n",
    "\n",
    "    def __bool__(self):\n",
    "        if self.age < 18 or self.age > 65:\n",
    "            return False\n",
    "        return True\n",
    "\n",
    "\n",
    "\n",
    "jane = Person('Jane', 19)\n",
    "bool(jane)"
   ]
  },
  {
   "cell_type": "code",
   "execution_count": null,
   "id": "f1f32a10-97ca-4931-a53a-8bb45e60435e",
   "metadata": {},
   "outputs": [
    {
     "data": {
      "text/plain": [
       "True"
      ]
     },
     "execution_count": null,
     "metadata": {},
     "output_type": "execute_result"
    }
   ],
   "source": [
    "bool(jane) is True"
   ]
  },
  {
   "cell_type": "markdown",
   "id": "4527f8fd-44c9-4755-a350-28ad5d494140",
   "metadata": {},
   "source": [
    "## `__len__`"
   ]
  },
  {
   "cell_type": "code",
   "execution_count": null,
   "id": "aa20e4ea-b105-4c1e-a6fd-4ae4a1d7fbcf",
   "metadata": {},
   "outputs": [
    {
     "data": {
      "text/plain": [
       "4"
      ]
     },
     "execution_count": null,
     "metadata": {},
     "output_type": "execute_result"
    }
   ],
   "source": [
    "a = 'aasd'\n",
    "len(a)"
   ]
  },
  {
   "cell_type": "code",
   "execution_count": null,
   "id": "0645f806-1b05-41ac-be6e-143aed7d52fd",
   "metadata": {},
   "outputs": [
    {
     "name": "stdout",
     "output_type": "stream",
     "text": [
      "len was called...\n",
      "True\n",
      "len was called...\n",
      "False\n"
     ]
    }
   ],
   "source": [
    "class Person:\n",
    "    def __init__(self, name):\n",
    "        self.name = name\n",
    "\n",
    "    def __len__(self):\n",
    "        print('len was called...')\n",
    "        return len(self.name)\n",
    "\n",
    "\n",
    "ben = Person('ben')\n",
    "print(bool(ben))  # False\n",
    "\n",
    "ben.name = ''\n",
    "print(bool(ben))  # True"
   ]
  },
  {
   "cell_type": "markdown",
   "id": "4061abef-16c5-4301-abd5-597dd6fd6bbe",
   "metadata": {},
   "source": [
    "#### Summary "
   ]
  },
  {
   "cell_type": "markdown",
   "id": "263bb965-05a5-4c01-8517-d3b4c7c34564",
   "metadata": {},
   "source": [
    "- All objects of custom classes return True by default.\n",
    "- Implement the __bool__ method to override the default. The __bool__ method must return either True or False.\n",
    "- If a class doesn’t implement the __bool__ method, Python will use the result of the __len__ method. If the class doesn’t implement both methods, the objects will be True by default."
   ]
  },
  {
   "cell_type": "markdown",
   "id": "72f538e2-3108-44cb-a951-ca448a04404a",
   "metadata": {},
   "source": [
    "## `__del__`"
   ]
  },
  {
   "cell_type": "code",
   "execution_count": null,
   "id": "055b5ba7-4685-47de-b132-8650ad98704e",
   "metadata": {},
   "outputs": [
    {
     "name": "stdout",
     "output_type": "stream",
     "text": [
      "__del__ was called\n"
     ]
    }
   ],
   "source": [
    "class Person:\n",
    "    def __init__(self, name, age):\n",
    "        self.name = name\n",
    "        self.age = age\n",
    "\n",
    "    def __del__(self):\n",
    "        print('__del__ was called')\n",
    "\n",
    "\n",
    "person = Person('John Doe', 23)\n",
    "del person"
   ]
  },
  {
   "cell_type": "code",
   "execution_count": null,
   "id": "18ff2d87-9228-4755-8f76-545bf01b55d2",
   "metadata": {},
   "outputs": [
    {
     "name": "stdout",
     "output_type": "stream",
     "text": [
      "__del__ was called\n"
     ]
    }
   ],
   "source": [
    "person = Person('John Doe', 23)\n",
    "person = None"
   ]
  },
  {
   "cell_type": "markdown",
   "id": "9d366080-30c1-4629-b9d1-0d41fb69f9c0",
   "metadata": {},
   "source": [
    "## `__dict__`"
   ]
  },
  {
   "cell_type": "code",
   "execution_count": null,
   "id": "34fb56bd-6a6e-46e5-9dc9-077b72ceeee5",
   "metadata": {},
   "outputs": [
    {
     "data": {
      "text/plain": [
       "mappingproxy({'__module__': '__main__',\n",
       "              '__init__': <function __main__.Person.__init__(self, name, age)>,\n",
       "              '__del__': <function __main__.Person.__del__(self)>,\n",
       "              '__dict__': <attribute '__dict__' of 'Person' objects>,\n",
       "              '__weakref__': <attribute '__weakref__' of 'Person' objects>,\n",
       "              '__doc__': None})"
      ]
     },
     "execution_count": null,
     "metadata": {},
     "output_type": "execute_result"
    }
   ],
   "source": [
    "Person.__dict__"
   ]
  },
  {
   "cell_type": "markdown",
   "id": "fd3e908b-9171-48e7-8f79-ed56c2be667d",
   "metadata": {},
   "source": [
    "## Python Operator Overloading"
   ]
  },
  {
   "cell_type": "code",
   "execution_count": null,
   "id": "a3e246d9-c1e6-4607-a21a-399e78dbefb9",
   "metadata": {},
   "outputs": [
    {
     "data": {
      "text/plain": [
       "((5,5), (25,45), (150,500), (25,45))"
      ]
     },
     "execution_count": null,
     "metadata": {},
     "output_type": "execute_result"
    }
   ],
   "source": [
    "class Point2D:\n",
    "    def __init__(self, x, y):\n",
    "        self.x = x\n",
    "        self.y = y\n",
    "\n",
    "    def __repr__(self):\n",
    "        return f'({self.x},{self.y})'\n",
    "\n",
    "    def __add__(self, point):\n",
    "        if not isinstance(point, Point2D):\n",
    "            raise ValueError('The other must be an instance of the Point2D')\n",
    "\n",
    "        return Point2D(self.x + point.x, self.y + point.y)\n",
    "\n",
    "    def __sub__(self, point):\n",
    "        if not isinstance(point, Point2D):\n",
    "            raise ValueError('The other must be an instance of the Point2D')\n",
    "\n",
    "        return Point2D(self.x - point.x, self.y - point.y)\n",
    "    def __mul__(self, point):\n",
    "        if not isinstance(point, Point2D):\n",
    "            raise ValueError('The other must be an instance of the Point2D')\n",
    "\n",
    "        return Point2D(self.x * point.x, self.y * point.y)\n",
    "\n",
    "    def __and__(self, point):\n",
    "        return self.__add__(point)\n",
    "\n",
    "\n",
    "a = Point2D(10, 20)\n",
    "b = Point2D(15, 25)\n",
    "c = b - a\n",
    "b-a, b + a, b * a, b & a"
   ]
  },
  {
   "cell_type": "markdown",
   "id": "57b6c8a5-be9a-4d50-a7e2-3bdecae01672",
   "metadata": {},
   "source": [
    "## Inheritance"
   ]
  },
  {
   "cell_type": "markdown",
   "id": "6ae73c18-bf23-41dd-a3eb-27cdc549563f",
   "metadata": {},
   "source": [
    "```python\n",
    "class DerivedClassName(Base1, Base2, Base3):\n",
    "    <statement-1>\n",
    "    .\n",
    "    .\n",
    "    .\n",
    "    <statement-N>\n",
    "```"
   ]
  },
  {
   "cell_type": "markdown",
   "id": "bc1446d0-0deb-49f0-91c6-dea4d6d58f8b",
   "metadata": {},
   "source": [
    "#### Example"
   ]
  },
  {
   "cell_type": "code",
   "execution_count": null,
   "id": "c3f97fd7-df13-45e4-b091-08140c11f7e4",
   "metadata": {},
   "outputs": [],
   "source": [
    "class Person:\n",
    "    def __init__(self, fname, lname):\n",
    "        self.firstname = fname\n",
    "        self.lastname = lname\n",
    "        \n",
    "    def __str__(self):\n",
    "        return f\"str:{self.lastname}, {self.firstname}\"\n",
    "    \n",
    "    def __repr__(self):\n",
    "        return f'Repr: {self.firstname},{self.lastname}'\n",
    "\n",
    "    def printname(self):\n",
    "        print(self.firstname, self.lastname)\n",
    "\n",
    "#Use the Person class to create an object, and then execute the printname method:"
   ]
  },
  {
   "cell_type": "code",
   "execution_count": null,
   "id": "e99e2b86-c4b7-4b14-90d6-ba4117314e5b",
   "metadata": {},
   "outputs": [
    {
     "name": "stdout",
     "output_type": "stream",
     "text": [
      "str:Doe, John\n"
     ]
    }
   ],
   "source": [
    "x = Person(\"John\", \"Doe\")\n",
    "print(x)"
   ]
  },
  {
   "cell_type": "code",
   "execution_count": null,
   "id": "34743cf8-35f4-478a-b7a0-0dccf9220c2e",
   "metadata": {},
   "outputs": [
    {
     "data": {
      "text/plain": [
       "Repr: John,Doe"
      ]
     },
     "execution_count": null,
     "metadata": {},
     "output_type": "execute_result"
    }
   ],
   "source": [
    "x"
   ]
  },
  {
   "cell_type": "code",
   "execution_count": null,
   "id": "8fd7a893-cbc4-4f5b-a43d-98550c4f549b",
   "metadata": {},
   "outputs": [
    {
     "name": "stdout",
     "output_type": "stream",
     "text": [
      "Mike Olsen\n"
     ]
    }
   ],
   "source": [
    "class Student(Person):\n",
    "    pass \n",
    "\n",
    "x = Student(\"Mike\", \"Olsen\")\n",
    "x.printname()"
   ]
  },
  {
   "cell_type": "markdown",
   "id": "15f83aa6-57fa-4588-91d3-5a423a976e3e",
   "metadata": {},
   "source": [
    "The child's __init__() function overrides the inheritance of the parent's __init__() function."
   ]
  },
  {
   "cell_type": "code",
   "execution_count": null,
   "id": "380c31ed-a292-46b5-a354-8a777158d1ca",
   "metadata": {},
   "outputs": [],
   "source": [
    "class Student(Person):\n",
    "    def __init__(self, fname, lname):\n",
    "        Person.__init__(self, fname, lname) "
   ]
  },
  {
   "cell_type": "markdown",
   "id": "b8a13f6f-22e0-4078-b6d9-05e6a29aa446",
   "metadata": {},
   "source": [
    "Now we have successfully added the __init__() function, and kept the inheritance of the parent class, and we are ready to add functionality in the __init__() function."
   ]
  },
  {
   "cell_type": "markdown",
   "id": "d3221e19-8b56-4fe2-b765-55f8ca1963aa",
   "metadata": {},
   "source": [
    "Python also has a super() function that will make the child class inherit all the methods and properties from its parent:"
   ]
  },
  {
   "cell_type": "code",
   "execution_count": null,
   "id": "63679f91-9b35-4d6f-822f-c9592f93a36f",
   "metadata": {},
   "outputs": [],
   "source": [
    "class Student(Person):\n",
    "    def __init__(self, fname, lname, year):\n",
    "        super().__init__(fname, lname)\n",
    "        self.graduationyear = year\n",
    "\n",
    "    def welcome(self):\n",
    "        print(\"Welcome\", self.firstname, self.lastname, \"to the class of\", self.graduationyear) "
   ]
  },
  {
   "cell_type": "code",
   "execution_count": null,
   "id": "2cab6a00-60be-4ed1-a7f5-c5a316c26848",
   "metadata": {},
   "outputs": [
    {
     "name": "stdout",
     "output_type": "stream",
     "text": [
      "Welcome Mike Olsen to the class of 2019\n"
     ]
    }
   ],
   "source": [
    "x = Student(\"Mike\", \"Olsen\", 2019) \n",
    "x.welcome()"
   ]
  },
  {
   "cell_type": "markdown",
   "id": "791d2dfd-738e-480d-a3e9-5b31901b77c1",
   "metadata": {},
   "source": [
    "## Property"
   ]
  },
  {
   "cell_type": "markdown",
   "id": "9594b85c-875a-4533-95df-f4bb33117a7d",
   "metadata": {},
   "source": [
    "### Getter and setter"
   ]
  },
  {
   "cell_type": "code",
   "execution_count": null,
   "id": "1580b242-8ddf-4b13-9521-8bc3096f8a18",
   "metadata": {},
   "outputs": [],
   "source": [
    "class Person:\n",
    "    def __init__(self, name, age):\n",
    "        self.name = name\n",
    "        self.set_age(age)\n",
    "\n",
    "    def set_age(self, age):\n",
    "        if age <= 0:\n",
    "            #raise ValueError('The age must be positive')\n",
    "            print('The age must be positive')\n",
    "            return\n",
    "        self._age = age\n",
    "\n",
    "    def get_age(self):\n",
    "        return self._age\n",
    "\n",
    "john = Person('John', 18)"
   ]
  },
  {
   "cell_type": "code",
   "execution_count": null,
   "id": "92294af8-c8bf-4484-be4f-4a320de7f31d",
   "metadata": {},
   "outputs": [
    {
     "name": "stdout",
     "output_type": "stream",
     "text": [
      "The age must be positive\n",
      "18\n"
     ]
    }
   ],
   "source": [
    "john.set_age(-19)\n",
    "print(john.get_age())"
   ]
  },
  {
   "cell_type": "code",
   "execution_count": null,
   "id": "143a7869-4f92-4a77-b254-f3455189e677",
   "metadata": {},
   "outputs": [
    {
     "data": {
      "text/plain": [
       "{'name': 'John', '_age': 18}"
      ]
     },
     "execution_count": null,
     "metadata": {},
     "output_type": "execute_result"
    }
   ],
   "source": [
    "john.__dict__"
   ]
  },
  {
   "cell_type": "code",
   "execution_count": null,
   "id": "81aa5042-dfa9-4407-bb59-f5ae37495811",
   "metadata": {},
   "outputs": [
    {
     "data": {
      "text/plain": [
       "mappingproxy({'__module__': '__main__',\n",
       "              '__init__': <function __main__.Person.__init__(self, name, age)>,\n",
       "              'set_age': <function __main__.Person.set_age(self, age)>,\n",
       "              'get_age': <function __main__.Person.get_age(self)>,\n",
       "              '__dict__': <attribute '__dict__' of 'Person' objects>,\n",
       "              '__weakref__': <attribute '__weakref__' of 'Person' objects>,\n",
       "              '__doc__': None})"
      ]
     },
     "execution_count": null,
     "metadata": {},
     "output_type": "execute_result"
    }
   ],
   "source": [
    "Person.__dict__"
   ]
  },
  {
   "cell_type": "markdown",
   "id": "018f39d1-ae44-47cf-88fb-1116331f3e3d",
   "metadata": {},
   "source": [
    "The property() has the following parameters:\n",
    "\n",
    "- fget is a function to get the value of the attribute, or the getter method.\n",
    "- fset is a function to set the value of the attribute, or the setter method.\n",
    "- fdel is a function to delete the attribute.\n",
    "- doc is a docstring i.e., a comment."
   ]
  },
  {
   "cell_type": "code",
   "execution_count": null,
   "id": "fcffa1ab-6142-4b10-99c5-cdb19578fc55",
   "metadata": {},
   "outputs": [],
   "source": [
    "class Person:\n",
    "    def __init__(self, name, age):\n",
    "        self.name = name\n",
    "        self.set_age(age)\n",
    "\n",
    "    def set_age(self, age):\n",
    "        if age <= 0:\n",
    "            #raise ValueError('The age must be positive')\n",
    "            print('The age must be positive')\n",
    "            return\n",
    "        self._age = age\n",
    "\n",
    "    def get_age(self):\n",
    "        return self._age\n",
    "    \n",
    "    age = property(fget=get_age, fset=set_age)\n",
    "\n",
    "john = Person('John', 18)"
   ]
  },
  {
   "cell_type": "code",
   "execution_count": null,
   "id": "afec7526-acde-4578-90ca-5567bbd8bd17",
   "metadata": {},
   "outputs": [
    {
     "name": "stdout",
     "output_type": "stream",
     "text": [
      "The age must be positive\n"
     ]
    }
   ],
   "source": [
    "john.age = -19"
   ]
  },
  {
   "cell_type": "code",
   "execution_count": null,
   "id": "d020759f-5181-4606-a028-2b3dc145732c",
   "metadata": {},
   "outputs": [
    {
     "data": {
      "text/plain": [
       "18"
      ]
     },
     "execution_count": null,
     "metadata": {},
     "output_type": "execute_result"
    }
   ],
   "source": [
    "john.age"
   ]
  },
  {
   "cell_type": "markdown",
   "id": "900236ba-c6a1-4249-aa82-9a525f1dde18",
   "metadata": {},
   "source": [
    "### Property Decorator"
   ]
  },
  {
   "cell_type": "markdown",
   "id": "5116feca-7bb8-4c9b-aaee-1a1054ca946a",
   "metadata": {},
   "source": [
    "Here’s the syntax of the property class:\n",
    "```python\n",
    "class property(fget=None, fset=None, fdel=None, doc=None)\n",
    "```"
   ]
  },
  {
   "cell_type": "markdown",
   "id": "f8b9c6f9-c0ab-49e3-b76a-1685eabd5ca9",
   "metadata": {},
   "source": [
    "The property() accepts a callable (age) and returns a callable. Therefore, it is a decorator. Therefore, you can use the @property decorator to decorate the age() method as follows:"
   ]
  },
  {
   "cell_type": "markdown",
   "id": "57ad4c8a-122f-4bd3-91eb-01c8ba8e7424",
   "metadata": {},
   "source": [
    "To assign the set_age to the fset of the age property object, you call the setter() method of the age property object like the following:"
   ]
  },
  {
   "cell_type": "code",
   "execution_count": null,
   "id": "2d97b1b6-38bd-4c23-8b89-930afdfd894e",
   "metadata": {},
   "outputs": [],
   "source": [
    "class Person:\n",
    "    def __init__(self, name, age):\n",
    "        self.name = name\n",
    "        self._age = age\n",
    "\n",
    "    @property\n",
    "    def age(self):\n",
    "        return self._age\n",
    "\n",
    "    @age.setter\n",
    "    def set_age(self, value):\n",
    "        if value <= 0:\n",
    "            raise ValueError('The age must be positive')\n",
    "        self._age = value"
   ]
  },
  {
   "cell_type": "markdown",
   "id": "d417a2e4-0f82-47a4-9e5a-373a650c40e1",
   "metadata": {},
   "source": [
    "### Readonly Property"
   ]
  },
  {
   "cell_type": "markdown",
   "id": "33257325-0e7b-48c8-8ad6-0436a91edf71",
   "metadata": {},
   "source": [
    "To define a readonly property, you need to create a property with only the getter. However, it is not truly read-only because you can always access the underlying attribute and change it."
   ]
  },
  {
   "cell_type": "code",
   "execution_count": null,
   "id": "bc19b083-203a-4257-9ba7-99b47ed43f08",
   "metadata": {},
   "outputs": [
    {
     "name": "stdout",
     "output_type": "stream",
     "text": [
      "314.1592653589793\n"
     ]
    }
   ],
   "source": [
    "import math\n",
    "\n",
    "\n",
    "class Circle:\n",
    "    def __init__(self, radius):\n",
    "        self.radius = radius\n",
    "\n",
    "    @property\n",
    "    def area(self):\n",
    "        return math.pi * self.radius ** 2\n",
    "\n",
    "\n",
    "c = Circle(10)\n",
    "print(c.area)"
   ]
  },
  {
   "cell_type": "markdown",
   "id": "47f6edc7-ca51-40bf-9658-c814d00c6225",
   "metadata": {},
   "source": [
    "### Delete Property"
   ]
  },
  {
   "cell_type": "code",
   "execution_count": null,
   "id": "03ba8934-a084-48c0-b087-bfbe20a568e4",
   "metadata": {},
   "outputs": [],
   "source": [
    "from pprint import pprint\n",
    "\n",
    "\n",
    "class Person:\n",
    "    def __init__(self, name):\n",
    "        self._name = name\n",
    "\n",
    "    @property\n",
    "    def name(self):\n",
    "        return self._name\n",
    "\n",
    "    @name.setter\n",
    "    def name(self, value):\n",
    "        if value.strip() == '':\n",
    "            raise ValueError('name cannot be empty')\n",
    "        self._name = value\n",
    "\n",
    "    @name.deleter\n",
    "    def name(self):\n",
    "        del self._name"
   ]
  },
  {
   "cell_type": "code",
   "execution_count": null,
   "id": "0b559fea-1394-4692-8576-2b7369e4a61e",
   "metadata": {},
   "outputs": [
    {
     "name": "stdout",
     "output_type": "stream",
     "text": [
      "mappingproxy({'__dict__': <attribute '__dict__' of 'Person' objects>,\n",
      "              '__doc__': None,\n",
      "              '__init__': <function Person.__init__>,\n",
      "              '__module__': '__main__',\n",
      "              '__weakref__': <attribute '__weakref__' of 'Person' objects>,\n",
      "              'name': <property object>})\n"
     ]
    }
   ],
   "source": [
    "pprint(Person.__dict__)"
   ]
  },
  {
   "cell_type": "code",
   "execution_count": null,
   "id": "815edb11-f701-47b8-944c-611af27fc793",
   "metadata": {},
   "outputs": [],
   "source": [
    "person = Person('John')"
   ]
  },
  {
   "cell_type": "code",
   "execution_count": null,
   "id": "87d7658f-491f-4f8d-a603-34d16be002ca",
   "metadata": {},
   "outputs": [
    {
     "data": {
      "text/plain": [
       "'Person'"
      ]
     },
     "execution_count": null,
     "metadata": {},
     "output_type": "execute_result"
    }
   ],
   "source": [
    "person.__class__.__name__"
   ]
  },
  {
   "cell_type": "code",
   "execution_count": null,
   "id": "6e0814d8-864a-47e1-be40-84e52c46c077",
   "metadata": {},
   "outputs": [
    {
     "name": "stdout",
     "output_type": "stream",
     "text": [
      "{'_name': 'John'}\n"
     ]
    }
   ],
   "source": [
    "pprint(person.__dict__)"
   ]
  },
  {
   "cell_type": "code",
   "execution_count": null,
   "id": "3eae6c28-aa95-489b-a0ed-fb5e2bc07059",
   "metadata": {},
   "outputs": [],
   "source": [
    "del person.name"
   ]
  },
  {
   "cell_type": "code",
   "execution_count": null,
   "id": "93eb993b-d330-4b3a-9715-1595942dc706",
   "metadata": {},
   "outputs": [
    {
     "name": "stdout",
     "output_type": "stream",
     "text": [
      "{}\n"
     ]
    }
   ],
   "source": [
    "pprint(person.__dict__)"
   ]
  },
  {
   "cell_type": "markdown",
   "id": "81f3ff42-4375-495c-b659-babdc4912943",
   "metadata": {},
   "source": [
    "## Decorators"
   ]
  },
  {
   "cell_type": "markdown",
   "id": "a8d850c5-9aa4-4c52-a165-6bf367d42689",
   "metadata": {},
   "source": [
    "### Passing the function as an argument "
   ]
  },
  {
   "cell_type": "code",
   "execution_count": null,
   "id": "2db8d430-e024-4753-9696-11b589d8110e",
   "metadata": {},
   "outputs": [],
   "source": [
    "# can be passed as arguments to other functions \n",
    "def shout(text): \n",
    "    return text.upper() \n",
    " \n",
    "def whisper(text): \n",
    "    return text.lower() \n",
    " \n",
    "def greet(func): \n",
    "    # storing the function in a variable \n",
    "    greeting = func(\"\"\"Hi, I am created by a function passed as an argument.\"\"\") \n",
    "    print (greeting) "
   ]
  },
  {
   "cell_type": "code",
   "execution_count": null,
   "id": "66c5be32-b3f5-496a-9a71-12f0ebc4751b",
   "metadata": {},
   "outputs": [
    {
     "name": "stdout",
     "output_type": "stream",
     "text": [
      "HI, I AM CREATED BY A FUNCTION PASSED AS AN ARGUMENT.\n",
      "hi, i am created by a function passed as an argument.\n"
     ]
    }
   ],
   "source": [
    "greet(shout) \n",
    "greet(whisper) "
   ]
  },
  {
   "cell_type": "markdown",
   "id": "b50578c9-b956-42e9-b09e-334912a163ef",
   "metadata": {},
   "source": [
    "### Returning functions from another function."
   ]
  },
  {
   "cell_type": "code",
   "execution_count": null,
   "id": "cc8513cc-94d5-4862-a03c-598cbcbad884",
   "metadata": {},
   "outputs": [
    {
     "name": "stdout",
     "output_type": "stream",
     "text": [
      "25\n"
     ]
    }
   ],
   "source": [
    "def create_adder(x): \n",
    "    def adder(y): \n",
    "        return x+y \n",
    " \n",
    "    return adder \n",
    " \n",
    "add_15 = create_adder(15) \n",
    " \n",
    "print(add_15(10)) "
   ]
  },
  {
   "cell_type": "markdown",
   "id": "5849c146-5b40-46e0-bf37-377f034e8ccf",
   "metadata": {},
   "source": [
    "As stated above the decorators are used to modify the behaviour of function or class. In Decorators, functions are taken as the argument into another function and then called inside the wrapper function."
   ]
  },
  {
   "cell_type": "markdown",
   "id": "5498e316-4fe9-4bc2-8eea-c9340e34f048",
   "metadata": {},
   "source": [
    "```python\n",
    "@gfg_decorator\n",
    "def hello_decorator():\n",
    "    print(\"Gfg\")\n",
    "\n",
    "'''Above code is equivalent to '''\n",
    "\n",
    "def hello_decorator():\n",
    "    print(\"Gfg\")\n",
    "    \n",
    "hello_decorator = gfg_decorator(hello_decorator)\n",
    "```"
   ]
  },
  {
   "cell_type": "markdown",
   "id": "60f45a2c-0d26-4366-8d15-2ed71259356b",
   "metadata": {},
   "source": [
    "### Decorator can modify the behaviour:  "
   ]
  },
  {
   "cell_type": "code",
   "execution_count": null,
   "id": "b6312304-2e50-4927-94cf-3ac1369c2cd7",
   "metadata": {},
   "outputs": [
    {
     "data": {
      "text/plain": [
       "3628800"
      ]
     },
     "execution_count": null,
     "metadata": {},
     "output_type": "execute_result"
    }
   ],
   "source": [
    "\n",
    "# importing libraries\n",
    "import time\n",
    "import math\n",
    " \n",
    "# decorator to calculate duration\n",
    "# taken by any function.\n",
    "def calculate_time(func):\n",
    "    print('inside')\n",
    "    # added arguments inside the inner1,\n",
    "    # if function takes any arguments,\n",
    "    # can be added like this.\n",
    "    def inner1(*args, **kwargs):\n",
    " \n",
    "        # storing time before function execution\n",
    "        begin = time.time()\n",
    "        print('before')\n",
    "        a = func(*args, **kwargs)\n",
    "        \n",
    "        # storing time after function execution\n",
    "        end = time.time()\n",
    "        print(\"after: Total time taken in : \", func.__name__, end - begin)\n",
    "        \n",
    "        return a\n",
    " \n",
    "    return inner1\n",
    " \n",
    " \n",
    " \n",
    "# this can be added to any function present,\n",
    "# in this case to calculate a factorial\n",
    "#@calculate_time\n",
    "def factorial(num):\n",
    " \n",
    "    # sleep 2 seconds because it takes very less time\n",
    "    # so that you can see the actual difference\n",
    "    return math.factorial(num)\n",
    " \n",
    "# calling the function.\n",
    "factorial(10)\n"
   ]
  },
  {
   "cell_type": "code",
   "execution_count": null,
   "id": "3f5079e7-1fce-42a6-8b97-61f8491ff08e",
   "metadata": {},
   "outputs": [
    {
     "name": "stdout",
     "output_type": "stream",
     "text": [
      "inside\n",
      "before\n",
      "Total time taken in :  factorial 3.361701965332031e-05\n"
     ]
    },
    {
     "data": {
      "text/plain": [
       "3628800"
      ]
     },
     "execution_count": null,
     "metadata": {},
     "output_type": "execute_result"
    }
   ],
   "source": [
    "calculate_time(factorial)(10)"
   ]
  },
  {
   "cell_type": "code",
   "execution_count": null,
   "id": "36e749e8-59d0-463d-ae3e-047e127be481",
   "metadata": {},
   "outputs": [
    {
     "name": "stdout",
     "output_type": "stream",
     "text": [
      "inside\n"
     ]
    }
   ],
   "source": [
    "factorial = calculate_time(factorial)"
   ]
  },
  {
   "cell_type": "code",
   "execution_count": null,
   "id": "d1c4ad75-6fc9-430e-b0da-ae166b177f0a",
   "metadata": {},
   "outputs": [
    {
     "name": "stdout",
     "output_type": "stream",
     "text": [
      "before\n",
      "Total time taken in :  factorial 0.00014400482177734375\n"
     ]
    },
    {
     "data": {
      "text/plain": [
       "3628800"
      ]
     },
     "execution_count": null,
     "metadata": {},
     "output_type": "execute_result"
    }
   ],
   "source": [
    "factorial(10)"
   ]
  },
  {
   "cell_type": "code",
   "execution_count": null,
   "id": "aa3a50f8-1d4f-4458-9d60-496a6894e339",
   "metadata": {},
   "outputs": [
    {
     "name": "stdout",
     "output_type": "stream",
     "text": [
      "before\n",
      "Total time taken in :  factorial 0.000186920166015625\n"
     ]
    },
    {
     "data": {
      "text/plain": [
       "1"
      ]
     },
     "execution_count": null,
     "metadata": {},
     "output_type": "execute_result"
    }
   ],
   "source": [
    "factorial(1)"
   ]
  },
  {
   "cell_type": "code",
   "execution_count": null,
   "id": "b02de2bd-b11a-4469-ad74-b9a8cfaa4878",
   "metadata": {},
   "outputs": [
    {
     "name": "stdout",
     "output_type": "stream",
     "text": [
      "inside\n"
     ]
    }
   ],
   "source": [
    "@calculate_time\n",
    "def factorial(num):\n",
    " \n",
    "    # sleep 2 seconds because it takes very less time\n",
    "    # so that you can see the actual difference\n",
    "\n",
    "    return math.factorial(num)\n",
    " "
   ]
  },
  {
   "cell_type": "code",
   "execution_count": null,
   "id": "a99df9a4-6535-4c81-bf98-fee7bc057285",
   "metadata": {},
   "outputs": [
    {
     "name": "stdout",
     "output_type": "stream",
     "text": [
      "before\n",
      "Total time taken in :  factorial 0.0002372264862060547\n"
     ]
    },
    {
     "data": {
      "text/plain": [
       "3628800"
      ]
     },
     "execution_count": null,
     "metadata": {},
     "output_type": "execute_result"
    }
   ],
   "source": [
    "# calling the function.\n",
    "factorial(10)"
   ]
  },
  {
   "cell_type": "markdown",
   "id": "4cb214e2-33c7-41d4-b654-9d8353e4a17d",
   "metadata": {},
   "source": [
    "#### Example"
   ]
  },
  {
   "cell_type": "code",
   "execution_count": null,
   "id": "5aa53b5d-bb5b-4403-86c6-91052d935428",
   "metadata": {},
   "outputs": [
    {
     "name": "stdout",
     "output_type": "stream",
     "text": [
      "before Execution\n",
      "Inside the function\n",
      "after Execution\n",
      "Sum = 3\n"
     ]
    }
   ],
   "source": [
    "def hello_decorator(func):\n",
    "\tdef inner1(*args, **kwargs):\n",
    "\t\t\n",
    "\t\tprint(\"before Execution\")\n",
    "\t\t\n",
    "\t\t# getting the returned value\n",
    "\t\treturned_value = func(*args, **kwargs)\n",
    "\t\tprint(\"after Execution\")\n",
    "\t\t\n",
    "\t\t# returning the value to the original frame\n",
    "\t\treturn returned_value\n",
    "\t\t\n",
    "\treturn inner1\n",
    "\n",
    "\n",
    "# adding decorator to the function\n",
    "@hello_decorator\n",
    "def sum_two_numbers(a, b):\n",
    "\tprint(\"Inside the function\")\n",
    "\treturn a + b\n",
    "\n",
    "a, b = 1, 2\n",
    "\n",
    "# getting the value through return of the function\n",
    "print(\"Sum =\", sum_two_numbers(a, b))\n"
   ]
  },
  {
   "cell_type": "markdown",
   "id": "132e3cdb-db84-45bc-9d10-c4a7b6891c57",
   "metadata": {},
   "source": [
    "### Decorator Chaining"
   ]
  },
  {
   "cell_type": "code",
   "execution_count": null,
   "id": "a8f0489c-70c3-4abd-9272-66e67021d778",
   "metadata": {},
   "outputs": [
    {
     "name": "stdout",
     "output_type": "stream",
     "text": [
      "10\n",
      "2 * 10\n",
      "20 * 20\n",
      "400\n",
      "10\n",
      "10 * 10\n",
      "2 * 100\n",
      "200\n"
     ]
    }
   ],
   "source": [
    "# code for testing decorator chaining \n",
    "def decor1(func):\n",
    "    def inner():\n",
    "        \n",
    "        x = func()\n",
    "        print(f'{x} * {x}')\n",
    "        return x * x\n",
    "    return inner \n",
    "def decor(func):\n",
    "    def inner():\n",
    "        x = func()\n",
    "        print(f'2 * {x}')\n",
    "        return 2 * x\n",
    "    return inner\n",
    " \n",
    "\n",
    "\n",
    "@decor1\n",
    "@decor\n",
    "def num(): \n",
    "    print(10)\n",
    "    return 10\n",
    "\n",
    "@decor\n",
    "@decor1\n",
    "def num2():\n",
    "    print(10)\n",
    "    return 10\n",
    "\n",
    "print(num()) \n",
    "print(num2())\n"
   ]
  },
  {
   "cell_type": "markdown",
   "id": "7a2b1e39-6699-4031-b7c5-8ccf2961352a",
   "metadata": {},
   "source": [
    "### Decorator with parameters "
   ]
  },
  {
   "cell_type": "code",
   "execution_count": null,
   "id": "ed52cf4c-3371-4c52-a927-ee7e41ea8035",
   "metadata": {},
   "outputs": [
    {
     "name": "stdout",
     "output_type": "stream",
     "text": [
      "I like Geeksforgeeks\n",
      "Summation of values - 27\n",
      "Geeks\n",
      "for\n",
      "Geeks\n"
     ]
    }
   ],
   "source": [
    "# Python code to illustrate \n",
    "# Decorators with parameters in Python \n",
    "\n",
    "def decorator_func(x, y):\n",
    "\n",
    "\tdef Inner(func):\n",
    "\n",
    "\t\tdef wrapper(*args, **kwargs):\n",
    "\t\t\tprint(\"I like Geeksforgeeks\")\n",
    "\t\t\tprint(\"Summation of values - {}\".format(x+y) )\n",
    "\n",
    "\t\t\tfunc(*args, **kwargs)\n",
    "\t\t\t\n",
    "\t\treturn wrapper\n",
    "\treturn Inner\n",
    "\n",
    "\n",
    "# Not using decorator \n",
    "def my_fun(*args):\n",
    "\tfor ele in args:\n",
    "\t\tprint(ele)\n",
    "\n",
    "# another way of using decorators\n",
    "decorator_func(12, 15)(my_fun)('Geeks', 'for', 'Geeks')\n"
   ]
  },
  {
   "cell_type": "code",
   "execution_count": null,
   "id": "063ac363-f469-40da-83a6-628a8e6f2fcf",
   "metadata": {},
   "outputs": [
    {
     "name": "stdout",
     "output_type": "stream",
     "text": [
      "I like Geeksforgeeks\n",
      "Summation of values - 27\n",
      "Geeks\n",
      "for\n",
      "Geeks\n"
     ]
    }
   ],
   "source": [
    "@decorator_func(12,15)\n",
    "def my_fun(*args):\n",
    "\tfor ele in args:\n",
    "\t\tprint(ele)\n",
    "\n",
    "# another way of using decorators\n",
    "my_fun('Geeks', 'for', 'Geeks')"
   ]
  },
  {
   "cell_type": "markdown",
   "id": "b98d4709-03f8-4689-8b47-bc062ed60c2c",
   "metadata": {},
   "source": [
    "## Partials"
   ]
  },
  {
   "cell_type": "markdown",
   "id": "f496b0fe-7e50-4d71-868e-b712e5a71a8c",
   "metadata": {},
   "source": [
    "Partial functions support both positional and keyword arguments to be used as fixed arguments. "
   ]
  },
  {
   "cell_type": "markdown",
   "id": "b3a7bd31-9e15-4346-81a0-89e06309aac2",
   "metadata": {},
   "source": [
    "input a function with inputs variables to be set \\\n",
    "output new function with the variabes set"
   ]
  },
  {
   "cell_type": "code",
   "execution_count": null,
   "id": "56691735-fc7d-42d3-bd24-ea6dd029f65a",
   "metadata": {},
   "outputs": [],
   "source": [
    "from functools import partial"
   ]
  },
  {
   "cell_type": "code",
   "execution_count": null,
   "id": "079626e3-814b-4a0b-ab8d-6e7e485e93be",
   "metadata": {},
   "outputs": [
    {
     "data": {
      "text/plain": [
       "\u001b[0;31mInit signature:\u001b[0m \u001b[0mpartial\u001b[0m\u001b[0;34m(\u001b[0m\u001b[0mself\u001b[0m\u001b[0;34m,\u001b[0m \u001b[0;34m/\u001b[0m\u001b[0;34m,\u001b[0m \u001b[0;34m*\u001b[0m\u001b[0margs\u001b[0m\u001b[0;34m,\u001b[0m \u001b[0;34m**\u001b[0m\u001b[0mkwargs\u001b[0m\u001b[0;34m)\u001b[0m\u001b[0;34m\u001b[0m\u001b[0;34m\u001b[0m\u001b[0m\n",
       "\u001b[0;31mDocstring:\u001b[0m     \n",
       "partial(func, *args, **keywords) - new function with partial application\n",
       "of the given arguments and keywords.\n",
       "\u001b[0;31mSource:\u001b[0m        \n",
       "\u001b[0;32mclass\u001b[0m \u001b[0mpartial\u001b[0m\u001b[0;34m:\u001b[0m\u001b[0;34m\u001b[0m\n",
       "\u001b[0;34m\u001b[0m    \u001b[0;34m\"\"\"New function with partial application of the given arguments\u001b[0m\n",
       "\u001b[0;34m    and keywords.\u001b[0m\n",
       "\u001b[0;34m    \"\"\"\u001b[0m\u001b[0;34m\u001b[0m\n",
       "\u001b[0;34m\u001b[0m\u001b[0;34m\u001b[0m\n",
       "\u001b[0;34m\u001b[0m    \u001b[0m__slots__\u001b[0m \u001b[0;34m=\u001b[0m \u001b[0;34m\"func\"\u001b[0m\u001b[0;34m,\u001b[0m \u001b[0;34m\"args\"\u001b[0m\u001b[0;34m,\u001b[0m \u001b[0;34m\"keywords\"\u001b[0m\u001b[0;34m,\u001b[0m \u001b[0;34m\"__dict__\"\u001b[0m\u001b[0;34m,\u001b[0m \u001b[0;34m\"__weakref__\"\u001b[0m\u001b[0;34m\u001b[0m\n",
       "\u001b[0;34m\u001b[0m\u001b[0;34m\u001b[0m\n",
       "\u001b[0;34m\u001b[0m    \u001b[0;32mdef\u001b[0m \u001b[0m__new__\u001b[0m\u001b[0;34m(\u001b[0m\u001b[0mcls\u001b[0m\u001b[0;34m,\u001b[0m \u001b[0mfunc\u001b[0m\u001b[0;34m,\u001b[0m \u001b[0;34m/\u001b[0m\u001b[0;34m,\u001b[0m \u001b[0;34m*\u001b[0m\u001b[0margs\u001b[0m\u001b[0;34m,\u001b[0m \u001b[0;34m**\u001b[0m\u001b[0mkeywords\u001b[0m\u001b[0;34m)\u001b[0m\u001b[0;34m:\u001b[0m\u001b[0;34m\u001b[0m\n",
       "\u001b[0;34m\u001b[0m        \u001b[0;32mif\u001b[0m \u001b[0;32mnot\u001b[0m \u001b[0mcallable\u001b[0m\u001b[0;34m(\u001b[0m\u001b[0mfunc\u001b[0m\u001b[0;34m)\u001b[0m\u001b[0;34m:\u001b[0m\u001b[0;34m\u001b[0m\n",
       "\u001b[0;34m\u001b[0m            \u001b[0;32mraise\u001b[0m \u001b[0mTypeError\u001b[0m\u001b[0;34m(\u001b[0m\u001b[0;34m\"the first argument must be callable\"\u001b[0m\u001b[0;34m)\u001b[0m\u001b[0;34m\u001b[0m\n",
       "\u001b[0;34m\u001b[0m\u001b[0;34m\u001b[0m\n",
       "\u001b[0;34m\u001b[0m        \u001b[0;32mif\u001b[0m \u001b[0mhasattr\u001b[0m\u001b[0;34m(\u001b[0m\u001b[0mfunc\u001b[0m\u001b[0;34m,\u001b[0m \u001b[0;34m\"func\"\u001b[0m\u001b[0;34m)\u001b[0m\u001b[0;34m:\u001b[0m\u001b[0;34m\u001b[0m\n",
       "\u001b[0;34m\u001b[0m            \u001b[0margs\u001b[0m \u001b[0;34m=\u001b[0m \u001b[0mfunc\u001b[0m\u001b[0;34m.\u001b[0m\u001b[0margs\u001b[0m \u001b[0;34m+\u001b[0m \u001b[0margs\u001b[0m\u001b[0;34m\u001b[0m\n",
       "\u001b[0;34m\u001b[0m            \u001b[0mkeywords\u001b[0m \u001b[0;34m=\u001b[0m \u001b[0;34m{\u001b[0m\u001b[0;34m**\u001b[0m\u001b[0mfunc\u001b[0m\u001b[0;34m.\u001b[0m\u001b[0mkeywords\u001b[0m\u001b[0;34m,\u001b[0m \u001b[0;34m**\u001b[0m\u001b[0mkeywords\u001b[0m\u001b[0;34m}\u001b[0m\u001b[0;34m\u001b[0m\n",
       "\u001b[0;34m\u001b[0m            \u001b[0mfunc\u001b[0m \u001b[0;34m=\u001b[0m \u001b[0mfunc\u001b[0m\u001b[0;34m.\u001b[0m\u001b[0mfunc\u001b[0m\u001b[0;34m\u001b[0m\n",
       "\u001b[0;34m\u001b[0m\u001b[0;34m\u001b[0m\n",
       "\u001b[0;34m\u001b[0m        \u001b[0mself\u001b[0m \u001b[0;34m=\u001b[0m \u001b[0msuper\u001b[0m\u001b[0;34m(\u001b[0m\u001b[0mpartial\u001b[0m\u001b[0;34m,\u001b[0m \u001b[0mcls\u001b[0m\u001b[0;34m)\u001b[0m\u001b[0;34m.\u001b[0m\u001b[0m__new__\u001b[0m\u001b[0;34m(\u001b[0m\u001b[0mcls\u001b[0m\u001b[0;34m)\u001b[0m\u001b[0;34m\u001b[0m\n",
       "\u001b[0;34m\u001b[0m\u001b[0;34m\u001b[0m\n",
       "\u001b[0;34m\u001b[0m        \u001b[0mself\u001b[0m\u001b[0;34m.\u001b[0m\u001b[0mfunc\u001b[0m \u001b[0;34m=\u001b[0m \u001b[0mfunc\u001b[0m\u001b[0;34m\u001b[0m\n",
       "\u001b[0;34m\u001b[0m        \u001b[0mself\u001b[0m\u001b[0;34m.\u001b[0m\u001b[0margs\u001b[0m \u001b[0;34m=\u001b[0m \u001b[0margs\u001b[0m\u001b[0;34m\u001b[0m\n",
       "\u001b[0;34m\u001b[0m        \u001b[0mself\u001b[0m\u001b[0;34m.\u001b[0m\u001b[0mkeywords\u001b[0m \u001b[0;34m=\u001b[0m \u001b[0mkeywords\u001b[0m\u001b[0;34m\u001b[0m\n",
       "\u001b[0;34m\u001b[0m        \u001b[0;32mreturn\u001b[0m \u001b[0mself\u001b[0m\u001b[0;34m\u001b[0m\n",
       "\u001b[0;34m\u001b[0m\u001b[0;34m\u001b[0m\n",
       "\u001b[0;34m\u001b[0m    \u001b[0;32mdef\u001b[0m \u001b[0m__call__\u001b[0m\u001b[0;34m(\u001b[0m\u001b[0mself\u001b[0m\u001b[0;34m,\u001b[0m \u001b[0;34m/\u001b[0m\u001b[0;34m,\u001b[0m \u001b[0;34m*\u001b[0m\u001b[0margs\u001b[0m\u001b[0;34m,\u001b[0m \u001b[0;34m**\u001b[0m\u001b[0mkeywords\u001b[0m\u001b[0;34m)\u001b[0m\u001b[0;34m:\u001b[0m\u001b[0;34m\u001b[0m\n",
       "\u001b[0;34m\u001b[0m        \u001b[0mkeywords\u001b[0m \u001b[0;34m=\u001b[0m \u001b[0;34m{\u001b[0m\u001b[0;34m**\u001b[0m\u001b[0mself\u001b[0m\u001b[0;34m.\u001b[0m\u001b[0mkeywords\u001b[0m\u001b[0;34m,\u001b[0m \u001b[0;34m**\u001b[0m\u001b[0mkeywords\u001b[0m\u001b[0;34m}\u001b[0m\u001b[0;34m\u001b[0m\n",
       "\u001b[0;34m\u001b[0m        \u001b[0;32mreturn\u001b[0m \u001b[0mself\u001b[0m\u001b[0;34m.\u001b[0m\u001b[0mfunc\u001b[0m\u001b[0;34m(\u001b[0m\u001b[0;34m*\u001b[0m\u001b[0mself\u001b[0m\u001b[0;34m.\u001b[0m\u001b[0margs\u001b[0m\u001b[0;34m,\u001b[0m \u001b[0;34m*\u001b[0m\u001b[0margs\u001b[0m\u001b[0;34m,\u001b[0m \u001b[0;34m**\u001b[0m\u001b[0mkeywords\u001b[0m\u001b[0;34m)\u001b[0m\u001b[0;34m\u001b[0m\n",
       "\u001b[0;34m\u001b[0m\u001b[0;34m\u001b[0m\n",
       "\u001b[0;34m\u001b[0m    \u001b[0;34m@\u001b[0m\u001b[0mrecursive_repr\u001b[0m\u001b[0;34m(\u001b[0m\u001b[0;34m)\u001b[0m\u001b[0;34m\u001b[0m\n",
       "\u001b[0;34m\u001b[0m    \u001b[0;32mdef\u001b[0m \u001b[0m__repr__\u001b[0m\u001b[0;34m(\u001b[0m\u001b[0mself\u001b[0m\u001b[0;34m)\u001b[0m\u001b[0;34m:\u001b[0m\u001b[0;34m\u001b[0m\n",
       "\u001b[0;34m\u001b[0m        \u001b[0mqualname\u001b[0m \u001b[0;34m=\u001b[0m \u001b[0mtype\u001b[0m\u001b[0;34m(\u001b[0m\u001b[0mself\u001b[0m\u001b[0;34m)\u001b[0m\u001b[0;34m.\u001b[0m\u001b[0m__qualname__\u001b[0m\u001b[0;34m\u001b[0m\n",
       "\u001b[0;34m\u001b[0m        \u001b[0margs\u001b[0m \u001b[0;34m=\u001b[0m \u001b[0;34m[\u001b[0m\u001b[0mrepr\u001b[0m\u001b[0;34m(\u001b[0m\u001b[0mself\u001b[0m\u001b[0;34m.\u001b[0m\u001b[0mfunc\u001b[0m\u001b[0;34m)\u001b[0m\u001b[0;34m]\u001b[0m\u001b[0;34m\u001b[0m\n",
       "\u001b[0;34m\u001b[0m        \u001b[0margs\u001b[0m\u001b[0;34m.\u001b[0m\u001b[0mextend\u001b[0m\u001b[0;34m(\u001b[0m\u001b[0mrepr\u001b[0m\u001b[0;34m(\u001b[0m\u001b[0mx\u001b[0m\u001b[0;34m)\u001b[0m \u001b[0;32mfor\u001b[0m \u001b[0mx\u001b[0m \u001b[0;32min\u001b[0m \u001b[0mself\u001b[0m\u001b[0;34m.\u001b[0m\u001b[0margs\u001b[0m\u001b[0;34m)\u001b[0m\u001b[0;34m\u001b[0m\n",
       "\u001b[0;34m\u001b[0m        \u001b[0margs\u001b[0m\u001b[0;34m.\u001b[0m\u001b[0mextend\u001b[0m\u001b[0;34m(\u001b[0m\u001b[0;34mf\"{k}={v!r}\"\u001b[0m \u001b[0;32mfor\u001b[0m \u001b[0;34m(\u001b[0m\u001b[0mk\u001b[0m\u001b[0;34m,\u001b[0m \u001b[0mv\u001b[0m\u001b[0;34m)\u001b[0m \u001b[0;32min\u001b[0m \u001b[0mself\u001b[0m\u001b[0;34m.\u001b[0m\u001b[0mkeywords\u001b[0m\u001b[0;34m.\u001b[0m\u001b[0mitems\u001b[0m\u001b[0;34m(\u001b[0m\u001b[0;34m)\u001b[0m\u001b[0;34m)\u001b[0m\u001b[0;34m\u001b[0m\n",
       "\u001b[0;34m\u001b[0m        \u001b[0;32mif\u001b[0m \u001b[0mtype\u001b[0m\u001b[0;34m(\u001b[0m\u001b[0mself\u001b[0m\u001b[0;34m)\u001b[0m\u001b[0;34m.\u001b[0m\u001b[0m__module__\u001b[0m \u001b[0;34m==\u001b[0m \u001b[0;34m\"functools\"\u001b[0m\u001b[0;34m:\u001b[0m\u001b[0;34m\u001b[0m\n",
       "\u001b[0;34m\u001b[0m            \u001b[0;32mreturn\u001b[0m \u001b[0;34mf\"functools.{qualname}({', '.join(args)})\"\u001b[0m\u001b[0;34m\u001b[0m\n",
       "\u001b[0;34m\u001b[0m        \u001b[0;32mreturn\u001b[0m \u001b[0;34mf\"{qualname}({', '.join(args)})\"\u001b[0m\u001b[0;34m\u001b[0m\n",
       "\u001b[0;34m\u001b[0m\u001b[0;34m\u001b[0m\n",
       "\u001b[0;34m\u001b[0m    \u001b[0;32mdef\u001b[0m \u001b[0m__reduce__\u001b[0m\u001b[0;34m(\u001b[0m\u001b[0mself\u001b[0m\u001b[0;34m)\u001b[0m\u001b[0;34m:\u001b[0m\u001b[0;34m\u001b[0m\n",
       "\u001b[0;34m\u001b[0m        \u001b[0;32mreturn\u001b[0m \u001b[0mtype\u001b[0m\u001b[0;34m(\u001b[0m\u001b[0mself\u001b[0m\u001b[0;34m)\u001b[0m\u001b[0;34m,\u001b[0m \u001b[0;34m(\u001b[0m\u001b[0mself\u001b[0m\u001b[0;34m.\u001b[0m\u001b[0mfunc\u001b[0m\u001b[0;34m,\u001b[0m\u001b[0;34m)\u001b[0m\u001b[0;34m,\u001b[0m \u001b[0;34m(\u001b[0m\u001b[0mself\u001b[0m\u001b[0;34m.\u001b[0m\u001b[0mfunc\u001b[0m\u001b[0;34m,\u001b[0m \u001b[0mself\u001b[0m\u001b[0;34m.\u001b[0m\u001b[0margs\u001b[0m\u001b[0;34m,\u001b[0m\u001b[0;34m\u001b[0m\n",
       "\u001b[0;34m\u001b[0m               \u001b[0mself\u001b[0m\u001b[0;34m.\u001b[0m\u001b[0mkeywords\u001b[0m \u001b[0;32mor\u001b[0m \u001b[0;32mNone\u001b[0m\u001b[0;34m,\u001b[0m \u001b[0mself\u001b[0m\u001b[0;34m.\u001b[0m\u001b[0m__dict__\u001b[0m \u001b[0;32mor\u001b[0m \u001b[0;32mNone\u001b[0m\u001b[0;34m)\u001b[0m\u001b[0;34m\u001b[0m\n",
       "\u001b[0;34m\u001b[0m\u001b[0;34m\u001b[0m\n",
       "\u001b[0;34m\u001b[0m    \u001b[0;32mdef\u001b[0m \u001b[0m__setstate__\u001b[0m\u001b[0;34m(\u001b[0m\u001b[0mself\u001b[0m\u001b[0;34m,\u001b[0m \u001b[0mstate\u001b[0m\u001b[0;34m)\u001b[0m\u001b[0;34m:\u001b[0m\u001b[0;34m\u001b[0m\n",
       "\u001b[0;34m\u001b[0m        \u001b[0;32mif\u001b[0m \u001b[0;32mnot\u001b[0m \u001b[0misinstance\u001b[0m\u001b[0;34m(\u001b[0m\u001b[0mstate\u001b[0m\u001b[0;34m,\u001b[0m \u001b[0mtuple\u001b[0m\u001b[0;34m)\u001b[0m\u001b[0;34m:\u001b[0m\u001b[0;34m\u001b[0m\n",
       "\u001b[0;34m\u001b[0m            \u001b[0;32mraise\u001b[0m \u001b[0mTypeError\u001b[0m\u001b[0;34m(\u001b[0m\u001b[0;34m\"argument to __setstate__ must be a tuple\"\u001b[0m\u001b[0;34m)\u001b[0m\u001b[0;34m\u001b[0m\n",
       "\u001b[0;34m\u001b[0m        \u001b[0;32mif\u001b[0m \u001b[0mlen\u001b[0m\u001b[0;34m(\u001b[0m\u001b[0mstate\u001b[0m\u001b[0;34m)\u001b[0m \u001b[0;34m!=\u001b[0m \u001b[0;36m4\u001b[0m\u001b[0;34m:\u001b[0m\u001b[0;34m\u001b[0m\n",
       "\u001b[0;34m\u001b[0m            \u001b[0;32mraise\u001b[0m \u001b[0mTypeError\u001b[0m\u001b[0;34m(\u001b[0m\u001b[0;34mf\"expected 4 items in state, got {len(state)}\"\u001b[0m\u001b[0;34m)\u001b[0m\u001b[0;34m\u001b[0m\n",
       "\u001b[0;34m\u001b[0m        \u001b[0mfunc\u001b[0m\u001b[0;34m,\u001b[0m \u001b[0margs\u001b[0m\u001b[0;34m,\u001b[0m \u001b[0mkwds\u001b[0m\u001b[0;34m,\u001b[0m \u001b[0mnamespace\u001b[0m \u001b[0;34m=\u001b[0m \u001b[0mstate\u001b[0m\u001b[0;34m\u001b[0m\n",
       "\u001b[0;34m\u001b[0m        \u001b[0;32mif\u001b[0m \u001b[0;34m(\u001b[0m\u001b[0;32mnot\u001b[0m \u001b[0mcallable\u001b[0m\u001b[0;34m(\u001b[0m\u001b[0mfunc\u001b[0m\u001b[0;34m)\u001b[0m \u001b[0;32mor\u001b[0m \u001b[0;32mnot\u001b[0m \u001b[0misinstance\u001b[0m\u001b[0;34m(\u001b[0m\u001b[0margs\u001b[0m\u001b[0;34m,\u001b[0m \u001b[0mtuple\u001b[0m\u001b[0;34m)\u001b[0m \u001b[0;32mor\u001b[0m\u001b[0;34m\u001b[0m\n",
       "\u001b[0;34m\u001b[0m           \u001b[0;34m(\u001b[0m\u001b[0mkwds\u001b[0m \u001b[0;32mis\u001b[0m \u001b[0;32mnot\u001b[0m \u001b[0;32mNone\u001b[0m \u001b[0;32mand\u001b[0m \u001b[0;32mnot\u001b[0m \u001b[0misinstance\u001b[0m\u001b[0;34m(\u001b[0m\u001b[0mkwds\u001b[0m\u001b[0;34m,\u001b[0m \u001b[0mdict\u001b[0m\u001b[0;34m)\u001b[0m\u001b[0;34m)\u001b[0m \u001b[0;32mor\u001b[0m\u001b[0;34m\u001b[0m\n",
       "\u001b[0;34m\u001b[0m           \u001b[0;34m(\u001b[0m\u001b[0mnamespace\u001b[0m \u001b[0;32mis\u001b[0m \u001b[0;32mnot\u001b[0m \u001b[0;32mNone\u001b[0m \u001b[0;32mand\u001b[0m \u001b[0;32mnot\u001b[0m \u001b[0misinstance\u001b[0m\u001b[0;34m(\u001b[0m\u001b[0mnamespace\u001b[0m\u001b[0;34m,\u001b[0m \u001b[0mdict\u001b[0m\u001b[0;34m)\u001b[0m\u001b[0;34m)\u001b[0m\u001b[0;34m)\u001b[0m\u001b[0;34m:\u001b[0m\u001b[0;34m\u001b[0m\n",
       "\u001b[0;34m\u001b[0m            \u001b[0;32mraise\u001b[0m \u001b[0mTypeError\u001b[0m\u001b[0;34m(\u001b[0m\u001b[0;34m\"invalid partial state\"\u001b[0m\u001b[0;34m)\u001b[0m\u001b[0;34m\u001b[0m\n",
       "\u001b[0;34m\u001b[0m\u001b[0;34m\u001b[0m\n",
       "\u001b[0;34m\u001b[0m        \u001b[0margs\u001b[0m \u001b[0;34m=\u001b[0m \u001b[0mtuple\u001b[0m\u001b[0;34m(\u001b[0m\u001b[0margs\u001b[0m\u001b[0;34m)\u001b[0m \u001b[0;31m# just in case it's a subclass\u001b[0m\u001b[0;34m\u001b[0m\n",
       "\u001b[0;34m\u001b[0m        \u001b[0;32mif\u001b[0m \u001b[0mkwds\u001b[0m \u001b[0;32mis\u001b[0m \u001b[0;32mNone\u001b[0m\u001b[0;34m:\u001b[0m\u001b[0;34m\u001b[0m\n",
       "\u001b[0;34m\u001b[0m            \u001b[0mkwds\u001b[0m \u001b[0;34m=\u001b[0m \u001b[0;34m{\u001b[0m\u001b[0;34m}\u001b[0m\u001b[0;34m\u001b[0m\n",
       "\u001b[0;34m\u001b[0m        \u001b[0;32melif\u001b[0m \u001b[0mtype\u001b[0m\u001b[0;34m(\u001b[0m\u001b[0mkwds\u001b[0m\u001b[0;34m)\u001b[0m \u001b[0;32mis\u001b[0m \u001b[0;32mnot\u001b[0m \u001b[0mdict\u001b[0m\u001b[0;34m:\u001b[0m \u001b[0;31m# XXX does it need to be *exactly* dict?\u001b[0m\u001b[0;34m\u001b[0m\n",
       "\u001b[0;34m\u001b[0m            \u001b[0mkwds\u001b[0m \u001b[0;34m=\u001b[0m \u001b[0mdict\u001b[0m\u001b[0;34m(\u001b[0m\u001b[0mkwds\u001b[0m\u001b[0;34m)\u001b[0m\u001b[0;34m\u001b[0m\n",
       "\u001b[0;34m\u001b[0m        \u001b[0;32mif\u001b[0m \u001b[0mnamespace\u001b[0m \u001b[0;32mis\u001b[0m \u001b[0;32mNone\u001b[0m\u001b[0;34m:\u001b[0m\u001b[0;34m\u001b[0m\n",
       "\u001b[0;34m\u001b[0m            \u001b[0mnamespace\u001b[0m \u001b[0;34m=\u001b[0m \u001b[0;34m{\u001b[0m\u001b[0;34m}\u001b[0m\u001b[0;34m\u001b[0m\n",
       "\u001b[0;34m\u001b[0m\u001b[0;34m\u001b[0m\n",
       "\u001b[0;34m\u001b[0m        \u001b[0mself\u001b[0m\u001b[0;34m.\u001b[0m\u001b[0m__dict__\u001b[0m \u001b[0;34m=\u001b[0m \u001b[0mnamespace\u001b[0m\u001b[0;34m\u001b[0m\n",
       "\u001b[0;34m\u001b[0m        \u001b[0mself\u001b[0m\u001b[0;34m.\u001b[0m\u001b[0mfunc\u001b[0m \u001b[0;34m=\u001b[0m \u001b[0mfunc\u001b[0m\u001b[0;34m\u001b[0m\n",
       "\u001b[0;34m\u001b[0m        \u001b[0mself\u001b[0m\u001b[0;34m.\u001b[0m\u001b[0margs\u001b[0m \u001b[0;34m=\u001b[0m \u001b[0margs\u001b[0m\u001b[0;34m\u001b[0m\n",
       "\u001b[0;34m\u001b[0m        \u001b[0mself\u001b[0m\u001b[0;34m.\u001b[0m\u001b[0mkeywords\u001b[0m \u001b[0;34m=\u001b[0m \u001b[0mkwds\u001b[0m\u001b[0;34m\u001b[0m\u001b[0;34m\u001b[0m\u001b[0m\n",
       "\u001b[0;31mFile:\u001b[0m           ~/mambaforge/envs/cfast/lib/python3.11/functools.py\n",
       "\u001b[0;31mType:\u001b[0m           type\n",
       "\u001b[0;31mSubclasses:\u001b[0m     "
      ]
     },
     "metadata": {},
     "output_type": "display_data"
    }
   ],
   "source": [
    "partial??"
   ]
  },
  {
   "cell_type": "code",
   "execution_count": null,
   "id": "58716d55-1e68-406b-92ed-4d26cd0f0532",
   "metadata": {},
   "outputs": [
    {
     "name": "stdout",
     "output_type": "stream",
     "text": [
      "3145\n"
     ]
    }
   ],
   "source": [
    "# A normal function\n",
    "def f(a, b, c, x):\n",
    "    return 1000*a + 100*b + 10*c + x\n",
    " \n",
    "# A partial function that calls f with\n",
    "# a as 3, b as 1 and c as 4.\n",
    "g = partial(f, 3, 1, 4)\n",
    " \n",
    "# Calling g()\n",
    "print(g(5))"
   ]
  },
  {
   "cell_type": "code",
   "execution_count": null,
   "id": "d5f47f7b-06a3-4acc-ae7d-03416cc7145b",
   "metadata": {},
   "outputs": [
    {
     "name": "stdout",
     "output_type": "stream",
     "text": [
      "a:3, b:1, c:2\n",
      "312\n"
     ]
    }
   ],
   "source": [
    "\n",
    "from functools import *\n",
    " \n",
    "# A normal function\n",
    "def add(a, b, c):\n",
    "    print(f'a:{a}, b:{b}, c:{c}')\n",
    "    return 100 * a + 10 * b + c\n",
    " \n",
    "# A partial function with b = 1 and c = 2\n",
    "add_part = partial(add, c = 2, b = 1)\n",
    " \n",
    "# Calling partial function\n",
    "print(add_part(3))\n"
   ]
  },
  {
   "cell_type": "code",
   "execution_count": null,
   "id": "60237a04-1b48-4b50-90cf-893a3201c30c",
   "metadata": {},
   "outputs": [],
   "source": [
    "def greater_than(a, b):\n",
    "    return a < b\n",
    "\n",
    "greater_than(5,10)\n",
    "\n",
    "def make_comparator(n):\n",
    "    def inner(a):\n",
    "        return a < n\n",
    "\n",
    "    return inner\n",
    "\n",
    "\n",
    "def partial(*args):\n",
    "    def inner(a):\n",
    "        return args[0](args[1],a)\n",
    "    return inner\n",
    "    \n",
    "    "
   ]
  },
  {
   "cell_type": "code",
   "execution_count": null,
   "id": "fe543089-b29a-4ea4-b6ff-ae3cf1cca305",
   "metadata": {},
   "outputs": [],
   "source": [
    "greater_than_20 = make_comparator(20)"
   ]
  },
  {
   "cell_type": "code",
   "execution_count": null,
   "id": "339df557-73dc-4993-95cd-de5d97198eda",
   "metadata": {},
   "outputs": [
    {
     "data": {
      "text/plain": [
       "False"
      ]
     },
     "execution_count": null,
     "metadata": {},
     "output_type": "execute_result"
    }
   ],
   "source": [
    "greater_than_20(40)"
   ]
  },
  {
   "cell_type": "code",
   "execution_count": null,
   "id": "2ea62a1c-4ab8-46f6-8acd-b5eaeade667c",
   "metadata": {},
   "outputs": [],
   "source": [
    "greater_than_2 = partial(greater_than,2)"
   ]
  },
  {
   "cell_type": "code",
   "execution_count": null,
   "id": "cc2e3bc5-51b4-4626-8a10-ca3a7695efbe",
   "metadata": {},
   "outputs": [
    {
     "data": {
      "text/plain": [
       "False"
      ]
     },
     "execution_count": null,
     "metadata": {},
     "output_type": "execute_result"
    }
   ],
   "source": [
    "greater_than_2(2)"
   ]
  },
  {
   "cell_type": "markdown",
   "id": "5141ba0d-464d-43ea-b184-e221d41b547f",
   "metadata": {},
   "source": [
    "## *args and **kwargs in Python"
   ]
  },
  {
   "cell_type": "markdown",
   "id": "0e582269-200e-4923-afce-8afb5807acd5",
   "metadata": {},
   "source": [
    "### `*args`"
   ]
  },
  {
   "cell_type": "code",
   "execution_count": null,
   "id": "4f9e5124-0988-4ccb-a582-d405a9f81a44",
   "metadata": {},
   "outputs": [
    {
     "name": "stdout",
     "output_type": "stream",
     "text": [
      "Hello\n",
      "Welcome\n",
      "to\n",
      "GeeksforGeeks\n"
     ]
    }
   ],
   "source": [
    "def myFun(*argv):\n",
    "    for arg in argv:\n",
    "        print(arg)\n",
    " \n",
    " \n",
    "myFun('Hello', 'Welcome', 'to', 'GeeksforGeeks')"
   ]
  },
  {
   "cell_type": "code",
   "execution_count": null,
   "id": "e11a8f5a-cf30-41c7-90d3-464a09e1f833",
   "metadata": {},
   "outputs": [
    {
     "name": "stdout",
     "output_type": "stream",
     "text": [
      "First argument : Hello\n",
      "Next argument through *argv : Welcome\n",
      "Next argument through *argv : to\n",
      "Next argument through *argv : GeeksforGeeks\n"
     ]
    }
   ],
   "source": [
    "def myFun(arg1, *argv):\n",
    "    print(\"First argument :\", arg1)\n",
    "    for arg in argv:\n",
    "        print(\"Next argument through *argv :\", arg)\n",
    " \n",
    " \n",
    "myFun('Hello', 'Welcome', 'to', 'GeeksforGeeks')\n"
   ]
  },
  {
   "cell_type": "markdown",
   "id": "4dd64d75-7722-4eaf-bebf-2221aef5457b",
   "metadata": {},
   "source": [
    "### `**kwargs`"
   ]
  },
  {
   "cell_type": "code",
   "execution_count": null,
   "id": "2e2fc5c2-d71a-4ab5-b496-f9b8409846bd",
   "metadata": {},
   "outputs": [
    {
     "name": "stdout",
     "output_type": "stream",
     "text": [
      "first == Geeks\n",
      "mid == for\n",
      "last == Geeks\n"
     ]
    }
   ],
   "source": [
    "def myFun(**kwargs):\n",
    "    for key, value in kwargs.items():\n",
    "        print(\"%s == %s\" % (key, value))\n",
    " \n",
    " \n",
    "# Driver code\n",
    "myFun(first='Geeks', mid='for', last='Geeks')"
   ]
  },
  {
   "cell_type": "code",
   "execution_count": null,
   "id": "b7c1e2e7-851b-414c-bf17-c2bb83b13969",
   "metadata": {},
   "outputs": [
    {
     "name": "stdout",
     "output_type": "stream",
     "text": [
      "first == Geeks\n",
      "mid == for\n",
      "last == Geeks\n"
     ]
    }
   ],
   "source": [
    "def myFun(arg1, **kwargs):\n",
    "    for key, value in kwargs.items():\n",
    "        print(\"%s == %s\" % (key, value))\n",
    " \n",
    " \n",
    "# Driver code\n",
    "myFun(\"Hi\",  first='Geeks', mid='for', last='Geeks')\n"
   ]
  },
  {
   "cell_type": "code",
   "execution_count": null,
   "id": "2b7acca3-6f74-490b-b499-2e60471ff297",
   "metadata": {},
   "outputs": [
    {
     "name": "stdout",
     "output_type": "stream",
     "text": [
      "arg1: Geeks\n",
      "arg2: for\n",
      "arg3: Geeks\n",
      "arg1: Geeks\n",
      "arg2: for\n",
      "arg3: Geeks\n"
     ]
    }
   ],
   "source": [
    "def myFun(arg1, arg2, arg3):\n",
    "    print(\"arg1:\", arg1)\n",
    "    print(\"arg2:\", arg2)\n",
    "    print(\"arg3:\", arg3)\n",
    " \n",
    " \n",
    "# Now we can use *args or **kwargs to\n",
    "# pass arguments to this function :\n",
    "args = (\"Geeks\", \"for\", \"Geeks\")\n",
    "myFun(*args)\n",
    " \n",
    "kwargs = {\"arg1\": \"Geeks\", \"arg2\": \"for\", \"arg3\": \"Geeks\"}\n",
    "myFun(**kwargs)\n"
   ]
  },
  {
   "cell_type": "code",
   "execution_count": null,
   "id": "8b2b98e4-1c62-4ef3-969e-d8d2f61fff46",
   "metadata": {},
   "outputs": [
    {
     "name": "stdout",
     "output_type": "stream",
     "text": [
      "args:  ('geeks', 'for', 'geeks')\n",
      "kwargs:  {'first': 'Geeks', 'mid': 'for', 'last': 'Geeks'}\n"
     ]
    }
   ],
   "source": [
    "def myFun(*args, **kwargs):\n",
    "    print(\"args: \", args)\n",
    "    print(\"kwargs: \", kwargs)\n",
    " \n",
    " \n",
    "# Now we can use both *args ,**kwargs\n",
    "# to pass arguments to this function :\n",
    "myFun('geeks', 'for', 'geeks', first=\"Geeks\", mid=\"for\", last=\"Geeks\")\n"
   ]
  },
  {
   "cell_type": "code",
   "execution_count": null,
   "id": "93fd9a0c-d7cc-43df-8627-74719b8085c8",
   "metadata": {},
   "outputs": [
    {
     "name": "stdout",
     "output_type": "stream",
     "text": [
      "red\n",
      "250\n"
     ]
    }
   ],
   "source": [
    "# defining car class\n",
    "class car():\n",
    "    # args receives unlimited no. of arguments as an array\n",
    "    def __init__(self, *args):\n",
    "        # access args index like array does\n",
    "        self.speed = args[0]\n",
    "        self.color = args[1]\n",
    " \n",
    " \n",
    "# creating objects of car class\n",
    "audi = car(200, 'red')\n",
    "bmw = car(250, 'black')\n",
    "mb = car(190, 'white')\n",
    " \n",
    "# printing the color and speed of the cars\n",
    "print(audi.color)\n",
    "print(bmw.speed)\n"
   ]
  },
  {
   "cell_type": "code",
   "execution_count": null,
   "id": "702126cd-8b30-4da9-a578-aabacaa04468",
   "metadata": {},
   "outputs": [
    {
     "name": "stdout",
     "output_type": "stream",
     "text": [
      "red\n",
      "250\n"
     ]
    }
   ],
   "source": [
    "\n",
    "\n",
    "# defining car class\n",
    "class car():\n",
    "    # args receives unlimited no. of arguments as an array\n",
    "    def __init__(self, **kwargs):\n",
    "        # access args index like array does\n",
    "        self.speed = kwargs['s']\n",
    "        self.color = kwargs['c']\n",
    " \n",
    " \n",
    "# creating objects of car class\n",
    "audi = car(s=200, c='red')\n",
    "bmw = car(s=250, c='black')\n",
    "mb = car(s=190, c='white')\n",
    " \n",
    "# printing the color and speed of cars\n",
    "print(audi.color)\n",
    "print(bmw.speed)\n"
   ]
  },
  {
   "cell_type": "markdown",
   "id": "05d9b27b-8c66-4713-b19b-641415d5576d",
   "metadata": {},
   "source": [
    "## Yield"
   ]
  },
  {
   "cell_type": "code",
   "execution_count": null,
   "id": "1473cf7b-79fa-4a07-814c-55c0ffb66076",
   "metadata": {},
   "outputs": [
    {
     "name": "stdout",
     "output_type": "stream",
     "text": [
      "1\n",
      "2\n",
      "3\n"
     ]
    }
   ],
   "source": [
    "def simpleGeneratorFun():\n",
    "    yield 1\n",
    "    yield 2\n",
    "    yield 3\n",
    " \n",
    " \n",
    "# Driver code to check above generator function\n",
    "for value in simpleGeneratorFun():\n",
    "    print(value)"
   ]
  },
  {
   "cell_type": "code",
   "execution_count": null,
   "id": "0841cff0-aacf-4c09-b16e-fa88b0b2d078",
   "metadata": {},
   "outputs": [
    {
     "name": "stdout",
     "output_type": "stream",
     "text": [
      "1\n",
      "4\n",
      "9\n",
      "16\n",
      "25\n",
      "36\n",
      "49\n",
      "64\n",
      "81\n",
      "100\n"
     ]
    }
   ],
   "source": [
    "def nextSquare():\n",
    "    i = 1\n",
    " \n",
    "    # An Infinite loop to generate squares\n",
    "    while True:\n",
    "        yield i*i\n",
    "        i += 1  # Next execution resumes\n",
    "        # from this point\n",
    " \n",
    " \n",
    "# Driver code to test above generator\n",
    "# function\n",
    "for num in nextSquare():\n",
    "    if num > 100:\n",
    "        break\n",
    "    print(num)"
   ]
  },
  {
   "cell_type": "markdown",
   "id": "fe8d2d9f-fcbe-4ac2-8e49-3a0e313ea88c",
   "metadata": {},
   "source": [
    "## Generators "
   ]
  },
  {
   "cell_type": "code",
   "execution_count": null,
   "id": "3904e54e-c08c-46e6-bc13-3cde00027b73",
   "metadata": {},
   "outputs": [
    {
     "name": "stdout",
     "output_type": "stream",
     "text": [
      "1\n",
      "2\n",
      "3\n"
     ]
    }
   ],
   "source": [
    "# A generator function \n",
    "def simpleGeneratorFun(): \n",
    "    yield 1\n",
    "    yield 2\n",
    "    yield 3\n",
    "    \n",
    "    \n",
    "    \n",
    "# x is a generator object \n",
    "x = simpleGeneratorFun() \n",
    "  \n",
    "# Iterating over the generator object using next \n",
    "  \n",
    "# In Python 3, __next__() \n",
    "print(next(x)) \n",
    "print(next(x)) \n",
    "print(next(x))"
   ]
  },
  {
   "cell_type": "code",
   "execution_count": null,
   "id": "5dc533f9-fc7a-4d28-beb0-abc4dfdee98c",
   "metadata": {},
   "outputs": [
    {
     "name": "stdout",
     "output_type": "stream",
     "text": [
      "0\n",
      "1\n",
      "2\n",
      "3\n",
      "4\n"
     ]
    }
   ],
   "source": [
    "# generator expression \n",
    "generator_exp = (i for i in range(5)) \n",
    "\n",
    "for i in generator_exp: \n",
    "    print(i)"
   ]
  },
  {
   "cell_type": "code",
   "execution_count": null,
   "id": "d8b32c77-cf20-4380-8962-e830fca41fde",
   "metadata": {},
   "outputs": [
    {
     "name": "stdout",
     "output_type": "stream",
     "text": [
      "0\n",
      "10\n",
      "20\n"
     ]
    }
   ],
   "source": [
    "# generator expression \n",
    "generator_exp = (i * 5 for i in range(5) if i%2==0) \n",
    "\n",
    "for i in generator_exp: \n",
    "    print(i)"
   ]
  },
  {
   "cell_type": "markdown",
   "id": "9805d4d1-1622-458f-b0a3-de0cac27b136",
   "metadata": {},
   "source": [
    "## Lambda"
   ]
  },
  {
   "cell_type": "code",
   "execution_count": null,
   "id": "8858fbe2-64ca-45e0-b97e-e8b64224f18b",
   "metadata": {},
   "outputs": [
    {
     "name": "stdout",
     "output_type": "stream",
     "text": [
      "Even number\n"
     ]
    }
   ],
   "source": [
    "\n",
    "calc = lambda num: \"Even number\" if num % 2 == 0 else \"Odd number\"\n",
    " \n",
    "print(calc(20))\n"
   ]
  },
  {
   "cell_type": "code",
   "execution_count": null,
   "id": "c07f0b1a-265d-4f71-a95f-2d9306c89d13",
   "metadata": {},
   "outputs": [
    {
     "name": "stdout",
     "output_type": "stream",
     "text": [
      "invoking function defined with def keyword:\n",
      "Finding cube of number:30\n",
      "27000\n",
      "invoking lambda function: 27000\n"
     ]
    }
   ],
   "source": [
    "\n",
    "\n",
    "def cube(y):\n",
    "    print(f\"Finding cube of number:{y}\")\n",
    "    return y * y * y\n",
    " \n",
    "lambda_cube = lambda num: num ** 3\n",
    " \n",
    "# invoking simple function\n",
    "print(\"invoking function defined with def keyword:\")\n",
    "print(cube(30))\n",
    "# invoking lambda function\n",
    "print(\"invoking lambda function:\", lambda_cube(30))\n"
   ]
  },
  {
   "cell_type": "markdown",
   "id": "9cd256b1-5e18-4c3d-bbf1-51e30d52d163",
   "metadata": {},
   "source": [
    "## PDB"
   ]
  },
  {
   "cell_type": "code",
   "execution_count": null,
   "id": "1c240087-dd1a-4d59-8eda-142af9cecd2e",
   "metadata": {},
   "outputs": [
    {
     "name": "stdout",
     "output_type": "stream",
     "text": [
      "--Call--\n",
      "> \u001b[0;32m/home/benedict/mambaforge/envs/cfast/lib/python3.11/site-packages/IPython/core/displayhook.py\u001b[0m(258)\u001b[0;36m__call__\u001b[0;34m()\u001b[0m\n",
      "\u001b[0;32m    256 \u001b[0;31m        \u001b[0msys\u001b[0m\u001b[0;34m.\u001b[0m\u001b[0mstdout\u001b[0m\u001b[0;34m.\u001b[0m\u001b[0mflush\u001b[0m\u001b[0;34m(\u001b[0m\u001b[0;34m)\u001b[0m\u001b[0;34m\u001b[0m\u001b[0;34m\u001b[0m\u001b[0m\n",
      "\u001b[0m\u001b[0;32m    257 \u001b[0;31m\u001b[0;34m\u001b[0m\u001b[0m\n",
      "\u001b[0m\u001b[0;32m--> 258 \u001b[0;31m    \u001b[0;32mdef\u001b[0m \u001b[0m__call__\u001b[0m\u001b[0;34m(\u001b[0m\u001b[0mself\u001b[0m\u001b[0;34m,\u001b[0m \u001b[0mresult\u001b[0m\u001b[0;34m=\u001b[0m\u001b[0;32mNone\u001b[0m\u001b[0;34m)\u001b[0m\u001b[0;34m:\u001b[0m\u001b[0;34m\u001b[0m\u001b[0;34m\u001b[0m\u001b[0m\n",
      "\u001b[0m\u001b[0;32m    259 \u001b[0;31m        \"\"\"Printing with history cache management.\n",
      "\u001b[0m\u001b[0;32m    260 \u001b[0;31m\u001b[0;34m\u001b[0m\u001b[0m\n",
      "\u001b[0m\n"
     ]
    },
    {
     "name": "stdin",
     "output_type": "stream",
     "text": [
      "ipdb>  help\n"
     ]
    },
    {
     "name": "stdout",
     "output_type": "stream",
     "text": [
      "\n",
      "Documented commands (type help <topic>):\n",
      "========================================\n",
      "EOF    commands   enable    ll        pp       s                until \n",
      "a      condition  exit      longlist  psource  skip_hidden      up    \n",
      "alias  cont       h         n         q        skip_predicates  w     \n",
      "args   context    help      next      quit     source           whatis\n",
      "b      continue   ignore    p         r        step             where \n",
      "break  d          interact  pdef      restart  tbreak         \n",
      "bt     debug      j         pdoc      return   u              \n",
      "c      disable    jump      pfile     retval   unalias        \n",
      "cl     display    l         pinfo     run      undisplay      \n",
      "clear  down       list      pinfo2    rv       unt            \n",
      "\n",
      "Miscellaneous help topics:\n",
      "==========================\n",
      "exec  pdb\n",
      "\n"
     ]
    },
    {
     "name": "stdin",
     "output_type": "stream",
     "text": [
      "ipdb>  exit\n"
     ]
    }
   ],
   "source": [
    "#|eval: false\n",
    "import pdb; pdb.set_trace()"
   ]
  },
  {
   "cell_type": "code",
   "execution_count": null,
   "id": "70b40a1d-e541-4813-bd3f-9147f14a64a8",
   "metadata": {},
   "outputs": [],
   "source": []
  }
 ],
 "metadata": {
  "kernelspec": {
   "display_name": "python3",
   "language": "python",
   "name": "python3"
  },
  "widgets": {
   "application/vnd.jupyter.widget-state+json": {
    "state": {},
    "version_major": 2,
    "version_minor": 0
   }
  }
 },
 "nbformat": 4,
 "nbformat_minor": 5
}
