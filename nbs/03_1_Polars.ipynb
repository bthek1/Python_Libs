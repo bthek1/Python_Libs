{
 "cells": [
  {
   "cell_type": "markdown",
   "id": "4821a51b-b632-401f-926b-e399edc3e570",
   "metadata": {},
   "source": [
    "# Polars\n",
    "\n",
    "> Polars\n",
    "\n",
    "- skip_showdoc: true\n",
    "- skip_exec: true\n"
   ]
  },
  {
   "cell_type": "markdown",
   "id": "fcb7fe5c-e649-4ba3-b1b9-6481a38723de",
   "metadata": {},
   "source": [
    "## 🛠️ 1. Installation\n",
    "```bash\n",
    "pip install polars[all] jupyterlab\n",
    "```"
   ]
  },
  {
   "cell_type": "markdown",
   "id": "712a48d6-950a-4e66-ab9c-d4c438d0a886",
   "metadata": {},
   "source": [
    "## 📦 2. Basic Usage in Jupyter\n",
    "```python\n",
    "import polars as pl\n",
    "\n",
    "# Read CSV\n",
    "df = pl.read_csv(\"data.csv\")\n",
    "\n",
    "# Show head\n",
    "df.head()\n",
    "\n",
    "# Select and filter\n",
    "df.select([\"col1\", \"col2\"]).filter(pl.col(\"col1\") > 10)\n",
    "```"
   ]
  },
  {
   "cell_type": "markdown",
   "id": "1ea02202-3015-46ba-917f-1df14d042ca6",
   "metadata": {},
   "source": [
    "## ⚙️ 3. Eager vs Lazy Mode\n",
    "\n",
    "| Mode                | Description                                 |\n",
    "| ------------------- | ------------------------------------------- |\n",
    "| **Eager** (default) | Executes immediately (like Pandas)          |\n",
    "| **Lazy**            | Builds a computation graph and optimizes it |\n",
    "\n",
    "```python\n",
    "\n",
    "# Lazy version\n",
    "ldf = pl.read_csv(\"data.csv\").lazy()\n",
    "result = ldf.filter(pl.col(\"price\") > 100).select([\"item\", \"price\"]).collect()\n",
    "```"
   ]
  },
  {
   "attachments": {},
   "cell_type": "markdown",
   "id": "dd2400e4-603a-4787-82a3-c507234b009c",
   "metadata": {},
   "source": [
    "## 🧠 4. Advanced Polars Features\n",
    "### 📊 A. Custom Expressions\n",
    "```python\n",
    "df.with_columns([\n",
    "    (pl.col(\"price\") * 0.1).alias(\"tax\"),\n",
    "    pl.col(\"name\").str.to_uppercase()\n",
    "])\n",
    "```\n",
    "### 📈 B. GroupBy + Aggregations\n",
    "```python\n",
    "df.groupby(\"category\").agg([\n",
    "    pl.col(\"price\").mean().alias(\"avg_price\"),\n",
    "    pl.count().alias(\"count\")\n",
    "])\n",
    "```\n",
    "### 🔁 C. Join Operations\n",
    "```python\n",
    "df1.join(df2, on=\"id\", how=\"inner\")\n",
    "```\n",
    "| Join Type        | Description                     |\n",
    "| ---------------- | ------------------------------- |\n",
    "| `inner`          | Only matching rows              |\n",
    "| `left` / `outer` | Keep left/all rows              |\n",
    "| `semi` / `anti`  | Exists / doesn't exist in right |\n",
    "\n",
    "### D. Window Functions\n",
    " ```python\n",
    "\n",
    "df.sort(\"timestamp\").with_columns([\n",
    "    pl.col(\"price\").rolling_mean(window_size=3).over(\"category\")\n",
    "])\n",
    "```\n",
    "> Useful for moving averages, cumulative stats, and rankings.\n",
    "\n",
    "### 🧪 E. Pivot and Melt\n",
    "```python\n",
    "\n",
    "# Pivot\n",
    "df.pivot(values=\"value\", index=\"date\", columns=\"category\", aggregate_fn=\"sum\")\n",
    "\n",
    "# Melt (unpivot)\n",
    "df.melt(id_vars=\"date\", value_vars=[\"sales_a\", \"sales_b\"])\n",
    "```"
   ]
  },
  {
   "cell_type": "markdown",
   "id": "00698ff9-191c-42ef-b055-1e716e70a19a",
   "metadata": {},
   "source": [
    "## 📁 5. Read/Write Support\n",
    "\n",
    "| Format    | Method                                |\n",
    "| --------- | ------------------------------------- |\n",
    "| CSV       | `pl.read_csv`, `df.write_csv`         |\n",
    "| Parquet   | `pl.read_parquet`, `df.write_parquet` |\n",
    "| JSON      | `pl.read_json`, `df.write_json`       |\n",
    "| IPC/Arrow | `pl.read_ipc`, `df.write_ipc`         |"
   ]
  },
  {
   "cell_type": "markdown",
   "id": "aa20d116-7229-4708-84f8-58785634fe31",
   "metadata": {},
   "source": [
    "## 🎯 6. Interoperability\n",
    "### 🔁 Convert between Polars ↔ Pandas\n",
    "\n",
    "```python\n",
    "import pandas as pd\n",
    "\n",
    "df_pl = pl.DataFrame(pd_df)       # from pandas\n",
    "pd_df = df_pl.to_pandas()         # to pandas\n",
    "```\n",
    "\n",
    "### 📊 Plotting\n",
    "Polars doesn’t support plotting directly — convert to Pandas:\n",
    "```python\n",
    "\n",
    "import matplotlib.pyplot as plt\n",
    "\n",
    "df_pl.to_pandas().plot(x=\"date\", y=\"sales\")\n",
    "plt.show()\n",
    "```"
   ]
  },
  {
   "cell_type": "markdown",
   "id": "7cc0a62e-0c31-431d-8636-403f40b51dba",
   "metadata": {},
   "source": [
    "## ⚡ 7. Performance Tuning Tips\n",
    "\n",
    "- Use lazy evaluation for large workflows\n",
    "- Minimize `.collect()` calls\n",
    "- Prefer `pl.struct()` for group-wise operations\n",
    "- Use `categorical` or `integer` types for joins\n",
    "- Combine `.filter().select().groupby()` in a lazy pipeline"
   ]
  },
  {
   "cell_type": "markdown",
   "id": "15126558-d7c9-462a-9818-327ee9eef17f",
   "metadata": {},
   "source": [
    "## 🔬 8. Debugging & Inspection in Jupyter\n",
    "\n",
    "```python\n",
    "# Schema inspection\n",
    "df.schema\n",
    "\n",
    "# Data types\n",
    "df.dtypes\n",
    "\n",
    "# Lazy query plan (before execution)\n",
    "ldf.describe_plan()\n",
    "```"
   ]
  },
  {
   "cell_type": "markdown",
   "id": "60851c68-7262-4296-bfd2-a5c3a5e1ab27",
   "metadata": {},
   "source": [
    "## 📦 9. Streaming & Chunked Data (Advanced)\n",
    "```python\n",
    "\n",
    "for chunk in pl.read_csv(\"big.csv\", chunk_size=100_000):\n",
    "    process(chunk)\n",
    "```\n",
    "\n",
    "Useful for real-time or out-of-core processing."
   ]
  },
  {
   "cell_type": "markdown",
   "id": "457dcf87-cf20-4322-a00b-a974bd23097c",
   "metadata": {},
   "source": [
    "## 🧩 10. Plugins & Ecosystem Integration\n",
    "\n",
    "| Tool                 | Integration                                |\n",
    "| -------------------- | ------------------------------------------ |\n",
    "| **DuckDB**           | Direct querying via `pl.read_database()`   |\n",
    "| **Arrow**            | Native backend format; fast interop        |\n",
    "| **SQL (via DuckDB)** | `duckdb.query(\"SELECT ...\").pl()`          |\n",
    "| **Machine Learning** | Use `.to_pandas()` or convert to `numpy()` |"
   ]
  },
  {
   "cell_type": "markdown",
   "id": "28dfc018-61eb-4494-98a7-14f1af72eaeb",
   "metadata": {},
   "source": [
    "## 📈 11. Benchmarking Example\n",
    "```python\n",
    "import time\n",
    "df = pl.read_csv(\"big.csv\")\n",
    "\n",
    "start = time.time()\n",
    "df.groupby(\"category\").agg(pl.col(\"price\").mean())\n",
    "print(\"Elapsed:\", time.time() - start)\n",
    "```"
   ]
  },
  {
   "cell_type": "markdown",
   "id": "6189235d-cdd5-4663-950a-c82a86e0253d",
   "metadata": {},
   "source": [
    "## 📚 12. Cheat Sheet Summary\n",
    "\n",
    "| Operation         | Code                                        |\n",
    "| ----------------- | ------------------------------------------- |\n",
    "| Filter            | `df.filter(pl.col(\"x\") > 5)`                |\n",
    "| Select            | `df.select([\"a\", \"b\"])`                     |\n",
    "| GroupBy + Mean    | `df.groupby(\"cat\").agg(pl.col(\"x\").mean())` |\n",
    "| Join              | `df1.join(df2, on=\"id\")`                    |\n",
    "| Convert to Pandas | `df.to_pandas()`                            |\n",
    "| Lazy collect      | `ldf.collect()`                             |\n",
    "| Sort              | `df.sort(\"x\", descending=True)`             |\n",
    "| Window fn         | `pl.col(\"val\").cum_sum().over(\"group\")`     |"
   ]
  },
  {
   "cell_type": "code",
   "execution_count": null,
   "id": "ae7b2906-a686-4261-b288-cd5b35b73363",
   "metadata": {},
   "outputs": [],
   "source": []
  },
  {
   "cell_type": "code",
   "execution_count": null,
   "id": "7fc6f4a0-ae58-4e83-a3f9-3d75bf332d39",
   "metadata": {},
   "outputs": [],
   "source": []
  }
 ],
 "metadata": {
  "kernelspec": {
   "display_name": "python3",
   "language": "python",
   "name": "python3"
  }
 },
 "nbformat": 4,
 "nbformat_minor": 5
}
