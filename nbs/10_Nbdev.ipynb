{
 "cells": [
  {
   "cell_type": "markdown",
   "id": "5ca195cf-2cea-4e5d-b938-16b3e97e6217",
   "metadata": {},
   "source": [
    "# Nbdev\n",
    "\n",
    "> Details on setting up nbdev Setup\n",
    "\n",
    "- skip_showdoc: true\n",
    "- skip_exec: true"
   ]
  },
  {
   "cell_type": "markdown",
   "id": "5e9263c8-1b16-4dae-a7f2-da57543c1db4",
   "metadata": {},
   "source": [
    "## Installation\n",
    "\n",
    "- Python\n",
    "- A Python package manager: we recommend conda or pip - download anaconda\n",
    "- Jupyter Notebook - see below\n",
    "- nbdev - see below\n",
    "- Quarto - see quarto setup\n",
    "\n"
   ]
  },
  {
   "cell_type": "markdown",
   "id": "424df19c-c16e-47b2-9b1c-45e28bd0c5cc",
   "metadata": {},
   "source": [
    "### To get Jupyter labs\n",
    "```sh\n",
    "pip install jupyterlab\n",
    "```\n",
    "\n",
    "```sh\n",
    "mamba install -c conda-forge jupyterlab\n",
    "```\n"
   ]
  },
  {
   "cell_type": "markdown",
   "id": "3dc399a2-833c-47cc-bebf-0e1cfd85830a",
   "metadata": {},
   "source": [
    "To launch jupyter labs\n",
    "```sh\n",
    "jupyter lab\n",
    "```"
   ]
  },
  {
   "cell_type": "markdown",
   "id": "7c5795b5-3b55-48ad-a47c-dec46171205a",
   "metadata": {},
   "source": [
    "To install nbdev\n",
    "```sh\n",
    "pip install nbdev\n",
    "```\n",
    "```sh\n",
    "mamba install -c fastai nbdev\n",
    "```\n"
   ]
  },
  {
   "cell_type": "markdown",
   "id": "56edbd68-0600-4c46-8048-ce27684965fa",
   "metadata": {},
   "source": [
    "> get instructin for quarto with \n",
    "```sh\n",
    "nbdev_install_quarto\n",
    "```"
   ]
  },
  {
   "cell_type": "markdown",
   "id": "6512eaf6-a6a6-4d39-8ffb-9f4fbda98440",
   "metadata": {},
   "source": [
    "Install the extension by entering:\n",
    "```sh\n",
    "pip install jupyterlab-quarto\n",
    "```"
   ]
  },
  {
   "cell_type": "markdown",
   "id": "13785aaa-a369-4474-912b-0c2ff37c7a79",
   "metadata": {},
   "source": [
    "## Create an empty GitHub repo\n",
    "\n",
    "- make it public\n",
    "- add a gitignore file\n"
   ]
  },
  {
   "cell_type": "markdown",
   "id": "62eb5f6a-b1a1-4e05-9823-aa57c0b2b6d2",
   "metadata": {},
   "source": [
    "- clone it into project location\n",
    "```sh\n",
    "git clone https://github.com/PROEJECT_NAME.git\n",
    "```\n"
   ]
  },
  {
   "cell_type": "markdown",
   "id": "5947b497-dc95-42d4-ac66-ee45d47f3516",
   "metadata": {},
   "source": [
    "## RUN Nbdev"
   ]
  },
  {
   "cell_type": "markdown",
   "id": "dd614fcd-1ce8-4dfa-9753-8542b2cb86d7",
   "metadata": {},
   "source": [
    "Initialise your nbdev repo by entering:\n",
    "```sh\n",
    "nbdev_new\n",
    "```\n",
    "It may ask you to enter information that it couldn’t infer from git or GitHub."
   ]
  },
  {
   "cell_type": "markdown",
   "id": "afded359-5136-4871-85e7-af2c9c0530d1",
   "metadata": {},
   "source": [
    "- Do a git push to make sure everything is working\n",
    "```sh\n",
    "git add .\n",
    "git commit -m'Initial commit'\n",
    "git push\n",
    "\n",
    "```"
   ]
  },
  {
   "cell_type": "markdown",
   "id": "1f538f0a-6e05-4eb3-81d1-41d96a0e1eab",
   "metadata": {},
   "source": [
    "> Go to settings on Github, go to pages, Change Branch to gh-pages"
   ]
  },
  {
   "cell_type": "markdown",
   "id": "6f4d3247-5fe1-48ec-9bd5-1a0bd7301022",
   "metadata": {},
   "source": [
    "- Then check on Actions"
   ]
  },
  {
   "cell_type": "markdown",
   "id": "4e14b3a1-553e-4865-89b3-3843a42cb7db",
   "metadata": {},
   "source": [
    "## Useful commands"
   ]
  },
  {
   "cell_type": "markdown",
   "id": "7bb8d891-0a32-4ffd-a404-7c874398a496",
   "metadata": {},
   "source": [
    "The next step is to install your package by entering this into your terminal:\n",
    "```sh\n",
    "pip install -e '.[dev]'\n",
    "```\n",
    "\n",
    "This is the recommended way to make a Python package importable from anywhere in your current environment:\n",
    "\n",
    "- -e – short for “editable”, lets you immediately use changes made to your package without having to reinstall, which is convenient for development.\n",
    "- . – refers to the current directory.\n",
    "- [dev] – includes “development” requirements: other packages that your notebooks use solely for documentation or testing."
   ]
  },
  {
   "cell_type": "markdown",
   "id": "4b4d0caa-675d-46dc-a214-9f407b72802a",
   "metadata": {},
   "source": [
    "Start the preview by entering this into your terminal:\n",
    "```sh\n",
    "nbdev_preview\n",
    "```"
   ]
  },
  {
   "cell_type": "markdown",
   "id": "7397a121-9f0f-4c3c-abe6-71a991db0197",
   "metadata": {},
   "source": [
    "Before every git push, run :\n",
    "```sh\n",
    "nbdev_prepare\n",
    "```\n",
    "\n",
    "Which is the combination of:"
   ]
  },
  {
   "cell_type": "markdown",
   "id": "ac26a794-f074-4194-a991-f9f789abe5d2",
   "metadata": {},
   "source": [
    "```sh\n",
    "nbdev_export\n",
    "```\n",
    "Builds the .py modules from Jupyter notebooks"
   ]
  },
  {
   "cell_type": "markdown",
   "id": "1476a4ad-61bb-4f64-8f96-7851d94c4795",
   "metadata": {},
   "source": [
    "```sh\n",
    "nbdev_test\n",
    "```\n",
    "Tests your notebooks"
   ]
  },
  {
   "cell_type": "markdown",
   "id": "5761cc20-80f6-4727-bff1-33b1cbbaeed0",
   "metadata": {},
   "source": [
    "```sh\n",
    "nbdev_clean\n",
    "```\n",
    "Cleans your notebooks to get rid of extreanous output for git"
   ]
  },
  {
   "cell_type": "markdown",
   "id": "f513c586-2b9e-4c95-b6d8-07f6b0a156e1",
   "metadata": {},
   "source": [
    "```sh\n",
    "nbdev_readme\n",
    "```\n",
    "Updates your repo’s README.md file from your index notebook."
   ]
  },
  {
   "cell_type": "markdown",
   "id": "299b88c0-4e5b-49ca-8b02-b27f984b3889",
   "metadata": {},
   "source": [
    "## Directives for documentation:\n"
   ]
  },
  {
   "cell_type": "markdown",
   "id": "1c062574-5dee-4fbc-b028-5cf8d49ece12",
   "metadata": {},
   "source": [
    "```sh \n",
    "#|hide\n",
    "```\n",
    "> Hide cell input and output."
   ]
  },
  {
   "cell_type": "markdown",
   "id": "3b233d06-39a4-402e-89db-7e286d5a99ee",
   "metadata": {},
   "source": [
    "```sh \n",
    "#|echo: <true|false>\n",
    "```\n",
    "> Toggle the visibility of code-cell inputs."
   ]
  },
  {
   "cell_type": "markdown",
   "id": "6889f152-458a-43a5-8738-d5939cd73c0c",
   "metadata": {},
   "source": [
    "```sh \n",
    "#|output: <true|false|asis>\n",
    "```\n",
    "> Setting this to false hides the output of a cell. Setting this to asis renders the output as raw markdown."
   ]
  },
  {
   "cell_type": "markdown",
   "id": "af49a5b9-ce30-4b63-90d2-7536cb631881",
   "metadata": {},
   "source": [
    "```sh \n",
    "#|hide_line\n",
    "```\n",
    "> Hide a specific line of code in an input cell."
   ]
  },
  {
   "cell_type": "markdown",
   "id": "38804499-e433-4765-99b7-2d5f7dbc37ac",
   "metadata": {},
   "source": [
    "```sh \n",
    "#|code-fold: <show|true>\n",
    "```\n",
    "> The #|code-fold directive allows you to collapse code cells. When set to true, the element is collapsed by default, when set to show show the element is shown by default."
   ]
  },
  {
   "cell_type": "markdown",
   "id": "da0641ea-af81-40be-9ebf-1138e7aebffe",
   "metadata": {},
   "source": [
    "### Exports \n",
    "```sh \n",
    "#|default_exp <name>\n",
    "```\n",
    "> Names the module where cells with the #|export directive will be exported to by default."
   ]
  },
  {
   "cell_type": "markdown",
   "id": "63be35dc-4081-44ef-8d86-04c15345d492",
   "metadata": {},
   "source": [
    "```sh \n",
    "#|export\n",
    "```\n",
    "> Exports the items in the cell into the generated module and documentation."
   ]
  },
  {
   "cell_type": "markdown",
   "id": "f06b5d96-3958-4a92-9e5e-366124b725e7",
   "metadata": {},
   "source": [
    "```sh \n",
    "#|exports\n",
    "```\n",
    "> A source export. Like #|export but in addition to showing docs via showdoc.show_doc, it also shows the source code."
   ]
  },
  {
   "cell_type": "markdown",
   "id": "aaa05951-a7e3-4a56-83cc-71b708706b58",
   "metadata": {},
   "source": [
    "```sh \n",
    "#|exec_doc\n",
    "```\n",
    "> Ensures that a cell is executed each time before generating docs. When a cell does not have this annotation, it is run according to the default rules described here."
   ]
  },
  {
   "cell_type": "markdown",
   "id": "d0b63080-e47b-43a4-845d-3f913767ecea",
   "metadata": {},
   "source": [
    "```sh \n",
    "#|eval: <true|false>\n",
    "```\n",
    "> When set to false, the cell is ignored during testing."
   ]
  },
  {
   "cell_type": "markdown",
   "id": "dd7b9ff5-efea-4d05-9820-c6bbbcec98f5",
   "metadata": {},
   "source": [
    "## Testing\n"
   ]
  },
  {
   "cell_type": "code",
   "execution_count": null,
   "id": "cf9bb8ad-ad7b-46df-a4d4-7ceb89ed9eb9",
   "metadata": {},
   "outputs": [],
   "source": [
    "def say_hello(to):\n",
    "    \"Say hello to somebody\"\n",
    "    return f'Hello {to}!'"
   ]
  },
  {
   "cell_type": "code",
   "execution_count": null,
   "id": "c8f41255-dee3-4bdf-bce1-271c4fa86220",
   "metadata": {},
   "outputs": [
    {
     "data": {
      "text/plain": [
       "'Hello Isaac!'"
      ]
     },
     "execution_count": null,
     "metadata": {},
     "output_type": "execute_result"
    }
   ],
   "source": [
    "say_hello(\"Isaac\")"
   ]
  },
  {
   "cell_type": "markdown",
   "id": "255080da-8062-4bc7-9c3f-148fc3df42e8",
   "metadata": {},
   "source": [
    "This is a test too! When you run nbdev_test it will execute this cell (and all other test cells) and fail if they raise any exceptions."
   ]
  },
  {
   "cell_type": "markdown",
   "id": "cd9af03d-c3a8-4e45-be1a-d586fe9738de",
   "metadata": {},
   "source": [
    "For tests, it’s preferred to use more explicit asserts:"
   ]
  },
  {
   "cell_type": "code",
   "execution_count": null,
   "id": "49a5ba5b-bbaf-4e44-992e-4247aaeade5f",
   "metadata": {},
   "outputs": [],
   "source": [
    "assert say_hello(\"Hamel\") == \"Hello Hamel!\""
   ]
  },
  {
   "cell_type": "code",
   "execution_count": null,
   "id": "a22f61a3-a3e1-4364-b253-32bba84f92dd",
   "metadata": {},
   "outputs": [],
   "source": [
    "from fastcore.test import *"
   ]
  },
  {
   "cell_type": "code",
   "execution_count": null,
   "id": "137c7813-a977-4c08-a9ca-bb4f5d8ffa32",
   "metadata": {},
   "outputs": [],
   "source": [
    "test_eq(say_hello(\"Hamel\"), \"Hello Hamel!\")"
   ]
  },
  {
   "cell_type": "markdown",
   "id": "f5000a20-2329-469c-8570-f394fe9211b4",
   "metadata": {},
   "source": [
    "Using\n",
    "```sh\n",
    "$$\\sum_{i=1}^{k+1}i$$\n",
    "```\n",
    "\n",
    "Which is rendered as:\n",
    "$$\\sum_{i=1}^{k+1}i$$"
   ]
  },
  {
   "cell_type": "markdown",
   "id": "d064ead8-d0e7-4632-959c-dd5d9f1122a2",
   "metadata": {},
   "source": [
    "```sh\n",
    "This version is displayed inline: $\\sum_{i=1}^{k+1}i$ . You can include text before and after.\n",
    "````\n",
    "> Becomes: \n",
    "This version is displayed inline: $\\sum_{i=1}^{k+1}i$ . You can include text before and after."
   ]
  },
  {
   "cell_type": "code",
   "execution_count": null,
   "id": "5c7a2f06-a83c-4663-a8c6-b3e6338a10d9",
   "metadata": {},
   "outputs": [],
   "source": []
  }
 ],
 "metadata": {
  "kernelspec": {
   "display_name": "python3",
   "language": "python",
   "name": "python3"
  }
 },
 "nbformat": 4,
 "nbformat_minor": 5
}
