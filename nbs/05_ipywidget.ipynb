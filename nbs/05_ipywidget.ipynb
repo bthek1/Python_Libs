{
 "cells": [
  {
   "cell_type": "markdown",
   "id": "429dbd09-5870-44fa-9c5f-266b1fc7f3c4",
   "metadata": {},
   "source": [
    "# Ipywidget\n",
    "\n",
    "> Ipywidget\n",
    "\n",
    "- skip_showdoc: true\n",
    "- skip_exec: true\n"
   ]
  },
  {
   "cell_type": "code",
   "execution_count": null,
   "id": "0a17808e-cb7e-47c2-9f29-dfe7c2ff2f9f",
   "metadata": {},
   "outputs": [],
   "source": [
    "#| default_exp ipywidget_stuff"
   ]
  },
  {
   "cell_type": "code",
   "execution_count": null,
   "id": "ec8f4e96-1d02-4162-bd3a-44adc79f9d93",
   "metadata": {},
   "outputs": [
    {
     "name": "stdout",
     "output_type": "stream",
     "text": [
      "ipywidgets                8.1.3\n"
     ]
    }
   ],
   "source": [
    "!pip list | grep ipywidget"
   ]
  },
  {
   "cell_type": "code",
   "execution_count": null,
   "id": "de7f4583-2889-4eec-95c0-e773f83be713",
   "metadata": {},
   "outputs": [],
   "source": [
    "import ipywidgets as widgets"
   ]
  },
  {
   "cell_type": "code",
   "execution_count": null,
   "id": "a9190b96-93a7-437a-8a2f-62fd41f9aa09",
   "metadata": {},
   "outputs": [],
   "source": [
    "from ipywidgets import IntSlider\n",
    "from ipywidgets.embed import embed_minimal_html\n",
    "\n",
    "slider = IntSlider(value=40)\n",
    "embed_minimal_html('export.html', views=[slider], title='Widgets export')"
   ]
  },
  {
   "cell_type": "code",
   "execution_count": null,
   "id": "6afe62e5-42f8-49a7-a86a-a8a68e460307",
   "metadata": {},
   "outputs": [
    {
     "data": {
      "text/html": [
       "\n",
       "        <iframe\n",
       "            width=\"100%\"\n",
       "            height=\"600\"\n",
       "            src=\"export.html\"\n",
       "            frameborder=\"0\"\n",
       "            allowfullscreen\n",
       "            \n",
       "        ></iframe>\n",
       "        "
      ],
      "text/plain": [
       "<IPython.lib.display.IFrame>"
      ]
     },
     "execution_count": null,
     "metadata": {},
     "output_type": "execute_result"
    }
   ],
   "source": [
    "from IPython.display import IFrame\n",
    "\n",
    "# Specify the path to your HTML file\n",
    "html_file_path = 'export.html'\n",
    "\n",
    "# Display the HTML file in the notebook\n",
    "IFrame(src=html_file_path, width='100%', height=600)"
   ]
  },
  {
   "cell_type": "markdown",
   "id": "17c30a91-5778-4e34-bffc-3b2eac2343e0",
   "metadata": {},
   "source": [
    "## Numeric widgets"
   ]
  },
  {
   "cell_type": "markdown",
   "id": "31002c06-c896-43f3-b276-6d7721f089b7",
   "metadata": {},
   "source": [
    "There are many widgets distributed with ipywidgets that are designed to display numeric values.  Widgets exist for displaying integers and floats, both bounded and unbounded.  The integer widgets share a similar naming scheme to their floating point counterparts.  By replacing `Float` with `Int` in the widget name, you can find the Integer equivalent."
   ]
  },
  {
   "cell_type": "markdown",
   "id": "ce618568-f863-42c2-afff-bbc6ccb5479e",
   "metadata": {},
   "source": [
    "### IntSlider  \n",
    "- The slider is displayed with a specified, initial `value`. Lower and upper bounds are defined by `min` and `max`, and the value can be incremented according to the `step` parameter.\n",
    "- The slider's label is defined by `description` parameter \n",
    "- The slider's `orientation` is either 'horizontal' (default) or 'vertical'\n",
    "- `readout`  displays the current value of the slider next to it. The options are **True** (default) or **False** \n",
    "    - `readout_format` specifies the format function used to represent slider value. The default is '.2f'\n",
    "  "
   ]
  },
  {
   "cell_type": "code",
   "execution_count": null,
   "id": "29c9e5c5-83e8-423f-8828-ac596b7f5f0e",
   "metadata": {},
   "outputs": [
    {
     "data": {
      "application/vnd.jupyter.widget-view+json": {
       "model_id": "a7d1aacdeff94166838b6d26e5c9c117",
       "version_major": 2,
       "version_minor": 0
      },
      "text/plain": [
       "IntSlider(value=7, continuous_update=False, description='Test:', max=10)"
      ]
     },
     "execution_count": null,
     "metadata": {},
     "output_type": "execute_result"
    }
   ],
   "source": [
    "widgets.IntSlider(\n",
    "    value=7,\n",
    "    min=0,\n",
    "    max=10,\n",
    "    step=1,\n",
    "    description='Test:',\n",
    "    disabled=False,\n",
    "    continuous_update=False,\n",
    "    orientation='horizontal',\n",
    "    readout=True,\n",
    "    readout_format='d'\n",
    ")"
   ]
  },
  {
   "cell_type": "markdown",
   "id": "74e079f6-e217-45da-8110-f7a7b6852d2a",
   "metadata": {},
   "source": [
    "### FloatSlider  "
   ]
  },
  {
   "cell_type": "code",
   "execution_count": null,
   "id": "5b8c7c09-6239-4f71-a01c-922b3d7cb2ab",
   "metadata": {},
   "outputs": [
    {
     "data": {
      "application/vnd.jupyter.widget-view+json": {
       "model_id": "4f163c35fe46476699df838f2893af89",
       "version_major": 2,
       "version_minor": 0
      },
      "text/plain": [
       "FloatSlider(value=7.5, continuous_update=False, description='Test:', max=10.0, readout_format='.1f')"
      ]
     },
     "metadata": {},
     "output_type": "display_data"
    }
   ],
   "source": [
    "widgets.FloatSlider(\n",
    "    value=7.5,\n",
    "    min=0,\n",
    "    max=10.0,\n",
    "    step=0.1,\n",
    "    description='Test:',\n",
    "    disabled=False,\n",
    "    continuous_update=False,\n",
    "    orientation='horizontal',\n",
    "    readout=True,\n",
    "    readout_format='.1f',\n",
    ")"
   ]
  },
  {
   "cell_type": "markdown",
   "id": "63ff01b7-0c5d-4844-aecb-ca3db536dff1",
   "metadata": {},
   "source": [
    "An example of sliders **displayed vertically**."
   ]
  },
  {
   "cell_type": "code",
   "execution_count": null,
   "id": "176bba2c-6ed8-42f6-ad43-105600387519",
   "metadata": {},
   "outputs": [
    {
     "data": {
      "application/vnd.jupyter.widget-view+json": {
       "model_id": "05735010a6234225adcdf7a9acc40846",
       "version_major": 2,
       "version_minor": 0
      },
      "text/plain": [
       "FloatSlider(value=7.5, continuous_update=False, description='Test:', max=10.0, orientation='vertical', readout…"
      ]
     },
     "execution_count": null,
     "metadata": {},
     "output_type": "execute_result"
    }
   ],
   "source": [
    "widgets.FloatSlider(\n",
    "    value=7.5,\n",
    "    min=0,\n",
    "    max=10.0,\n",
    "    step=0.1,\n",
    "    description='Test:',\n",
    "    disabled=False,\n",
    "    continuous_update=False,\n",
    "    orientation='vertical',\n",
    "    readout=True,\n",
    "    readout_format='.1f',\n",
    ")"
   ]
  },
  {
   "cell_type": "markdown",
   "id": "fc5e81d6-aa98-4d19-88ac-defbcdc55aee",
   "metadata": {},
   "source": [
    "### FloatLogSlider"
   ]
  },
  {
   "cell_type": "markdown",
   "id": "eb512ddd-c3bb-4da3-9559-901376d657f0",
   "metadata": {},
   "source": [
    "The `FloatLogSlider` has a log scale, which makes it easy to have a slider that covers a wide range of positive magnitudes. The `min` and `max` refer to the minimum and maximum exponents of the `base`, and the `value` refers to the actual value of the slider."
   ]
  },
  {
   "cell_type": "code",
   "execution_count": null,
   "id": "4519c612-7792-41c5-a4ff-a46aed599b8c",
   "metadata": {},
   "outputs": [
    {
     "data": {
      "application/vnd.jupyter.widget-view+json": {
       "model_id": "f33b2469b4e14d5fb8e7d6d57648ac1f",
       "version_major": 2,
       "version_minor": 0
      },
      "text/plain": [
       "FloatLogSlider(value=10.0, description='Log Slider', max=10.0, min=-10.0, step=0.2)"
      ]
     },
     "execution_count": null,
     "metadata": {},
     "output_type": "execute_result"
    }
   ],
   "source": [
    "widgets.FloatLogSlider(\n",
    "    value=10,\n",
    "    base=10,\n",
    "    min=-10, # max exponent of base\n",
    "    max=10, # min exponent of base\n",
    "    step=0.2, # exponent step\n",
    "    description='Log Slider'\n",
    ")"
   ]
  },
  {
   "cell_type": "markdown",
   "id": "b526f233-edea-4f14-bb28-81dbffa8ef6b",
   "metadata": {},
   "source": [
    "### IntRangeSlider"
   ]
  },
  {
   "cell_type": "code",
   "execution_count": null,
   "id": "72569d8f-b980-4ce2-ba89-5a2ff82c1375",
   "metadata": {},
   "outputs": [
    {
     "data": {
      "application/vnd.jupyter.widget-view+json": {
       "model_id": "42f90b54263f47a8b7489c9c0e3b8ca8",
       "version_major": 2,
       "version_minor": 0
      },
      "text/plain": [
       "IntRangeSlider(value=(5, 7), continuous_update=False, description='Test:', max=10)"
      ]
     },
     "execution_count": null,
     "metadata": {},
     "output_type": "execute_result"
    }
   ],
   "source": [
    "widgets.IntRangeSlider(\n",
    "    value=[5, 7],\n",
    "    min=0,\n",
    "    max=10,\n",
    "    step=1,\n",
    "    description='Test:',\n",
    "    disabled=False,\n",
    "    continuous_update=False,\n",
    "    orientation='horizontal',\n",
    "    readout=True,\n",
    "    readout_format='d',\n",
    ")"
   ]
  },
  {
   "cell_type": "markdown",
   "id": "9f802e1f-af77-465e-a6ba-09594b809b4f",
   "metadata": {},
   "source": [
    "### FloatRangeSlider"
   ]
  },
  {
   "cell_type": "code",
   "execution_count": null,
   "id": "a7adab25-2acf-425d-a049-69004d763086",
   "metadata": {},
   "outputs": [
    {
     "data": {
      "application/vnd.jupyter.widget-view+json": {
       "model_id": "7109c7fbfa084e11ac46ea4f8ebb96e8",
       "version_major": 2,
       "version_minor": 0
      },
      "text/plain": [
       "FloatRangeSlider(value=(5.0, 7.5), continuous_update=False, description='Test:', max=10.0, readout_format='.1f…"
      ]
     },
     "execution_count": null,
     "metadata": {},
     "output_type": "execute_result"
    }
   ],
   "source": [
    "widgets.FloatRangeSlider(\n",
    "    value=[5, 7.5],\n",
    "    min=0,\n",
    "    max=10.0,\n",
    "    step=0.1,\n",
    "    description='Test:',\n",
    "    disabled=False,\n",
    "    continuous_update=False,\n",
    "    orientation='horizontal',\n",
    "    readout=True,\n",
    "    readout_format='.1f',\n",
    ")"
   ]
  },
  {
   "cell_type": "markdown",
   "id": "c5541710-fafc-482a-9b12-c35e1bfd670c",
   "metadata": {},
   "source": [
    "### IntProgress"
   ]
  },
  {
   "cell_type": "code",
   "execution_count": null,
   "id": "0f9d6836-c508-4158-9489-8516e4a2190d",
   "metadata": {},
   "outputs": [
    {
     "data": {
      "application/vnd.jupyter.widget-view+json": {
       "model_id": "fae873bca5fa44c6bfa46d593b71f0b1",
       "version_major": 2,
       "version_minor": 0
      },
      "text/plain": [
       "IntProgress(value=7, description='Loading:', max=10, style=ProgressStyle(bar_color='maroon'))"
      ]
     },
     "execution_count": null,
     "metadata": {},
     "output_type": "execute_result"
    }
   ],
   "source": [
    "widgets.IntProgress(\n",
    "    value=7,\n",
    "    min=0,\n",
    "    max=10,\n",
    "    description='Loading:',\n",
    "    bar_style='', # 'success', 'info', 'warning', 'danger' or ''\n",
    "    style={'bar_color': 'maroon'},\n",
    "    orientation='horizontal'\n",
    ")"
   ]
  },
  {
   "cell_type": "markdown",
   "id": "5df3396b-59f9-41dd-8f13-047488d52a61",
   "metadata": {},
   "source": [
    "### FloatProgress"
   ]
  },
  {
   "cell_type": "code",
   "execution_count": null,
   "id": "3fed860e-770e-4209-a484-de22aaaafe44",
   "metadata": {},
   "outputs": [
    {
     "data": {
      "application/vnd.jupyter.widget-view+json": {
       "model_id": "623e29aeffc5469aa9c1ea019089771f",
       "version_major": 2,
       "version_minor": 0
      },
      "text/plain": [
       "FloatProgress(value=7.5, bar_style='info', description='Loading:', max=10.0, style=ProgressStyle(bar_color='#f…"
      ]
     },
     "execution_count": null,
     "metadata": {},
     "output_type": "execute_result"
    }
   ],
   "source": [
    "widgets.FloatProgress(\n",
    "    value=7.5,\n",
    "    min=0,\n",
    "    max=10.0,\n",
    "    description='Loading:',\n",
    "    bar_style='info',\n",
    "    style={'bar_color': '#ffff00'},\n",
    "    orientation='horizontal'\n",
    ")"
   ]
  },
  {
   "cell_type": "markdown",
   "id": "ae2a12d2-43aa-41f5-9d5f-5ba120006821",
   "metadata": {},
   "source": [
    "The numerical text boxes that impose some limit on the data (range, integer-only) impose that restriction when the user presses enter.\n",
    "\n",
    "### BoundedIntText"
   ]
  },
  {
   "cell_type": "code",
   "execution_count": null,
   "id": "17cf39c6-d3e2-41b5-b3c1-20a6f866fff8",
   "metadata": {},
   "outputs": [
    {
     "data": {
      "application/vnd.jupyter.widget-view+json": {
       "model_id": "a9455c113d314e3ca3c4f44131e52e37",
       "version_major": 2,
       "version_minor": 0
      },
      "text/plain": [
       "BoundedIntText(value=7, description='Text:', max=10)"
      ]
     },
     "execution_count": null,
     "metadata": {},
     "output_type": "execute_result"
    }
   ],
   "source": [
    "widgets.BoundedIntText(\n",
    "    value=7,\n",
    "    min=0,\n",
    "    max=10,\n",
    "    step=1,\n",
    "    description='Text:',\n",
    "    disabled=False\n",
    ")"
   ]
  },
  {
   "cell_type": "markdown",
   "id": "cead40c7-6dbd-48af-81d7-aa5b8da181f5",
   "metadata": {},
   "source": [
    "### BoundedFloatText"
   ]
  },
  {
   "cell_type": "code",
   "execution_count": null,
   "id": "044d2910-a0b2-4354-b6a7-f952a695311b",
   "metadata": {},
   "outputs": [
    {
     "data": {
      "application/vnd.jupyter.widget-view+json": {
       "model_id": "be308e5668a94747a1532c33c7d864de",
       "version_major": 2,
       "version_minor": 0
      },
      "text/plain": [
       "BoundedFloatText(value=7.5, description='Text:', max=10.0, step=0.1)"
      ]
     },
     "execution_count": null,
     "metadata": {},
     "output_type": "execute_result"
    }
   ],
   "source": [
    "widgets.BoundedFloatText(\n",
    "    value=7.5,\n",
    "    min=0,\n",
    "    max=10.0,\n",
    "    step=0.1,\n",
    "    description='Text:',\n",
    "    disabled=False\n",
    ")"
   ]
  },
  {
   "cell_type": "markdown",
   "id": "f31307e7-3d43-4b90-95b5-fd71a9ebe413",
   "metadata": {},
   "source": [
    "### IntText"
   ]
  },
  {
   "cell_type": "code",
   "execution_count": null,
   "id": "5fcf02eb-62dc-4332-9ba3-1c690f912096",
   "metadata": {},
   "outputs": [
    {
     "data": {
      "application/vnd.jupyter.widget-view+json": {
       "model_id": "764c1826735c4d0b83d6ce56c52b5767",
       "version_major": 2,
       "version_minor": 0
      },
      "text/plain": [
       "IntText(value=7, description='Any:')"
      ]
     },
     "execution_count": null,
     "metadata": {},
     "output_type": "execute_result"
    }
   ],
   "source": [
    "widgets.IntText(\n",
    "    value=7,\n",
    "    description='Any:',\n",
    "    disabled=False\n",
    ")"
   ]
  },
  {
   "cell_type": "markdown",
   "id": "082a116f-d57a-4852-93c4-4d4c7d751efd",
   "metadata": {},
   "source": [
    "### FloatText"
   ]
  },
  {
   "cell_type": "code",
   "execution_count": null,
   "id": "f68db9fb-c57a-4ac8-8dbf-a91ffca25eb7",
   "metadata": {},
   "outputs": [
    {
     "data": {
      "application/vnd.jupyter.widget-view+json": {
       "model_id": "3953507ea33a4476b0264947c80ccd6d",
       "version_major": 2,
       "version_minor": 0
      },
      "text/plain": [
       "FloatText(value=7.5, description='Any:')"
      ]
     },
     "execution_count": null,
     "metadata": {},
     "output_type": "execute_result"
    }
   ],
   "source": [
    "widgets.FloatText(\n",
    "    value=7.5,\n",
    "    description='Any:',\n",
    "    disabled=False\n",
    ")"
   ]
  },
  {
   "cell_type": "markdown",
   "id": "b733ea1e-702c-43ad-ae15-8772a9cc108b",
   "metadata": {},
   "source": [
    "## Boolean widgets"
   ]
  },
  {
   "cell_type": "markdown",
   "id": "a470b587-7cda-4759-97db-cec42dd879d8",
   "metadata": {},
   "source": [
    "There are three widgets that are designed to display a boolean value."
   ]
  },
  {
   "cell_type": "markdown",
   "id": "bf4fc6b7-7860-4290-8d7b-1d9cea6461c2",
   "metadata": {},
   "source": [
    "### ToggleButton"
   ]
  },
  {
   "cell_type": "code",
   "execution_count": null,
   "id": "8d40fdb1-a898-42c0-b239-65db2153d1b2",
   "metadata": {},
   "outputs": [
    {
     "data": {
      "application/vnd.jupyter.widget-view+json": {
       "model_id": "15b0bc34182c41b59979bb64edbff471",
       "version_major": 2,
       "version_minor": 0
      },
      "text/plain": [
       "ToggleButton(value=False, description='Click me', icon='check', tooltip='Description')"
      ]
     },
     "execution_count": null,
     "metadata": {},
     "output_type": "execute_result"
    }
   ],
   "source": [
    "widgets.ToggleButton(\n",
    "    value=False,\n",
    "    description='Click me',\n",
    "    disabled=False,\n",
    "    button_style='', # 'success', 'info', 'warning', 'danger' or ''\n",
    "    tooltip='Description',\n",
    "    icon='check' # (FontAwesome names without the `fa-` prefix)\n",
    ")"
   ]
  },
  {
   "cell_type": "markdown",
   "id": "a4383efe-99fb-48af-91bf-ecf06fd5ef19",
   "metadata": {},
   "source": [
    "### Checkbox  \n",
    "- `value` specifies the value of the checkbox\n",
    "- `indent` parameter places an indented checkbox, aligned with other controls. Options are **True** (default) or **False**    \n"
   ]
  },
  {
   "cell_type": "code",
   "execution_count": null,
   "id": "495136e3-2a0f-4b43-bf90-bdb87553ee2c",
   "metadata": {},
   "outputs": [
    {
     "data": {
      "application/vnd.jupyter.widget-view+json": {
       "model_id": "42cf0c7e19bb48b9947c9b26f4261899",
       "version_major": 2,
       "version_minor": 0
      },
      "text/plain": [
       "Checkbox(value=False, description='Check me', indent=False)"
      ]
     },
     "execution_count": null,
     "metadata": {},
     "output_type": "execute_result"
    }
   ],
   "source": [
    "widgets.Checkbox(\n",
    "    value=False,\n",
    "    description='Check me',\n",
    "    disabled=False,\n",
    "    indent=False\n",
    ")"
   ]
  },
  {
   "cell_type": "markdown",
   "id": "4a884242-8ce6-487e-ae66-f9f54dcb8a58",
   "metadata": {},
   "source": [
    "### Valid\n",
    "\n",
    "The valid widget provides a read-only indicator."
   ]
  },
  {
   "cell_type": "code",
   "execution_count": null,
   "id": "15800de4-7fd3-48be-8888-af1e136430f3",
   "metadata": {},
   "outputs": [
    {
     "data": {
      "application/vnd.jupyter.widget-view+json": {
       "model_id": "b653dd4343e54e969a3e51a87936d491",
       "version_major": 2,
       "version_minor": 0
      },
      "text/plain": [
       "Valid(value=False, description='Valid!')"
      ]
     },
     "execution_count": null,
     "metadata": {},
     "output_type": "execute_result"
    }
   ],
   "source": [
    "widgets.Valid(\n",
    "    value=False,\n",
    "    description='Valid!',\n",
    ")"
   ]
  },
  {
   "cell_type": "markdown",
   "id": "09ef2857-832e-47b3-84dd-4185ea20a769",
   "metadata": {},
   "source": [
    "## Selection widgets"
   ]
  },
  {
   "cell_type": "markdown",
   "id": "e7548fcf-da7b-42d8-9780-f3f92a14fc45",
   "metadata": {},
   "source": [
    "There are several widgets that can be used to display single selection lists, and two that can be used to select multiple values.  All inherit from the same base class.  You can specify the **enumeration of selectable options by passing a list** (options are either (label, value) pairs, or simply values for which the labels are derived by calling `str`)."
   ]
  },
  {
   "cell_type": "markdown",
   "id": "a6adf984-6088-4ccd-a272-5eb74ed0c905",
   "metadata": {},
   "source": [
    "### Dropdown"
   ]
  },
  {
   "cell_type": "code",
   "execution_count": null,
   "id": "d822c9e9-a567-4ca5-ac53-27610bd17ff3",
   "metadata": {},
   "outputs": [
    {
     "data": {
      "application/vnd.jupyter.widget-view+json": {
       "model_id": "5adc28dfad06465d899fce7881624a81",
       "version_major": 2,
       "version_minor": 0
      },
      "text/plain": [
       "Dropdown(description='Number:', index=1, options=('1', '2', '3'), value='2')"
      ]
     },
     "execution_count": null,
     "metadata": {},
     "output_type": "execute_result"
    }
   ],
   "source": [
    "widgets.Dropdown(\n",
    "    options=['1', '2', '3'],\n",
    "    value='2',\n",
    "    description='Number:',\n",
    "    disabled=False,\n",
    ")"
   ]
  },
  {
   "cell_type": "markdown",
   "id": "cec2317a-2391-432b-97ad-72a4c8474d25",
   "metadata": {},
   "source": [
    "The following is also valid, displaying the words `'One', 'Two', 'Three'` as the dropdown choices but returning the values `1, 2, 3`."
   ]
  },
  {
   "cell_type": "code",
   "execution_count": null,
   "id": "2c829419-22c2-4612-b05b-ab35771a5450",
   "metadata": {},
   "outputs": [
    {
     "data": {
      "application/vnd.jupyter.widget-view+json": {
       "model_id": "1286276bc1ef44b78e09aeb4d24174f4",
       "version_major": 2,
       "version_minor": 0
      },
      "text/plain": [
       "Dropdown(description='Number:', index=1, options=(('One', 1), ('Two', 2), ('Three', 3)), value=2)"
      ]
     },
     "execution_count": null,
     "metadata": {},
     "output_type": "execute_result"
    }
   ],
   "source": [
    "widgets.Dropdown(\n",
    "    options=[('One', 1), ('Two', 2), ('Three', 3)],\n",
    "    value=2,\n",
    "    description='Number:',\n",
    ")"
   ]
  },
  {
   "cell_type": "markdown",
   "id": "f33b9cfe-f232-471a-8af6-f8d02ddd8b84",
   "metadata": {},
   "source": [
    "### RadioButtons"
   ]
  },
  {
   "cell_type": "code",
   "execution_count": null,
   "id": "237cf377-7f7b-4cbe-a9f9-ad03da9ca78a",
   "metadata": {},
   "outputs": [
    {
     "data": {
      "application/vnd.jupyter.widget-view+json": {
       "model_id": "3f61212357d94a598b860f62ba076abc",
       "version_major": 2,
       "version_minor": 0
      },
      "text/plain": [
       "RadioButtons(description='Pizza topping:', options=('pepperoni', 'pineapple', 'anchovies'), value='pepperoni')"
      ]
     },
     "execution_count": null,
     "metadata": {},
     "output_type": "execute_result"
    }
   ],
   "source": [
    "widgets.RadioButtons(\n",
    "    options=['pepperoni', 'pineapple', 'anchovies'],\n",
    "#    value='pineapple', # Defaults to 'pineapple'\n",
    "#    layout={'width': 'max-content'}, # If the items' names are long\n",
    "    description='Pizza topping:',\n",
    "    disabled=False\n",
    ")"
   ]
  },
  {
   "cell_type": "markdown",
   "id": "12a7580c-946a-4226-bcea-c877d633a03b",
   "metadata": {},
   "source": [
    "#### With dynamic layout and very long labels"
   ]
  },
  {
   "cell_type": "code",
   "execution_count": null,
   "id": "ccccc2dd-052a-4f13-8d94-f9c28efbbe69",
   "metadata": {},
   "outputs": [
    {
     "data": {
      "application/vnd.jupyter.widget-view+json": {
       "model_id": "9d3a6d118595459ab5726aa42b748b81",
       "version_major": 2,
       "version_minor": 0
      },
      "text/plain": [
       "Box(children=(Label(value='Pizza topping with a very long label:'), RadioButtons(layout=Layout(width='max-cont…"
      ]
     },
     "execution_count": null,
     "metadata": {},
     "output_type": "execute_result"
    }
   ],
   "source": [
    "widgets.Box(\n",
    "    [\n",
    "        widgets.Label(value='Pizza topping with a very long label:'), \n",
    "        widgets.RadioButtons(\n",
    "            options=[\n",
    "                'pepperoni', \n",
    "                'pineapple', \n",
    "                'anchovies', \n",
    "                'and the long name that will fit fine and the long name that will fit fine and the long name that will fit fine '\n",
    "            ],\n",
    "            layout={'width': 'max-content'}\n",
    "        )\n",
    "    ]\n",
    ")"
   ]
  },
  {
   "cell_type": "markdown",
   "id": "6f83e3e7-a7ac-4934-88c2-823874d9efaf",
   "metadata": {},
   "source": [
    "### Select"
   ]
  },
  {
   "cell_type": "code",
   "execution_count": null,
   "id": "74419c1c-1ddb-4945-8f0f-d39046f236d5",
   "metadata": {},
   "outputs": [
    {
     "data": {
      "application/vnd.jupyter.widget-view+json": {
       "model_id": "aada826ba7ce4e00916200868fb6cd11",
       "version_major": 2,
       "version_minor": 0
      },
      "text/plain": [
       "Select(description='OS:', index=2, options=('Linux', 'Windows', 'macOS'), value='macOS')"
      ]
     },
     "execution_count": null,
     "metadata": {},
     "output_type": "execute_result"
    }
   ],
   "source": [
    "widgets.Select(\n",
    "    options=['Linux', 'Windows', 'macOS'],\n",
    "    value='macOS',\n",
    "    # rows=10,\n",
    "    description='OS:',\n",
    "    disabled=False\n",
    ")"
   ]
  },
  {
   "cell_type": "markdown",
   "id": "8153e182-a3e9-472a-8823-e8e72fb76e24",
   "metadata": {},
   "source": [
    "### SelectionSlider"
   ]
  },
  {
   "cell_type": "code",
   "execution_count": null,
   "id": "5dba252e-8e6d-4899-a5a2-457f876c8686",
   "metadata": {},
   "outputs": [
    {
     "data": {
      "application/vnd.jupyter.widget-view+json": {
       "model_id": "d3fd11ef2b07470a84aa27157ea7fd0f",
       "version_major": 2,
       "version_minor": 0
      },
      "text/plain": [
       "SelectionSlider(continuous_update=False, description='I like my eggs ...', index=1, options=('scrambled', 'sun…"
      ]
     },
     "execution_count": null,
     "metadata": {},
     "output_type": "execute_result"
    }
   ],
   "source": [
    "widgets.SelectionSlider(\n",
    "    options=['scrambled', 'sunny side up', 'poached', 'over easy'],\n",
    "    value='sunny side up',\n",
    "    description='I like my eggs ...',\n",
    "    disabled=False,\n",
    "    continuous_update=False,\n",
    "    orientation='horizontal',\n",
    "    readout=True\n",
    ")"
   ]
  },
  {
   "cell_type": "markdown",
   "id": "41208c63-5d0a-4288-a870-946d6ed7372b",
   "metadata": {},
   "source": [
    "### SelectionRangeSlider\n",
    "\n",
    "The value, index, and label keys are 2-tuples of the min and max values selected. The options must be nonempty."
   ]
  },
  {
   "cell_type": "code",
   "execution_count": null,
   "id": "29eb251a-012e-4822-9263-ec417e45c7a3",
   "metadata": {},
   "outputs": [
    {
     "data": {
      "application/vnd.jupyter.widget-view+json": {
       "model_id": "ba948f8b51984975b9f301965c7e0426",
       "version_major": 2,
       "version_minor": 0
      },
      "text/plain": [
       "SelectionRangeSlider(description='Months (2015)', index=(0, 11), options=(('Jan', datetime.date(2015, 1, 1)), …"
      ]
     },
     "execution_count": null,
     "metadata": {},
     "output_type": "execute_result"
    }
   ],
   "source": [
    "import datetime\n",
    "dates = [datetime.date(2015, i, 1) for i in range(1, 13)]\n",
    "options = [(i.strftime('%b'), i) for i in dates]\n",
    "widgets.SelectionRangeSlider(\n",
    "    options=options,\n",
    "    index=(0, 11),\n",
    "    description='Months (2015)',\n",
    "    disabled=False\n",
    ")"
   ]
  },
  {
   "cell_type": "markdown",
   "id": "f56b7680-0019-41d3-85f6-82013622f5fc",
   "metadata": {},
   "source": [
    "### ToggleButtons"
   ]
  },
  {
   "cell_type": "code",
   "execution_count": null,
   "id": "de898f15-e6a1-44da-a366-9c129218b827",
   "metadata": {},
   "outputs": [
    {
     "data": {
      "application/vnd.jupyter.widget-view+json": {
       "model_id": "de7eb712419b44519844162086b15f45",
       "version_major": 2,
       "version_minor": 0
      },
      "text/plain": [
       "ToggleButtons(description='Speed:', options=('Slow', 'Regular', 'Fast'), tooltips=('Description of slow', 'Des…"
      ]
     },
     "execution_count": null,
     "metadata": {},
     "output_type": "execute_result"
    }
   ],
   "source": [
    "widgets.ToggleButtons(\n",
    "    options=['Slow', 'Regular', 'Fast'],\n",
    "    description='Speed:',\n",
    "    disabled=False,\n",
    "    button_style='', # 'success', 'info', 'warning', 'danger' or ''\n",
    "    tooltips=['Description of slow', 'Description of regular', 'Description of fast'],\n",
    "#     icons=['check'] * 3\n",
    ")"
   ]
  },
  {
   "cell_type": "markdown",
   "id": "e1d7d386-259f-4a38-a22e-c125de1101c3",
   "metadata": {},
   "source": [
    "### SelectMultiple\n",
    "Multiple values can be selected with <kbd>shift</kbd> and/or <kbd>ctrl</kbd> (or <kbd>command</kbd>) pressed and mouse clicks or arrow keys."
   ]
  },
  {
   "cell_type": "code",
   "execution_count": null,
   "id": "f042f2f7-9184-4a1b-98de-4b442e36099a",
   "metadata": {},
   "outputs": [
    {
     "data": {
      "application/vnd.jupyter.widget-view+json": {
       "model_id": "4f7c0355d8a84996aad9f656a9813a41",
       "version_major": 2,
       "version_minor": 0
      },
      "text/plain": [
       "SelectMultiple(description='Fruits', index=(1,), options=('Apples', 'Oranges', 'Pears'), value=('Oranges',))"
      ]
     },
     "execution_count": null,
     "metadata": {},
     "output_type": "execute_result"
    }
   ],
   "source": [
    "widgets.SelectMultiple(\n",
    "    options=['Apples', 'Oranges', 'Pears'],\n",
    "    value=['Oranges'],\n",
    "    #rows=10,\n",
    "    description='Fruits',\n",
    "    disabled=False\n",
    ")"
   ]
  },
  {
   "cell_type": "markdown",
   "id": "8503e963-b9fe-4dff-a630-19c156eb78df",
   "metadata": {},
   "source": [
    "## String widgets"
   ]
  },
  {
   "cell_type": "markdown",
   "id": "4c99e92d-7c1d-4431-a8f4-0144eccda323",
   "metadata": {},
   "source": [
    "There are several widgets that can be used to display a string value.  The `Text`, `Textarea`, and `Combobox` widgets accept input.  The `HTML` and `HTMLMath` widgets display a string as HTML (`HTMLMath` also renders math). The `Label` widget can be used to construct a custom control label."
   ]
  },
  {
   "cell_type": "markdown",
   "id": "055dabbd-6f56-455a-a037-137dfba6d0f6",
   "metadata": {},
   "source": [
    "### Text"
   ]
  },
  {
   "cell_type": "code",
   "execution_count": null,
   "id": "eec059aa-8277-47ee-a169-cd21e7431a35",
   "metadata": {},
   "outputs": [
    {
     "data": {
      "application/vnd.jupyter.widget-view+json": {
       "model_id": "d022a3e58d144da29157b6d04314ea84",
       "version_major": 2,
       "version_minor": 0
      },
      "text/plain": [
       "Text(value='Hello World', description='String:', placeholder='Type something')"
      ]
     },
     "execution_count": null,
     "metadata": {},
     "output_type": "execute_result"
    }
   ],
   "source": [
    "widgets.Text(\n",
    "    value='Hello World',\n",
    "    placeholder='Type something',\n",
    "    description='String:',\n",
    "    disabled=False   \n",
    ")"
   ]
  },
  {
   "cell_type": "markdown",
   "id": "f3ac4160-9eb6-478f-9d3c-c29405cb7890",
   "metadata": {},
   "source": [
    "### Textarea"
   ]
  },
  {
   "cell_type": "code",
   "execution_count": null,
   "id": "64862b9f-8f1d-49d6-b37a-5126fd7610b3",
   "metadata": {},
   "outputs": [
    {
     "data": {
      "application/vnd.jupyter.widget-view+json": {
       "model_id": "f26797e8454b4245b467dd05c42e5c56",
       "version_major": 2,
       "version_minor": 0
      },
      "text/plain": [
       "Textarea(value='Hello World', description='String:', placeholder='Type something')"
      ]
     },
     "execution_count": null,
     "metadata": {},
     "output_type": "execute_result"
    }
   ],
   "source": [
    "widgets.Textarea(\n",
    "    value='Hello World',\n",
    "    placeholder='Type something',\n",
    "    description='String:',\n",
    "    disabled=False\n",
    ")"
   ]
  },
  {
   "cell_type": "markdown",
   "id": "e873e018-8cf9-4676-b271-01bacaa4b164",
   "metadata": {},
   "source": [
    "### Combobox"
   ]
  },
  {
   "cell_type": "code",
   "execution_count": null,
   "id": "d7ff1916-e642-42a6-bbae-c30ee1b940ba",
   "metadata": {},
   "outputs": [
    {
     "data": {
      "application/vnd.jupyter.widget-view+json": {
       "model_id": "90463264ed344640a08c6baee2c27c6c",
       "version_major": 2,
       "version_minor": 0
      },
      "text/plain": [
       "Combobox(value='', description='Combobox:', ensure_option=True, options=('Paul', 'John', 'George', 'Ringo'), p…"
      ]
     },
     "execution_count": null,
     "metadata": {},
     "output_type": "execute_result"
    }
   ],
   "source": [
    "widgets.Combobox(\n",
    "    # value='John',\n",
    "    placeholder='Choose Someone',\n",
    "    options=['Paul', 'John', 'George', 'Ringo'],\n",
    "    description='Combobox:',\n",
    "    ensure_option=True,\n",
    "    disabled=False\n",
    ")"
   ]
  },
  {
   "cell_type": "markdown",
   "id": "dde786bf-ad7e-48cc-9133-dcc5ebec18a2",
   "metadata": {},
   "source": [
    "### Password\n",
    "\n",
    "The `Password` widget hides user input on the screen. **This widget is not a secure way to collect sensitive information because:**\n",
    "\n",
    "+ The contents of the `Password` widget are transmitted unencrypted.\n",
    "+ If the widget state is saved in the notebook the contents of the `Password` widget is stored as plain text."
   ]
  },
  {
   "cell_type": "code",
   "execution_count": null,
   "id": "ea6a6c91-6572-4da2-bec4-14bdbeed8ae9",
   "metadata": {},
   "outputs": [
    {
     "data": {
      "application/vnd.jupyter.widget-view+json": {
       "model_id": "a80e1e1ebbd246baa804459296a4e587",
       "version_major": 2,
       "version_minor": 0
      },
      "text/plain": [
       "Password(description='Password:', placeholder='Enter password')"
      ]
     },
     "execution_count": null,
     "metadata": {},
     "output_type": "execute_result"
    }
   ],
   "source": [
    "widgets.Password(\n",
    "    value='password',\n",
    "    placeholder='Enter password',\n",
    "    description='Password:',\n",
    "    disabled=False\n",
    ")"
   ]
  },
  {
   "cell_type": "markdown",
   "id": "2ae3cf0d-1c81-44c0-a15f-a395d32e6ecc",
   "metadata": {},
   "source": [
    "### Label\n",
    "\n",
    "The `Label` widget is useful if you need to build a custom description next to a control using similar styling to the built-in control descriptions."
   ]
  },
  {
   "cell_type": "code",
   "execution_count": null,
   "id": "4f1c3dc2-e5fa-42c1-b298-75e60297b6f6",
   "metadata": {},
   "outputs": [
    {
     "data": {
      "application/vnd.jupyter.widget-view+json": {
       "model_id": "bee376dbd31d49679a7805d7d67bafff",
       "version_major": 2,
       "version_minor": 0
      },
      "text/plain": [
       "HBox(children=(Label(value='The $m$ in $E=mc^2$:'), FloatSlider(value=0.0)))"
      ]
     },
     "execution_count": null,
     "metadata": {},
     "output_type": "execute_result"
    }
   ],
   "source": [
    "widgets.HBox([widgets.Label(value=\"The $m$ in $E=mc^2$:\"), widgets.FloatSlider()])"
   ]
  },
  {
   "cell_type": "markdown",
   "id": "49a9db89-40b9-4879-9664-110954a25c79",
   "metadata": {},
   "source": [
    "### HTML"
   ]
  },
  {
   "cell_type": "code",
   "execution_count": null,
   "id": "0b2e308c-ade6-4c5b-8aa1-bd5ca315a859",
   "metadata": {},
   "outputs": [
    {
     "data": {
      "application/vnd.jupyter.widget-view+json": {
       "model_id": "7ea696a294244d8a9ffed0645cf251d2",
       "version_major": 2,
       "version_minor": 0
      },
      "text/plain": [
       "HTML(value='Hello <b>World</b>', description='Some HTML', placeholder='Some HTML')"
      ]
     },
     "execution_count": null,
     "metadata": {},
     "output_type": "execute_result"
    }
   ],
   "source": [
    "widgets.HTML(\n",
    "    value=\"Hello <b>World</b>\",\n",
    "    placeholder='Some HTML',\n",
    "    description='Some HTML',\n",
    ")"
   ]
  },
  {
   "cell_type": "markdown",
   "id": "29dae52d-94be-4c33-af79-4d9252509970",
   "metadata": {},
   "source": [
    "### HTML Math"
   ]
  },
  {
   "cell_type": "code",
   "execution_count": null,
   "id": "48476cb5-043e-457d-ae47-161ec8ad5634",
   "metadata": {},
   "outputs": [
    {
     "data": {
      "application/vnd.jupyter.widget-view+json": {
       "model_id": "36b2aa9a3d024a07b3360020a41f4869",
       "version_major": 2,
       "version_minor": 0
      },
      "text/plain": [
       "HTMLMath(value='Some math and <i>HTML</i>: \\\\(x^2\\\\) and $$\\\\frac{x+1}{x-1}$$', description='Some HTML', place…"
      ]
     },
     "execution_count": null,
     "metadata": {},
     "output_type": "execute_result"
    }
   ],
   "source": [
    "widgets.HTMLMath(\n",
    "    value=r\"Some math and <i>HTML</i>: \\(x^2\\) and $$\\frac{x+1}{x-1}$$\",\n",
    "    placeholder='Some HTML',\n",
    "    description='Some HTML',\n",
    ")"
   ]
  },
  {
   "cell_type": "markdown",
   "id": "15c06d2b-ec0c-4c53-a573-c4c4dc970635",
   "metadata": {},
   "source": [
    "## Image"
   ]
  },
  {
   "cell_type": "code",
   "execution_count": null,
   "id": "1f2c3942-e8ec-4c50-a547-7da7e3c60dc1",
   "metadata": {},
   "outputs": [
    {
     "data": {
      "application/vnd.jupyter.widget-view+json": {
       "model_id": "483f70d9280643448cb70a01340fcf51",
       "version_major": 2,
       "version_minor": 0
      },
      "text/plain": [
       "Image(value=b'\\xff\\xd8\\xff\\xe0\\x00\\x10JFIF\\x00\\x01\\x01\\x00\\x00\\x01\\x00\\x01\\x00\\x00\\xff\\xfe\\x00;CREATOR: gd-jpe…"
      ]
     },
     "execution_count": null,
     "metadata": {},
     "output_type": "execute_result"
    }
   ],
   "source": [
    "file = open(\"bird.jpg\", \"rb\")\n",
    "image = file.read()\n",
    "widgets.Image(\n",
    "    value=image,\n",
    "    format='png',\n",
    "    width=300,\n",
    "    height=400,\n",
    ")"
   ]
  },
  {
   "cell_type": "markdown",
   "id": "8b43a833-e6e1-4cf9-b8fb-68d627822ef0",
   "metadata": {},
   "source": [
    "## Button"
   ]
  },
  {
   "cell_type": "code",
   "execution_count": null,
   "id": "a64a4eed-d3dc-49f7-89d4-76b6028dc0e1",
   "metadata": {},
   "outputs": [
    {
     "data": {
      "application/vnd.jupyter.widget-view+json": {
       "model_id": "d497fdf67b914242812129beb756ada6",
       "version_major": 2,
       "version_minor": 0
      },
      "text/plain": [
       "Button(description='Click me', icon='check', style=ButtonStyle(), tooltip='Click me')"
      ]
     },
     "execution_count": null,
     "metadata": {},
     "output_type": "execute_result"
    }
   ],
   "source": [
    "button = widgets.Button(\n",
    "    description='Click me',\n",
    "    disabled=False,\n",
    "    button_style='', # 'success', 'info', 'warning', 'danger' or ''\n",
    "    tooltip='Click me',\n",
    "    icon='check' # (FontAwesome names without the `fa-` prefix)\n",
    ")\n",
    "button"
   ]
  },
  {
   "cell_type": "markdown",
   "id": "83a9174d-8daf-46b1-a119-9beaeee8e203",
   "metadata": {},
   "source": [
    "The `icon` attribute can be used to define an icon; see the [fontawesome](https://fontawesome.com/icons) page for available icons. \n",
    "A callback function `foo` can be registered using `button.on_click(foo)`. The function `foo` will be called when the button is clicked with the button instance as its single argument."
   ]
  },
  {
   "cell_type": "markdown",
   "id": "1e6867de-3e57-4621-a804-4dfbebe42887",
   "metadata": {},
   "source": [
    "## Output\n",
    "\n",
    "The `Output` widget can capture and display stdout, stderr and [rich output generated by IPython](http://ipython.readthedocs.io/en/stable/api/generated/IPython.display.html#module-IPython.display). For detailed documentation, see the [output widget examples](https://ipywidgets.readthedocs.io/en/latest/examples/Output%20Widget.html)."
   ]
  },
  {
   "cell_type": "markdown",
   "id": "39d70d1c-99b2-4f69-b3fd-7194ec6ac38b",
   "metadata": {},
   "source": [
    "## Play (Animation) widget"
   ]
  },
  {
   "cell_type": "markdown",
   "id": "9816cb9d-aae3-43b8-9ee0-648b079d0591",
   "metadata": {},
   "source": [
    "The `Play` widget is useful to perform animations by iterating on a sequence of integers with a certain speed. The value of the slider below is linked to the player."
   ]
  },
  {
   "cell_type": "code",
   "execution_count": null,
   "id": "7ec9f6fb-6e39-4f47-ad71-24018c31b762",
   "metadata": {},
   "outputs": [
    {
     "data": {
      "application/vnd.jupyter.widget-view+json": {
       "model_id": "b51639287084459aa12c157608c1187e",
       "version_major": 2,
       "version_minor": 0
      },
      "text/plain": [
       "HBox(children=(Play(value=50, description='Press play', interval=500), IntSlider(value=0)))"
      ]
     },
     "execution_count": null,
     "metadata": {},
     "output_type": "execute_result"
    }
   ],
   "source": [
    "play = widgets.Play(\n",
    "    value=50,\n",
    "    min=0,\n",
    "    max=100,\n",
    "    step=1,\n",
    "    interval=500,\n",
    "    description=\"Press play\",\n",
    "    disabled=False\n",
    ")\n",
    "slider = widgets.IntSlider()\n",
    "widgets.jslink((play, 'value'), (slider, 'value'))\n",
    "widgets.HBox([play, slider])"
   ]
  },
  {
   "cell_type": "markdown",
   "id": "4390e980-2df0-4980-849c-c7277f6a5fa2",
   "metadata": {},
   "source": [
    "## Tag widgets"
   ]
  },
  {
   "cell_type": "markdown",
   "id": "819778f2-32a9-41d8-8b6c-4afcf294586b",
   "metadata": {},
   "source": [
    "### TagsInput\n",
    "\n",
    "The `TagsInput` widget is useful for selecting/creating a list of tags. You can drag and drop tags to reorder them, limit them to a set of allowed values, or even prevent making duplicate tags."
   ]
  },
  {
   "cell_type": "code",
   "execution_count": null,
   "id": "0a8a9ae5-3d65-48da-bd55-3c5efcb8e956",
   "metadata": {},
   "outputs": [
    {
     "data": {
      "application/vnd.jupyter.widget-view+json": {
       "model_id": "585cbdb45c6540d481a7771dfa6145c3",
       "version_major": 2,
       "version_minor": 0
      },
      "text/plain": [
       "TagsInput(value=['pizza', 'fries'], allow_duplicates=False, allowed_tags=['pizza', 'fries', 'tomatoes', 'steak…"
      ]
     },
     "execution_count": null,
     "metadata": {},
     "output_type": "execute_result"
    }
   ],
   "source": [
    "tags = widgets.TagsInput(\n",
    "    value=['pizza', 'fries'],\n",
    "    allowed_tags=['pizza', 'fries', 'tomatoes', 'steak'],\n",
    "    allow_duplicates=False\n",
    ")\n",
    "tags"
   ]
  },
  {
   "cell_type": "markdown",
   "id": "2b65f8e1-1e91-45d4-aaef-6dfd532d6ca5",
   "metadata": {},
   "source": [
    "### ColorsInput\n",
    "\n",
    "The `ColorsInput` widget is useful for selecting/creating a list of colors. You can drag and drop colors to reorder them, limit them to a set of allowed values, or even prevent making duplicate colors."
   ]
  },
  {
   "cell_type": "code",
   "execution_count": null,
   "id": "1264420b-6deb-46b3-826f-c45ee728669b",
   "metadata": {},
   "outputs": [
    {
     "data": {
      "application/vnd.jupyter.widget-view+json": {
       "model_id": "6228640b8a0c4b31beb78f69743f080a",
       "version_major": 2,
       "version_minor": 0
      },
      "text/plain": [
       "ColorsInput(value=['red', '#2f6d30'])"
      ]
     },
     "execution_count": null,
     "metadata": {},
     "output_type": "execute_result"
    }
   ],
   "source": [
    "color_tags = widgets.ColorsInput(\n",
    "    value=['red', '#2f6d30'],\n",
    "    # allowed_tags=['red', 'blue', 'green'],\n",
    "    # allow_duplicates=False\n",
    ")\n",
    "color_tags"
   ]
  },
  {
   "cell_type": "markdown",
   "id": "6ba7b6ae-5003-4c09-b34f-88899415713b",
   "metadata": {},
   "source": [
    "### Float and Integer Input widgets\n",
    "\n",
    "The `FloatInputs` and `IntsInput` widgets enable creating a list of float or integer numbers."
   ]
  },
  {
   "cell_type": "code",
   "execution_count": null,
   "id": "315899ba-8d5a-4fe4-b17e-bcfc6953ad10",
   "metadata": {},
   "outputs": [
    {
     "data": {
      "application/vnd.jupyter.widget-view+json": {
       "model_id": "4741b9dff0d44afcbf62e667681e9cb1",
       "version_major": 2,
       "version_minor": 0
      },
      "text/plain": [
       "FloatsInput(value=[1.3, 4.56, 78.9], format='.2f', tag_style='info')"
      ]
     },
     "execution_count": null,
     "metadata": {},
     "output_type": "execute_result"
    }
   ],
   "source": [
    "floatsinput = widgets.FloatsInput(\n",
    "    value=[1.3, 4.56, 78.90],\n",
    "    tag_style='info',\n",
    "    format = '.2f'\n",
    ")\n",
    "floatsinput"
   ]
  },
  {
   "cell_type": "code",
   "execution_count": null,
   "id": "f9615dde-c83d-44cc-9f6f-44e82aa71c37",
   "metadata": {},
   "outputs": [
    {
     "data": {
      "application/vnd.jupyter.widget-view+json": {
       "model_id": "1a9246fe035d48da83d436df3fc78944",
       "version_major": 2,
       "version_minor": 0
      },
      "text/plain": [
       "IntsInput(value=[1, 4, 3243], format='$,d', max=1000000, min=0)"
      ]
     },
     "execution_count": null,
     "metadata": {},
     "output_type": "execute_result"
    }
   ],
   "source": [
    "intsinput = widgets.IntsInput(\n",
    "    value=[1, 4, 3243],\n",
    "    min=0,\n",
    "    max=1000000,\n",
    "    format='$,d'\n",
    ")\n",
    "intsinput"
   ]
  },
  {
   "cell_type": "markdown",
   "id": "3b70c588-6858-4707-a912-eb6a1ece202c",
   "metadata": {},
   "source": [
    "## Date picker\n",
    "\n",
    "For a list of browsers that support the date picker widget, see the [MDN article for the HTML date input field](https://developer.mozilla.org/en-US/docs/Web/HTML/Element/input/date#Browser_compatibility)."
   ]
  },
  {
   "cell_type": "code",
   "execution_count": null,
   "id": "7be6b303-ac07-4904-ae8a-19c7ae2a3bfc",
   "metadata": {},
   "outputs": [
    {
     "data": {
      "application/vnd.jupyter.widget-view+json": {
       "model_id": "e1a181a405574b4dbf85cde22e40edd5",
       "version_major": 2,
       "version_minor": 0
      },
      "text/plain": [
       "DatePicker(value=None, description='Pick a Date', step=1)"
      ]
     },
     "execution_count": null,
     "metadata": {},
     "output_type": "execute_result"
    }
   ],
   "source": [
    "widgets.DatePicker(\n",
    "    description='Pick a Date',\n",
    "    disabled=False\n",
    ")"
   ]
  },
  {
   "cell_type": "markdown",
   "id": "9fe86e98-4ecb-4213-b33c-9f9ed8dc159e",
   "metadata": {},
   "source": [
    "## Time picker\n",
    "\n",
    "For a list of browsers that support the time picker widget, see the [MDN article for the HTML time input field](https://developer.mozilla.org/en-US/docs/Web/HTML/Element/input/time#Browser_compatibility)."
   ]
  },
  {
   "cell_type": "code",
   "execution_count": null,
   "id": "ffc143a0-4849-49b7-8b60-d9137e38de99",
   "metadata": {},
   "outputs": [
    {
     "data": {
      "application/vnd.jupyter.widget-view+json": {
       "model_id": "f0778e1759d44b9abb8a2f40943db023",
       "version_major": 2,
       "version_minor": 0
      },
      "text/plain": [
       "TimePicker(value=None, description='Pick a Time', step=60.0)"
      ]
     },
     "execution_count": null,
     "metadata": {},
     "output_type": "execute_result"
    }
   ],
   "source": [
    "widgets.TimePicker(\n",
    "    description='Pick a Time',\n",
    "    disabled=False\n",
    ")"
   ]
  },
  {
   "cell_type": "markdown",
   "id": "945f8fdc-d3d0-432c-9811-8d0b3ff58210",
   "metadata": {},
   "source": [
    "## Datetime picker\n",
    "\n",
    "For a list of browsers that support the datetime picker widget, see the [MDN article for the HTML datetime-local input field](https://developer.mozilla.org/en-US/docs/Web/HTML/Element/input/datetime-local#Browser_compatibility). For the browsers that do not support the datetime-local input, we try to fall back on displaying separate date and time inputs.\n",
    "\n",
    "### Time zones\n",
    "\n",
    "There are two points worth to note with regards to timezones for datetimes:\n",
    "- The browser always picks datetimes using *its* timezone.\n",
    "- The kernel always gets the datetimes in the default system timezone of the kernel (see https://docs.python.org/3/library/datetime.html#datetime.datetime.astimezone with `None` as the argument).\n",
    "\n",
    "This means that if the kernel and browser have different timezones, the default string serialization of the timezones might differ, but they will still represent the same point in time."
   ]
  },
  {
   "cell_type": "code",
   "execution_count": null,
   "id": "5179e425-07c1-4465-bde4-4a1d30aae85c",
   "metadata": {},
   "outputs": [
    {
     "data": {
      "application/vnd.jupyter.widget-view+json": {
       "model_id": "64be42666534423f8b50e6c7ee28c408",
       "version_major": 2,
       "version_minor": 0
      },
      "text/plain": [
       "DatetimePicker(value=None, description='Pick a Time')"
      ]
     },
     "execution_count": null,
     "metadata": {},
     "output_type": "execute_result"
    }
   ],
   "source": [
    "widgets.DatetimePicker(\n",
    "    description='Pick a Time',\n",
    "    disabled=False\n",
    ")"
   ]
  },
  {
   "cell_type": "markdown",
   "id": "24a3e49b-495a-44e8-b640-7e29997637d7",
   "metadata": {},
   "source": [
    "## Naive picker\n",
    "\n",
    "In some cases you might want to be able to pick naive datetime objects, i.e. timezone-unaware datetimes. To quote the Python 3 docs:\n",
    "\n",
    "> Naive objects are easy to understand and to work with, at the cost of ignoring some aspects of reality.\n",
    "\n",
    "This is useful if you need to compare the picked datetime to naive datetime objects, as Python will otherwise complain!"
   ]
  },
  {
   "cell_type": "code",
   "execution_count": null,
   "id": "db52d52c-298e-463f-a80d-4e5cee7c44cb",
   "metadata": {},
   "outputs": [
    {
     "data": {
      "application/vnd.jupyter.widget-view+json": {
       "model_id": "749af274b1224887b461f31b0b3ba349",
       "version_major": 2,
       "version_minor": 0
      },
      "text/plain": [
       "NaiveDatetimePicker(value=None, description='Pick a Time')"
      ]
     },
     "execution_count": null,
     "metadata": {},
     "output_type": "execute_result"
    }
   ],
   "source": [
    "widgets.NaiveDatetimePicker(description='Pick a Time')"
   ]
  },
  {
   "cell_type": "markdown",
   "id": "ac5a0bcf-1325-476f-a1f0-f4453c4042fb",
   "metadata": {},
   "source": [
    "## Color picker"
   ]
  },
  {
   "cell_type": "code",
   "execution_count": null,
   "id": "bcd3c76f-e2f2-4ee3-b7ff-cbd960da2e0b",
   "metadata": {},
   "outputs": [
    {
     "data": {
      "application/vnd.jupyter.widget-view+json": {
       "model_id": "6f111df8b08f4b7b9e21434b06cf6b8f",
       "version_major": 2,
       "version_minor": 0
      },
      "text/plain": [
       "ColorPicker(value='blue', description='Pick a color')"
      ]
     },
     "execution_count": null,
     "metadata": {},
     "output_type": "execute_result"
    }
   ],
   "source": [
    "widgets.ColorPicker(\n",
    "    concise=False,\n",
    "    description='Pick a color',\n",
    "    value='blue',\n",
    "    disabled=False\n",
    ")"
   ]
  },
  {
   "cell_type": "markdown",
   "id": "76eaa5c8-8121-4685-b2e0-19ed59c423c0",
   "metadata": {},
   "source": [
    "## File Upload\n",
    "\n",
    "The `FileUpload` allows to upload any type of file(s) into memory in the kernel."
   ]
  },
  {
   "cell_type": "code",
   "execution_count": null,
   "id": "eb0c4a97-f3f2-4953-9b82-0177f29e0323",
   "metadata": {},
   "outputs": [
    {
     "data": {
      "application/vnd.jupyter.widget-view+json": {
       "model_id": "2ef6ad3c09b64fe4a6b432abc469af25",
       "version_major": 2,
       "version_minor": 0
      },
      "text/plain": [
       "FileUpload(value=(), description='Upload')"
      ]
     },
     "execution_count": null,
     "metadata": {},
     "output_type": "execute_result"
    }
   ],
   "source": [
    "widgets.FileUpload(\n",
    "    accept='',  # Accepted file extension e.g. '.txt', '.pdf', 'image/*', 'image/*,.pdf'\n",
    "    multiple=False  # True to accept multiple files upload else False\n",
    ")"
   ]
  },
  {
   "cell_type": "markdown",
   "id": "1a6cd5d8-d85a-40f9-93e4-13dc89664a5b",
   "metadata": {},
   "source": [
    "The upload widget exposes a `value` attribute that contains the files uploaded. The value attribute is a tuple with a dictionary for each uploaded file. For instance:\n",
    "\n",
    "```python\n",
    "uploader = widgets.FileUpload()\n",
    "display(uploader)\n",
    "\n",
    "# upload something...\n",
    "\n",
    "# once a file is uploaded, use the `.value` attribute to retrieve the content:\n",
    "uploader.value\n",
    "#=> (\n",
    "#=>   {\n",
    "#=>     'name': 'example.txt',\n",
    "#=>     'type': 'text/plain',\n",
    "#=>     'size': 36,\n",
    "#=>     'last_modified': datetime.datetime(2020, 1, 9, 15, 58, 43, 321000, tzinfo=datetime.timezone.utc), \n",
    "#=>     'content': <memory at 0x10c1b37c8>\n",
    "#=>   },\n",
    "#=> )\n",
    "```\n",
    "\n",
    "Entries in the dictionary can be accessed either as items, as one would any dictionary, or as attributes:\n",
    "\n",
    "```\n",
    "uploaded_file = uploader.value[0]\n",
    "uploaded_file[\"size\"]\n",
    "#=> 36\n",
    "uploaded_file.size\n",
    "#=> 36\n",
    "```\n",
    "\n",
    "The contents of the file uploaded are in the value of the `content` key. They are a [memory view](https://docs.python.org/3/library/stdtypes.html#memory-views):\n",
    "\n",
    "```python\n",
    "uploaded_file.content\n",
    "#=> <memory at 0x10c1b37c8>\n",
    "```\n",
    "\n",
    "You can extract the content to bytes:\n",
    "\n",
    "```python\n",
    "uploaded_file.content.tobytes()\n",
    "#=> b'This is the content of example.txt.\\n'\n",
    "```\n",
    "\n",
    "If the file is a text file, you can get the contents as a string by [decoding it](https://docs.python.org/3/library/codecs.html):\n",
    "\n",
    "```python\n",
    "import codecs\n",
    "codecs.decode(uploaded_file.content, encoding=\"utf-8\")\n",
    "#=> 'This is the content of example.txt.\\n'\n",
    "```\n",
    "\n",
    "You can save the uploaded file to the filesystem from the kernel:\n",
    "\n",
    "```python\n",
    "with open(\"./saved-output.txt\", \"wb\") as fp:\n",
    "    fp.write(uploaded_file.content)\n",
    "```\n",
    "\n",
    "To convert the uploaded file into a Pandas dataframe, you can use a [BytesIO object](https://docs.python.org/3/library/io.html#binary-i-o):\n",
    "\n",
    "```python\n",
    "import io\n",
    "import pandas as pd\n",
    "pd.read_csv(io.BytesIO(uploaded_file.content))\n",
    "```\n",
    "\n",
    "If the uploaded file is an image, you can visualize it with an [image](#Image) widget:\n",
    "\n",
    "```python\n",
    "widgets.Image(value=uploaded_file.content.tobytes())\n",
    "```\n",
    "\n",
    "<div class=\"alert alert-info\">\n",
    "Changes in *ipywidgets 8*:\n",
    "    \n",
    "The `FileUpload` changed significantly in ipywidgets 8:\n",
    "    \n",
    "- The `.value` traitlet is now a list of dictionaries, rather than a dictionary mapping the uploaded name to the content. To retrieve the original form, use `{f[\"name\"]: f.content.tobytes() for f in uploader.value}`.\n",
    "- The `.data` traitlet has been removed. To retrieve it, use `[f.content.tobytes() for f in uploader.value]`.\n",
    "- The `.metadata` traitlet has been removed. To retrieve it, use `[{k: v for k, v in f.items() if k != \"content\"} for f in w.value]`.\n",
    "</div>\n",
    "\n",
    "<div class=\"alert alert-warning\">\n",
    "Warning: When using the `FileUpload` Widget, uploaded file content might be saved in the notebook if widget state is saved.\n",
    "</div>"
   ]
  },
  {
   "cell_type": "markdown",
   "id": "1b138639-ab3c-4479-9b18-633952ae14cf",
   "metadata": {},
   "source": [
    "## Controller\n",
    "\n",
    "The `Controller` allows a game controller to be used as an input device."
   ]
  },
  {
   "cell_type": "code",
   "execution_count": null,
   "id": "f97156df-fc32-4c65-8dcc-3493dd792678",
   "metadata": {},
   "outputs": [
    {
     "data": {
      "application/vnd.jupyter.widget-view+json": {
       "model_id": "f475fdf6601248f4b0b2147edb47d2dd",
       "version_major": 2,
       "version_minor": 0
      },
      "text/plain": [
       "Controller()"
      ]
     },
     "execution_count": null,
     "metadata": {},
     "output_type": "execute_result"
    }
   ],
   "source": [
    "widgets.Controller(\n",
    "    index=0,\n",
    ")"
   ]
  },
  {
   "cell_type": "markdown",
   "id": "f9492d5d-df5b-4a1d-82fc-1b2ccc9b29d5",
   "metadata": {},
   "source": [
    "## Container/Layout widgets\n",
    "\n",
    "These widgets are used to hold other widgets, called children. Each has a `children` property that may be set either when the widget is created or later."
   ]
  },
  {
   "cell_type": "markdown",
   "id": "769df56a-4d24-4161-9e3a-25f1ccb497c3",
   "metadata": {},
   "source": [
    "### Box"
   ]
  },
  {
   "cell_type": "code",
   "execution_count": null,
   "id": "e75d9c5a-b8f7-4454-b1ac-7ad3d31025fa",
   "metadata": {},
   "outputs": [
    {
     "data": {
      "application/vnd.jupyter.widget-view+json": {
       "model_id": "35bc29099dc445a283c9866c85ec4943",
       "version_major": 2,
       "version_minor": 0
      },
      "text/plain": [
       "Box(children=(Label(value='0'), Label(value='1'), Label(value='2'), Label(value='3')))"
      ]
     },
     "execution_count": null,
     "metadata": {},
     "output_type": "execute_result"
    }
   ],
   "source": [
    "items = [widgets.Label(str(i)) for i in range(4)]\n",
    "widgets.Box(items)"
   ]
  },
  {
   "cell_type": "markdown",
   "id": "33b72c7b-2b73-406a-bb96-feb4dd16e7b6",
   "metadata": {},
   "source": [
    "### HBox"
   ]
  },
  {
   "cell_type": "code",
   "execution_count": null,
   "id": "20fcea5b-7fac-419c-b7f5-b3d0a945c1bc",
   "metadata": {},
   "outputs": [
    {
     "data": {
      "application/vnd.jupyter.widget-view+json": {
       "model_id": "607445bf743a4162a79f2ac9ef79daaa",
       "version_major": 2,
       "version_minor": 0
      },
      "text/plain": [
       "HBox(children=(Label(value='0'), Label(value='1'), Label(value='2'), Label(value='3')))"
      ]
     },
     "execution_count": null,
     "metadata": {},
     "output_type": "execute_result"
    }
   ],
   "source": [
    "items = [widgets.Label(str(i)) for i in range(4)]\n",
    "widgets.HBox(items)"
   ]
  },
  {
   "cell_type": "markdown",
   "id": "773d391b-edfd-4b91-b3e7-fb8a69e04c2f",
   "metadata": {},
   "source": [
    "### VBox"
   ]
  },
  {
   "cell_type": "code",
   "execution_count": null,
   "id": "67cdf36c-3e6c-4062-ad6c-df40d9bf8436",
   "metadata": {},
   "outputs": [
    {
     "data": {
      "application/vnd.jupyter.widget-view+json": {
       "model_id": "716a3dcf5be045a79ede8a5cded0314e",
       "version_major": 2,
       "version_minor": 0
      },
      "text/plain": [
       "HBox(children=(VBox(children=(Label(value='0'), Label(value='1'))), VBox(children=(Label(value='2'), Label(val…"
      ]
     },
     "execution_count": null,
     "metadata": {},
     "output_type": "execute_result"
    }
   ],
   "source": [
    "items = [widgets.Label(str(i)) for i in range(4)]\n",
    "left_box = widgets.VBox([items[0], items[1]])\n",
    "right_box = widgets.VBox([items[2], items[3]])\n",
    "widgets.HBox([left_box, right_box])"
   ]
  },
  {
   "cell_type": "markdown",
   "id": "76bf67c4-ad1c-44c9-885b-6d27726c3bb1",
   "metadata": {},
   "source": [
    "### GridBox\n",
    "\n",
    "This box uses the HTML Grid specification to lay out its children in two dimensional grid. The example below lays out the 8 items inside in 3 columns and as many rows as needed to accommodate the items."
   ]
  },
  {
   "cell_type": "code",
   "execution_count": null,
   "id": "4b611eb1-b753-42df-a093-e50677dd0baf",
   "metadata": {},
   "outputs": [
    {
     "data": {
      "application/vnd.jupyter.widget-view+json": {
       "model_id": "bdf37e719c9c472e98d5f05577441464",
       "version_major": 2,
       "version_minor": 0
      },
      "text/plain": [
       "GridBox(children=(Label(value='0'), Label(value='1'), Label(value='2'), Label(value='3'), Label(value='4'), La…"
      ]
     },
     "execution_count": null,
     "metadata": {},
     "output_type": "execute_result"
    }
   ],
   "source": [
    "items = [widgets.Label(str(i)) for i in range(8)]\n",
    "widgets.GridBox(items, layout=widgets.Layout(grid_template_columns=\"repeat(3, 100px)\"))"
   ]
  },
  {
   "cell_type": "markdown",
   "id": "50fb6bd5-1f9e-4304-9eb2-9ddb608d7879",
   "metadata": {},
   "source": [
    "### Accordion"
   ]
  },
  {
   "cell_type": "code",
   "execution_count": null,
   "id": "67d3d245-5b2f-42ec-8ae5-ec9a751b22cb",
   "metadata": {},
   "outputs": [
    {
     "data": {
      "application/vnd.jupyter.widget-view+json": {
       "model_id": "030559462387420b96ac6699347a8a3c",
       "version_major": 2,
       "version_minor": 0
      },
      "text/plain": [
       "Accordion(children=(IntSlider(value=0), Text(value='')), titles=('Slider', 'Text'))"
      ]
     },
     "execution_count": null,
     "metadata": {},
     "output_type": "execute_result"
    }
   ],
   "source": [
    "accordion = widgets.Accordion(children=[widgets.IntSlider(), widgets.Text()], titles=('Slider', 'Text'))\n",
    "accordion"
   ]
  },
  {
   "cell_type": "markdown",
   "id": "af63491e-95fe-429b-86c5-d41a4789eae2",
   "metadata": {},
   "source": [
    "### Tabs\n",
    "\n",
    "In this example the children are set after the tab is created. Titles for the tabs are set in the same way they are for `Accordion`."
   ]
  },
  {
   "cell_type": "code",
   "execution_count": null,
   "id": "80be77dc-83be-4348-9c0b-e1df2f7ce032",
   "metadata": {},
   "outputs": [
    {
     "data": {
      "application/vnd.jupyter.widget-view+json": {
       "model_id": "2ec42e4ce71d4a929e0142f95a71edaf",
       "version_major": 2,
       "version_minor": 0
      },
      "text/plain": [
       "Tab(children=(Text(value='', description='P0'), Text(value='', description='P1'), Text(value='', description='…"
      ]
     },
     "execution_count": null,
     "metadata": {},
     "output_type": "execute_result"
    }
   ],
   "source": [
    "tab_contents = ['P0', 'P1', 'P2', 'P3', 'P4']\n",
    "children = [widgets.Text(description=name) for name in tab_contents]\n",
    "tab = widgets.Tab()\n",
    "tab.children = children\n",
    "tab.titles = [str(i) for i in range(len(children))]\n",
    "tab"
   ]
  },
  {
   "cell_type": "markdown",
   "id": "ff9e3a6b-9b92-43cf-85bc-fa28156709b7",
   "metadata": {},
   "source": [
    "### Stack\n",
    "\n",
    "The `Stack` widget can have multiple children widgets as for `Tab` and `Accordion`, but only shows one at a time depending on the value of ``selected_index``:"
   ]
  },
  {
   "cell_type": "code",
   "execution_count": null,
   "id": "0d0fe1bd-a10c-4388-a744-abdbfc716ae8",
   "metadata": {},
   "outputs": [
    {
     "data": {
      "application/vnd.jupyter.widget-view+json": {
       "model_id": "e56624d02227408ebf1c2f8db95ac2da",
       "version_major": 2,
       "version_minor": 0
      },
      "text/plain": [
       "Stack(children=(Button(description='Click here', style=ButtonStyle()), IntSlider(value=0)), selected_index=0, …"
      ]
     },
     "execution_count": null,
     "metadata": {},
     "output_type": "execute_result"
    }
   ],
   "source": [
    "button = widgets.Button(description='Click here')\n",
    "slider = widgets.IntSlider()\n",
    "stack = widgets.Stack([button, slider], selected_index=0)\n",
    "stack  # will show only the button"
   ]
  },
  {
   "cell_type": "markdown",
   "id": "d5fbe015-b964-459f-a5e4-c7ef85b9cf1d",
   "metadata": {},
   "source": [
    "This can be used in combination with another selection-based widget to show different widgets depending on the selection:"
   ]
  },
  {
   "cell_type": "code",
   "execution_count": null,
   "id": "bc4b58e5-e228-44cd-9c74-05481c34dca1",
   "metadata": {},
   "outputs": [
    {
     "data": {
      "application/vnd.jupyter.widget-view+json": {
       "model_id": "3ee5d1116c94463ab6a59a8b75aaf088",
       "version_major": 2,
       "version_minor": 0
      },
      "text/plain": [
       "VBox(children=(Dropdown(options=('button', 'slider'), value='button'), Stack(children=(Button(description='Cli…"
      ]
     },
     "execution_count": null,
     "metadata": {},
     "output_type": "execute_result"
    }
   ],
   "source": [
    "dropdown = widgets.Dropdown(options=['button', 'slider'])\n",
    "widgets.jslink((dropdown, 'index'), (stack, 'selected_index'))\n",
    "widgets.VBox([dropdown, stack])"
   ]
  },
  {
   "cell_type": "markdown",
   "id": "7dfe144f-cad2-4022-a6dc-b44fb65b2d25",
   "metadata": {},
   "source": [
    "### Accordion,  Tab, and Stack use `selected_index`, not value\n",
    "\n",
    "Unlike the rest of the widgets discussed earlier, the container widgets `Accordion` and `Tab` update their `selected_index` attribute when the user changes which accordion or tab is selected. That means that you can both see what the user is doing *and* programmatically set what the user sees by setting the value of `selected_index`.\n",
    "\n",
    "Setting `selected_index = None` closes all of the accordions or deselects all tabs."
   ]
  },
  {
   "cell_type": "markdown",
   "id": "dd2d5e0c-a26d-4c1e-9625-389c18feafc3",
   "metadata": {},
   "source": [
    "In the cells below try displaying or setting the `selected_index` of the `tab` and/or `accordion`."
   ]
  },
  {
   "cell_type": "code",
   "execution_count": null,
   "id": "ecfa3d42-8341-424a-bb6f-a34697e12a75",
   "metadata": {},
   "outputs": [],
   "source": [
    "tab.selected_index = 3"
   ]
  },
  {
   "cell_type": "code",
   "execution_count": null,
   "id": "9ab6d61a-ad6b-4665-8037-4d8545a36cec",
   "metadata": {},
   "outputs": [],
   "source": [
    "accordion.selected_index = None"
   ]
  },
  {
   "cell_type": "markdown",
   "id": "b4c03190-efba-4de4-a44b-2b48798590aa",
   "metadata": {},
   "source": [
    "### Nesting tabs and accordions\n",
    "\n",
    "Tabs and accordions can be nested as deeply as you want. If you have a few minutes, try nesting a few accordions or putting an accordion inside a tab or a tab inside an accordion. \n",
    "\n",
    "The example below makes a couple of tabs with an accordion children in one of them"
   ]
  },
  {
   "cell_type": "code",
   "execution_count": null,
   "id": "0e12475c-d6a2-4e10-907c-4ecb69dbab7a",
   "metadata": {},
   "outputs": [
    {
     "data": {
      "application/vnd.jupyter.widget-view+json": {
       "model_id": "fd9bbcd70ac74034bc27511dc68456f7",
       "version_major": 2,
       "version_minor": 0
      },
      "text/plain": [
       "Tab(children=(Accordion(children=(IntSlider(value=0), Text(value='')), titles=('Slider', 'Text')), Accordion(c…"
      ]
     },
     "execution_count": null,
     "metadata": {},
     "output_type": "execute_result"
    }
   ],
   "source": [
    "tab_nest = widgets.Tab()\n",
    "tab_nest.children = [accordion, accordion]\n",
    "tab_nest.titles = ('An accordion', 'Copy of the accordion')\n",
    "tab_nest"
   ]
  },
  {
   "cell_type": "code",
   "execution_count": null,
   "id": "18298199-e037-4d82-acc2-4df2c5b779cb",
   "metadata": {},
   "outputs": [],
   "source": []
  }
 ],
 "metadata": {
  "kernelspec": {
   "display_name": "python3",
   "language": "python",
   "name": "python3"
  },
  "widgets": {
   "application/vnd.jupyter.widget-state+json": {
    "state": {
     "09e22e390ef8466d89d483c2b9eb2b37": {
      "model_module": "@jupyter-widgets/base",
      "model_module_version": "2.0.0",
      "model_name": "LayoutModel",
      "state": {}
     },
     "493a7d98e0784de4b1483011fb9f0a22": {
      "model_module": "@jupyter-widgets/controls",
      "model_module_version": "2.0.0",
      "model_name": "SliderStyleModel",
      "state": {
       "description_width": ""
      }
     },
     "854e3d7e322c46c3bbb60a94004fc9f3": {
      "model_module": "@jupyter-widgets/controls",
      "model_module_version": "2.0.0",
      "model_name": "IntSliderModel",
      "state": {
       "behavior": "drag-tap",
       "layout": "IPY_MODEL_09e22e390ef8466d89d483c2b9eb2b37",
       "style": "IPY_MODEL_493a7d98e0784de4b1483011fb9f0a22",
       "value": 40
      }
     },
     "a55aa68bd28b4ce8950858a8d50b7dfe": {
      "model_module": "@jupyter-widgets/base",
      "model_module_version": "2.0.0",
      "model_name": "LayoutModel",
      "state": {}
     },
     "a7d1aacdeff94166838b6d26e5c9c117": {
      "model_module": "@jupyter-widgets/controls",
      "model_module_version": "2.0.0",
      "model_name": "IntSliderModel",
      "state": {
       "behavior": "drag-tap",
       "continuous_update": false,
       "description": "Test:",
       "layout": "IPY_MODEL_a55aa68bd28b4ce8950858a8d50b7dfe",
       "max": 10,
       "style": "IPY_MODEL_d65776f004b34161ac9c53ff5abc4b48",
       "value": 7
      }
     },
     "d65776f004b34161ac9c53ff5abc4b48": {
      "model_module": "@jupyter-widgets/controls",
      "model_module_version": "2.0.0",
      "model_name": "SliderStyleModel",
      "state": {
       "description_width": ""
      }
     }
    },
    "version_major": 2,
    "version_minor": 0
   }
  }
 },
 "nbformat": 4,
 "nbformat_minor": 5
}
