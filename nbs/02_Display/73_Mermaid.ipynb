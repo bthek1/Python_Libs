{
 "cells": [
  {
   "cell_type": "markdown",
   "id": "8f77c3a8-cc43-4de6-b916-a6a9abed4f5f",
   "metadata": {},
   "source": [
    "# Mermaid\n",
    "\n",
    "> Library for making Diagrams\n",
    "\n",
    "- skip_showdoc: true\n",
    "- skip_exec: true"
   ]
  },
  {
   "cell_type": "code",
   "execution_count": null,
   "id": "ae59c94e-eb02-4fc1-9171-e2e85c0b307a",
   "metadata": {},
   "outputs": [
    {
     "data": {
      "text/markdown": [
       "\n",
       "```mermaid\n",
       "graph TD\n",
       "    A[Start] --> B{Is it?}\n",
       "    B -->|Yes| C[Do something]\n",
       "    B -->|No| D[Do something else]\n",
       "    C --> E[End]\n",
       "    D --> E[End]\n",
       "\n"
      ],
      "text/plain": [
       "<IPython.core.display.Markdown object>"
      ]
     },
     "metadata": {},
     "output_type": "display_data"
    }
   ],
   "source": [
    "from IPython.display import display, Markdown\n",
    "\n",
    "display(Markdown('''\n",
    "```mermaid\n",
    "graph TD\n",
    "    A[Start] --> B{Is it?}\n",
    "    B -->|Yes| C[Do something]\n",
    "    B -->|No| D[Do something else]\n",
    "    C --> E[End]\n",
    "    D --> E[End]\n",
    "\n",
    "'''))"
   ]
  },
  {
   "cell_type": "markdown",
   "id": "988ac715-297f-4624-bdcc-af7339783358",
   "metadata": {},
   "source": [
    "#### 2. Sequence Diagram"
   ]
  },
  {
   "cell_type": "markdown",
   "id": "ec5d3c2e-209d-4c9c-9349-1d38694aaa50",
   "metadata": {},
   "source": [
    "```mermaid\n",
    "sequenceDiagram\n",
    "    participant Alice\n",
    "    participant Bob\n",
    "    Alice->>Bob: Hello Bob, how are you?\n",
    "    Bob-->>Alice: I am good thanks!\n",
    "    Alice->>Bob: Are you going to the party?\n",
    "    Bob-->>Alice: Yes, see you there!\n"
   ]
  },
  {
   "cell_type": "markdown",
   "id": "0113dc54-ed0d-477c-81a7-639e4f87a1ee",
   "metadata": {},
   "source": [
    "#### 3. Class Diagram"
   ]
  },
  {
   "cell_type": "markdown",
   "id": "52e68ced-941b-4ec9-b33c-54807027e3db",
   "metadata": {},
   "source": [
    "\n",
    "```mermaid\n",
    "classDiagram\n",
    "    Animal <|-- Duck\n",
    "    Animal <|-- Fish\n",
    "    Animal <|-- Zebra\n",
    "    Animal : +int age\n",
    "    Animal : +String gender\n",
    "    Animal: +isMammal()\n",
    "    Animal: +mate()\n",
    "    class Duck{\n",
    "      +String beakColor\n",
    "      +swim()\n",
    "      +quack()\n",
    "    }\n",
    "    class Fish{\n",
    "      -int sizeInFeet\n",
    "      -canEat()\n",
    "    }\n",
    "    class Zebra{\n",
    "      +bool is_wild\n",
    "      +run()\n",
    "    }"
   ]
  },
  {
   "cell_type": "markdown",
   "id": "4bb8af14-906e-4934-aa77-c91f9190f7a1",
   "metadata": {},
   "source": [
    "#### 4. Gantt Chart"
   ]
  },
  {
   "cell_type": "markdown",
   "id": "9e741f49-23de-4f3c-a7d1-c115b843f43e",
   "metadata": {},
   "source": [
    "```mermaid\n",
    "gantt\n",
    "    title A Gantt Diagram\n",
    "    dateFormat  YYYY-MM-DD\n",
    "    section Section\n",
    "    A task           :a1, 2024-01-01, 30d\n",
    "    Another task     :after a1  , 20d\n",
    "    section Another\n",
    "    Task in sec      :2024-01-12  , 12d\n",
    "    another task     : 24d"
   ]
  },
  {
   "cell_type": "markdown",
   "id": "fa4f699a-8245-4fe0-a883-2010ba8e93bb",
   "metadata": {},
   "source": [
    "## Running Mermaid Diagrams"
   ]
  },
  {
   "cell_type": "code",
   "execution_count": null,
   "id": "607edd8b-6aac-480e-8650-8a6ae5af9877",
   "metadata": {},
   "outputs": [
    {
     "data": {
      "text/html": [
       "\n",
       "<div class=\"mermaid\">\n",
       "  \n",
       "graph TD\n",
       "    A[Start] --> B{Is it?}\n",
       "    B -->|Yes| C[Do something]\n",
       "    B -->|No| D[Do something else]\n",
       "    C --> E[End]\n",
       "    D --> E[End]\n",
       "\n",
       "</div>\n",
       "<script type=\"module\">\n",
       "  import mermaid from 'https://cdn.jsdelivr.net/npm/mermaid@9/dist/mermaid.esm.min.mjs';\n",
       "  mermaid.initialize({ startOnLoad: true });\n",
       "</script>\n"
      ],
      "text/plain": [
       "<IPython.core.display.HTML object>"
      ]
     },
     "metadata": {},
     "output_type": "display_data"
    }
   ],
   "source": [
    "#|code-fold: true\n",
    "from IPython.display import display, HTML\n",
    "\n",
    "mermaid_code = \"\"\"\n",
    "graph TD\n",
    "    A[Start] --> B{Is it?}\n",
    "    B -->|Yes| C[Do something]\n",
    "    B -->|No| D[Do something else]\n",
    "    C --> E[End]\n",
    "    D --> E[End]\n",
    "\"\"\"\n",
    "\n",
    "display(HTML(f\"\"\"\n",
    "<div class=\"mermaid\">\n",
    "  {mermaid_code}\n",
    "</div>\n",
    "<script type=\"module\">\n",
    "  import mermaid from 'https://cdn.jsdelivr.net/npm/mermaid@9/dist/mermaid.esm.min.mjs';\n",
    "  mermaid.initialize({{ startOnLoad: true }});\n",
    "</script>\n",
    "\"\"\"))"
   ]
  },
  {
   "cell_type": "code",
   "execution_count": null,
   "id": "17c55a2d-0e48-4e48-87dd-77eb4bfb48a7",
   "metadata": {},
   "outputs": [],
   "source": []
  }
 ],
 "metadata": {
  "kernelspec": {
   "display_name": "python3",
   "language": "python",
   "name": "python3"
  },
  "widgets": {
   "application/vnd.jupyter.widget-state+json": {
    "state": {},
    "version_major": 2,
    "version_minor": 0
   }
  }
 },
 "nbformat": 4,
 "nbformat_minor": 5
}
