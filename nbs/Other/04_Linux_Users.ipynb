{
 "cells": [
  {
   "cell_type": "markdown",
   "id": "9d37fb92-8976-4b8f-8731-2c6084950894",
   "metadata": {},
   "source": [
    "# Linux Users, Groups and Permissions\n",
    "\n",
    "> Linux User, Groups and Permissions\n",
    "\n",
    "- skip_showdoc: true\n",
    "- skip_exec: true"
   ]
  },
  {
   "cell_type": "markdown",
   "id": "76ebe1d9-3400-460f-b92c-637165ff41d8",
   "metadata": {},
   "source": []
  },
  {
   "cell_type": "code",
   "execution_count": null,
   "id": "f1ce6178-2cf4-457f-977d-479f43950855",
   "metadata": {},
   "outputs": [],
   "source": []
  }
 ],
 "metadata": {
  "kernelspec": {
   "display_name": "python3",
   "language": "python",
   "name": "python3"
  }
 },
 "nbformat": 4,
 "nbformat_minor": 5
}
