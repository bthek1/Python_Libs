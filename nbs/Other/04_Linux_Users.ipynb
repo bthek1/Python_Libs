{
 "cells": [
  {
   "cell_type": "markdown",
   "id": "9d37fb92-8976-4b8f-8731-2c6084950894",
   "metadata": {},
   "source": [
    "# Linux Users, Groups and Permissions\n",
    "\n",
    "> Linux User, Groups and Permissions\n",
    "\n",
    "- skip_showdoc: true\n",
    "- skip_exec: true"
   ]
  },
  {
   "cell_type": "markdown",
   "id": "2da04fe6-a16e-444b-b88e-48340c93227d",
   "metadata": {},
   "source": [
    "## Vim Modes\n",
    "\n",
    "> Vim operates in several modes, each with a different purpose:"
   ]
  },
  {
   "cell_type": "markdown",
   "id": "a46e6bde-d993-4b5e-ad7a-a111c2f9389f",
   "metadata": {},
   "source": [
    "- Normal Mode (Command Mode):\n",
    "  - The default mode when you open Vim.\n",
    "  - Used for navigating and editing text.\n",
    "  - Common commands: `h`, `j`, `k`, `l` (move cursor), `x` (delete character), `dd` (delete line), `yy` (copy line), `p` (paste).\n",
    "\n",
    "- Insert Mode:\n",
    "  - Entered by pressing `i`, `a`, `o`, etc.\n",
    "  - Used for inserting or modifying text.\n",
    "  - Return to Normal mode by pressing Esc.\n",
    "\n",
    "- Visual Mode:\n",
    "  - Entered by pressing `v` (character-wise), `V` (line-wise), or `Ctrl+v` (block-wise).\n",
    "  - Used to select text for operations like copying or deleting.\n",
    "  - Commands: `y` (yank/copy), `d` (delete), `>`, `<` (indentation).\n",
    "\n",
    "- Command-Line Mode:\n",
    "        Entered by pressing `:` in Normal mode.\n",
    "        Used for executing commands like saving, quitting, searching, and more.\n",
    "        Example: `:w` (save), `:q` (quit), `:wq` (save and quit), `:x` (save and quit)."
   ]
  },
  {
   "cell_type": "markdown",
   "id": "bd17531d-3b03-4a46-be85-520ab66fa23b",
   "metadata": {},
   "source": [
    "## Basic Vim Commands"
   ]
  },
  {
   "cell_type": "markdown",
   "id": "d98f281a-12a5-40ee-a961-b7c800745ba7",
   "metadata": {},
   "source": [
    "- Opening a File:\n",
    "  - `vim filename`: Opens a file in Vim.\n",
    "  - `vim -R filename`: Opens a file in read-only mode.\n",
    "\n",
    "- Saving and Quitting:\n",
    "  - `:w`: Save the file.\n",
    "  - `:w filename`: Save as a new file.\n",
    "  - `:q`: Quit Vim.\n",
    "  - `:wq`: Save and quit.\n",
    "  - `:q!`: Quit without saving.\n",
    "  - `ZZ`: Save and quit (Normal mode).\n",
    "\n",
    "- Navigation:\n",
    "  - `h`, `j`, `k`, `l`: Move cursor left, down, up, right.\n",
    "  - `0`: Move to the beginning of the line.\n",
    "  - `$`: Move to the end of the line.\n",
    "  - `gg`: Move to the beginning of the file.\n",
    "  - `G`: Move to the end of the file.\n",
    "  - `Ctrl+d`, `Ctrl+u`: Scroll half-page down, up.\n",
    "  - `Ctrl+f`, `Ctrl+b`: Scroll full-page down, up.\n",
    "\n",
    "- Editing:\n",
    "  - `i`: Enter Insert mode before the cursor.\n",
    "  - `a`: Enter Insert mode after the cursor.\n",
    "  - `o`: Open a new line below and enter Insert mode.\n",
    "  - `O`: Open a new line above and enter Insert mode.\n",
    "  - `x`: Delete the character under the cursor.\n",
    "  - `dw`: Delete word.\n",
    "  - `dd`: Delete line.\n",
    "  - `u`: Undo.\n",
    "  - `Ctrl+r`: Redo.\n",
    "  - `y`: Yank (copy) selected text.\n",
    "  - `p`: Paste after the cursor.\n",
    "  - `P`: Paste before the cursor.\n",
    "\n",
    "- Search and Replace:\n",
    "  - `/pattern`: Search for a pattern.\n",
    "  - `n`: Repeat search forward.\n",
    "  - `N`: Repeat search backward.\n",
    "  - `:%s/old/new/g`: Replace all occurrences of old with new in the entire file.\n",
    "  - `:s/old/new/g`: Replace in the current line."
   ]
  },
  {
   "cell_type": "markdown",
   "id": "970694cf-da4e-4299-b50d-a0cc03fa010a",
   "metadata": {},
   "source": [
    "## Advanced Vim Features"
   ]
  },
  {
   "cell_type": "markdown",
   "id": "1aaecae2-dd96-4db8-a5ba-b9057b9bdbd6",
   "metadata": {},
   "source": [
    "- Registers:\n",
    "  - Vim has named registers (`\"a`, `\"b`, ...) for copying and pasting.\n",
    "  - Use `\"ay` to yank into register `a` and `\"ap` to paste from register `a`.\n",
    "\n",
    "- Macros:\n",
    "  - Record and replay sequences of commands.\n",
    "  - `q<register>`: Start recording a macro into a register (e.g., `qa`).\n",
    "  - `q`: Stop recording.\n",
    "  - `@a`: Replay the macro in register `a`.\n",
    "\n",
    "- Marks:\n",
    "  - Set marks to jump between points in a file.\n",
    "  - `m<letter>`: Set a mark (e.g., ma).\n",
    "  - `'a`: Jump to the mark `a`.\n",
    "\n",
    "- Buffers, Windows, and Tabs:\n",
    "  - Buffers: Multiple files opened in Vim.\n",
    "    - `:bnext`, `:bprev`: Navigate between buffers.\n",
    "  - Windows: Split screen for editing multiple files simultaneously.\n",
    "    - `:split filename`, `:vsplit filename`: Split horizontally or vertically.\n",
    "    - `Ctrl+w + h/j/k/l`: Navigate between windows.\n",
    "  - Tabs: Open files in tabs.\n",
    "    - `:tabnew filename`: Open a file in a new tab.\n",
    "    - `gt`, `gT`: Navigate between tabs.\n",
    "\n",
    "- Text Objects:\n",
    "  - Operate on text objects like words, sentences, paragraphs.\n",
    "  - `diw`: Delete inside word.\n",
    "  - `dap`: Delete a paragraph."
   ]
  },
  {
   "cell_type": "markdown",
   "id": "7e3cf5b4-71fe-473e-91ef-c0ae80ed93f2",
   "metadata": {},
   "source": [
    "## Customization"
   ]
  },
  {
   "cell_type": "markdown",
   "id": "ec5bcfb2-ab55-4f3d-aa90-8324522929f7",
   "metadata": {},
   "source": [
    "- .vimrc File:\n",
    "  - Vim configuration file located in your home directory.\n",
    "  - Example settings:\n",
    "```vim\n",
    "set number          \" Show line numbers\n",
    "syntax on           \" Enable syntax highlighting\n",
    "set tabstop=4       \" Set tab width to 4 spaces\n",
    "set expandtab       \" Convert tabs to spaces\n",
    "set shiftwidth=4    \" Indentation width\n",
    "set autoindent      \" Enable automatic indentation\n",
    "```"
   ]
  },
  {
   "cell_type": "markdown",
   "id": "5084bdf6-f4f0-408c-b483-f3441ce2c680",
   "metadata": {},
   "source": [
    "- Plugins:\n",
    "  - Extend Vim’s functionality with plugins.\n",
    "  - Vim Plugin Managers:\n",
    "    - Vundle: Plugin manager for Vim.\n",
    "    - Pathogen: Simplifies plugin management.\n",
    "    - vim-plug: A minimalist plugin manager.\n",
    "  - Example .vimrc for plugins:\n",
    "\n",
    "```vim\n",
    "call plug#begin('~/.vim/plugged')\n",
    "Plug 'scrooloose/nerdtree'           \" File explorer\n",
    "Plug 'tpope/vim-fugitive'            \" Git integration\n",
    "call plug#end()\n",
    "\n",
    "```"
   ]
  },
  {
   "cell_type": "markdown",
   "id": "c652d85c-9ddf-45bc-b977-1aaa456ced89",
   "metadata": {},
   "source": [
    "- Themes:\n",
    "  - Change the color scheme of Vim.\n",
    "  - Example:\n",
    "```vim\n",
    "colorscheme desert   \" Set color scheme to desert\n",
    "\n",
    "```"
   ]
  },
  {
   "cell_type": "code",
   "execution_count": null,
   "id": "152b635a-1602-41f3-8969-ba1facf0ec8a",
   "metadata": {},
   "outputs": [],
   "source": []
  }
 ],
 "metadata": {
  "kernelspec": {
   "display_name": "python3",
   "language": "python",
   "name": "python3"
  }
 },
 "nbformat": 4,
 "nbformat_minor": 5
}
