{
 "cells": [
  {
   "cell_type": "markdown",
   "id": "43d93270-29f8-44ea-8795-e8b967ec0325",
   "metadata": {},
   "source": [
    "# Vim\n",
    "\n",
    "> Vim\n",
    "\n",
    "\n",
    "- skip_showdoc: true\n",
    "- skip_exec: true"
   ]
  },
  {
   "cell_type": "code",
   "execution_count": null,
   "id": "690819f2-0bbe-412d-b269-1d7efee3e74d",
   "metadata": {},
   "outputs": [],
   "source": []
  }
 ],
 "metadata": {
  "kernelspec": {
   "display_name": "python3",
   "language": "python",
   "name": "python3"
  }
 },
 "nbformat": 4,
 "nbformat_minor": 5
}
