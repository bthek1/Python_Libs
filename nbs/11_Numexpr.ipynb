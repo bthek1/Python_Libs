{
 "cells": [
  {
   "cell_type": "markdown",
   "id": "6bd5c8af-4933-4fcd-8a6a-597af911e8a0",
   "metadata": {},
   "source": [
    "# Numexpr\n",
    "\n",
    ">  **NumExpr** is a fast numerical expression evaluator for NumPy. It speeds up mathematical computations by using multithreading and efficient evaluation techniques, making it ideal for large datasets or complex numerical expressions.\n",
    "\n",
    "\n",
    "- skip_showdoc: true\n",
    "- skip_exec: true"
   ]
  },
  {
   "cell_type": "markdown",
   "id": "0b876433-3069-421a-915b-5d4cf673a59f",
   "metadata": {},
   "source": [
    "## **1. What is NumExpr?**\n",
    "- **NumExpr** is a Python library for evaluating numerical expressions faster than pure Python or NumPy.\n",
    "- It compiles expressions into bytecode and evaluates them efficiently using vectorized operations and multi-threading."
   ]
  },
  {
   "cell_type": "markdown",
   "id": "04176c9d-7879-46f6-ab94-4b9b3eac37d7",
   "metadata": {},
   "source": [
    "## **2. Key Features**\n",
    "1. **Fast Execution**:\n",
    "   - Evaluates expressions more quickly than NumPy for large arrays by avoiding intermediate arrays.\n",
    "2. **Multithreading**:\n",
    "   - Uses multiple CPU cores for faster computations.\n",
    "3. **Memory Efficient**:\n",
    "   - Minimizes memory usage by not creating temporary arrays for intermediate results.\n",
    "4. **NumPy Integration**:\n",
    "   - Works seamlessly with NumPy arrays."
   ]
  },
  {
   "cell_type": "markdown",
   "id": "9fdb9b41-f956-4080-bc77-05d9aa4e27c1",
   "metadata": {},
   "source": [
    "## **3. Installation**\n",
    "To install NumExpr, use pip:\n",
    "```bash\n",
    "pip install numexpr\n",
    "```"
   ]
  },
  {
   "cell_type": "markdown",
   "id": "f1c388f9-b168-492e-88ce-9da33dd3efdf",
   "metadata": {},
   "source": [
    "## **4. Basic Usage**\n",
    "To evaluate a mathematical expression:\n",
    "```python\n",
    "import numexpr as ne\n",
    "\n",
    "# Define a NumPy array\n",
    "import numpy as np\n",
    "a = np.arange(1e6)\n",
    "\n",
    "# Evaluate an expression\n",
    "result = ne.evaluate(\"a ** 2 + 3 * a - 5\")\n",
    "```\n",
    "\n",
    "- **`ne.evaluate()`** takes a string expression and evaluates it.\n",
    "- It supports standard mathematical operations (`+`, `-`, `*`, `/`, `**`) and functions (e.g., `sin`, `cos`, `log`)."
   ]
  },
  {
   "cell_type": "code",
   "execution_count": null,
   "id": "a9cc28d7-acfd-4249-aae0-678e95fef987",
   "metadata": {},
   "outputs": [
    {
     "data": {
      "text/plain": [
       "(array([0.00000e+00, 1.00000e+00, 2.00000e+00, ..., 9.99997e+05,\n",
       "        9.99998e+05, 9.99999e+05], shape=(1000000,)),\n",
       " array([-5.000000e+00, -1.000000e+00,  5.000000e+00, ...,  9.999970e+11,\n",
       "         9.999990e+11,  1.000001e+12], shape=(1000000,)))"
      ]
     },
     "execution_count": null,
     "metadata": {},
     "output_type": "execute_result"
    }
   ],
   "source": [
    "import numexpr as ne\n",
    "\n",
    "# Define a NumPy array\n",
    "import numpy as np\n",
    "a = np.arange(1e6)\n",
    "\n",
    "# Evaluate an expression\n",
    "result = ne.evaluate(\"a ** 2 + 3 * a - 5\")\n",
    "a, result"
   ]
  },
  {
   "cell_type": "markdown",
   "id": "3e755d66-34c7-4167-8a72-ed30f196673e",
   "metadata": {},
   "source": [
    "## **5. Supported Operations**\n",
    "### A) **Arithmetic Operators**\n",
    "| Operator | Description  |\n",
    "|----------|--------------|\n",
    "| `+`      | Addition     |\n",
    "| `-`      | Subtraction  |\n",
    "| `*`      | Multiplication |\n",
    "| `/`      | Division     |\n",
    "| `**`     | Power        |\n",
    "| `%`      | Modulus      |\n",
    "\n",
    "Example:\n",
    "```python\n",
    "ne.evaluate(\"2 * a + 3\")\n",
    "```\n",
    "\n",
    "### B) **Relational and Logical Operators**\n",
    "| Operator | Description |\n",
    "|----------|-------------|\n",
    "| `<`      | Less than   |\n",
    "| `>`      | Greater than|\n",
    "| `<=`     | Less than or equal |\n",
    "| `>=`     | Greater than or equal |\n",
    "| `==`     | Equal       |\n",
    "| `!=`     | Not equal   |\n",
    "| `&`      | Logical AND |\n",
    "| `|`      | Logical OR  |\n",
    "\n",
    "Example:\n",
    "```python\n",
    "ne.evaluate(\"(a > 0.5) & (a < 0.8)\")\n",
    "```\n",
    "\n",
    "### C) **Mathematical Functions**\n",
    "| Function     | Description                  |\n",
    "|--------------|------------------------------|\n",
    "| `sin`, `cos`, `tan` | Trigonometric functions  |\n",
    "| `arcsin`, `arccos`, `arctan` | Inverse trigonometric functions |\n",
    "| `log`, `log10`, `exp` | Logarithm and exponential functions |\n",
    "| `sqrt`       | Square root                 |\n",
    "| `abs`        | Absolute value              |\n",
    "| `where`      | Conditional function        |\n",
    "\n",
    "Example:\n",
    "```python\n",
    "ne.evaluate(\"sqrt(a) + log(a)\")\n",
    "```"
   ]
  },
  {
   "cell_type": "markdown",
   "id": "16631912-d214-4b8c-af5f-8128e32eb103",
   "metadata": {},
   "source": [
    "## **6. Multithreading**\n",
    "NumExpr automatically uses multiple threads for parallel computation.\n",
    "\n",
    "### Adjusting the Number of Threads\n",
    "You can control the number of threads:\n",
    "```python\n",
    "import numexpr as ne\n",
    "\n",
    "# Set the number of threads\n",
    "ne.set_num_threads(4)\n",
    "\n",
    "# Get the current thread count\n",
    "print(ne.nthreads)\n",
    "```"
   ]
  },
  {
   "cell_type": "markdown",
   "id": "089fb7cd-2461-4f53-a407-b4e4adb95d1d",
   "metadata": {},
   "source": [
    "## **7. Benefits Over NumPy**\n",
    "| Feature                  | NumPy                  | NumExpr                 |\n",
    "|--------------------------|------------------------|-------------------------|\n",
    "| **Intermediate Arrays**  | Created                | Avoided                |\n",
    "| **Performance**          | Single-threaded        | Multithreaded          |\n",
    "| **Memory Usage**         | Higher (temp arrays)   | Lower (in-place)       |\n",
    "| **Syntax**               | Standard Python        | String-based expressions |"
   ]
  },
  {
   "cell_type": "markdown",
   "id": "d47d37d5-500d-471d-aec0-87a9470dbcaa",
   "metadata": {},
   "source": [
    "## **8. Error Handling**\n",
    "If there’s an issue with your expression, NumExpr will raise an error. Always validate your inputs to ensure compatibility.\n",
    "\n",
    "Example:\n",
    "```python\n",
    "try:\n",
    "    result = ne.evaluate(\"a ** 2 + invalid_function(a)\")\n",
    "except Exception as e:\n",
    "    print(f\"Error: {e}\")\n",
    "```"
   ]
  },
  {
   "cell_type": "markdown",
   "id": "d7ba1640-50bc-4564-ab1b-d8c95dde904a",
   "metadata": {},
   "source": [
    "## **9. When to Use NumExpr?**\n",
    "1. **Large Datasets**: Works best when processing large arrays.\n",
    "2. **Complex Expressions**: Reduces the overhead of creating temporary arrays.\n",
    "3. **Performance-Critical Applications**: Offers significant speed-ups over NumPy for heavy computations."
   ]
  },
  {
   "cell_type": "markdown",
   "id": "08344811-1550-48c6-864f-e14790e10009",
   "metadata": {},
   "source": [
    "## **10. Benchmarks**\n",
    "### Comparing NumPy and NumExpr:\n",
    "```python\n",
    "import numpy as np\n",
    "import numexpr as ne\n",
    "import time\n",
    "\n",
    "a = np.random.rand(1_000_000)\n",
    "\n",
    "# Using NumPy\n",
    "start = time.time()\n",
    "result_numpy = a**2 + 3*a - 5\n",
    "end = time.time()\n",
    "print(\"NumPy Time:\", end - start)\n",
    "\n",
    "# Using NumExpr\n",
    "start = time.time()\n",
    "result_numexpr = ne.evaluate(\"a**2 + 3*a - 5\")\n",
    "end = time.time()\n",
    "print(\"NumExpr Time:\", end - start)\n",
    "```\n",
    "\n",
    "Output (example):\n",
    "```\n",
    "NumPy Time: 0.015\n",
    "NumExpr Time: 0.008\n",
    "```"
   ]
  },
  {
   "cell_type": "markdown",
   "id": "db9d3b3f-b1f2-4c66-a1e6-30d6b260d740",
   "metadata": {},
   "source": [
    "## **11. Limitations**\n",
    "1. **String-based Syntax**:\n",
    "   - Expressions must be written as strings, which may feel less natural than Python’s native syntax.\n",
    "2. **Unsupported Functions**:\n",
    "   - Only supports a subset of NumPy functions.\n",
    "   - Custom Python functions cannot be used directly in expressions.\n",
    "3. **Not for Small Arrays**:\n",
    "   - Overhead may negate performance benefits for small datasets.\n",
    "4. **No GPU Support**:\n",
    "   - NumExpr is CPU-bound and does not leverage GPUs."
   ]
  },
  {
   "cell_type": "markdown",
   "id": "fa2744ad-8c26-48a7-b167-0b4426190748",
   "metadata": {},
   "source": [
    "## **12. Advanced Usage**\n",
    "### A) Conditional Expressions\n",
    "Use `where` to perform conditional operations:\n",
    "```python\n",
    "ne.evaluate(\"where(a > 0.5, a, 0)\")\n",
    "```\n",
    "\n",
    "### B) Broadcasting\n",
    "NumExpr supports broadcasting, similar to NumPy:\n",
    "```python\n",
    "b = np.arange(1, 1e6 + 1)\n",
    "ne.evaluate(\"a + b\")\n",
    "```\n",
    "\n",
    "### C) Chained Operations\n",
    "You can chain multiple operations in a single expression:\n",
    "```python\n",
    "ne.evaluate(\"(a ** 2 + b) / (a + 1)\")\n",
    "```"
   ]
  },
  {
   "cell_type": "markdown",
   "id": "dab0a756-dc44-4a12-9952-99a7ba327119",
   "metadata": {},
   "source": [
    "## **13. Common Use Cases**\n",
    "1. **Financial Calculations**:\n",
    "   - Fast evaluation of complex mathematical models.\n",
    "2. **Data Science and Machine Learning**:\n",
    "   - Preprocessing and transforming large datasets.\n",
    "3. **Simulations**:\n",
    "   - Efficiently evaluating mathematical models for physical systems.\n",
    "4. **Scientific Computing**:\n",
    "   - Speeding up computationally intensive numerical workflows."
   ]
  },
  {
   "cell_type": "markdown",
   "id": "bad2134f-eb6a-4dcc-9bd2-6ae5a3844396",
   "metadata": {},
   "source": [
    "## **14. Alternatives to NumExpr**\n",
    "1. **Numba**: Just-In-Time (JIT) compilation for Python, offering similar speed-ups.\n",
    "2. **CuPy**: GPU-based acceleration for NumPy-like operations.\n",
    "3. **SciPy**: Offers advanced numerical computing but lacks NumExpr’s speed for expressions."
   ]
  }
 ],
 "metadata": {
  "kernelspec": {
   "display_name": "python3",
   "language": "python",
   "name": "python3"
  }
 },
 "nbformat": 4,
 "nbformat_minor": 5
}
